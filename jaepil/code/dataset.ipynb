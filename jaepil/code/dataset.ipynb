{
 "cells": [
  {
   "cell_type": "code",
   "execution_count": 56,
   "id": "b8e36f60-0fb0-42ce-8ad5-cfc429470e94",
   "metadata": {},
   "outputs": [
    {
     "name": "stdout",
     "output_type": "stream",
     "text": [
      "Wed May 19 21:48:45 2021       \n",
      "+-----------------------------------------------------------------------------+\n",
      "| NVIDIA-SMI 418.67       Driver Version: 418.67       CUDA Version: 10.1     |\n",
      "|-------------------------------+----------------------+----------------------+\n",
      "| GPU  Name        Persistence-M| Bus-Id        Disp.A | Volatile Uncorr. ECC |\n",
      "| Fan  Temp  Perf  Pwr:Usage/Cap|         Memory-Usage | GPU-Util  Compute M. |\n",
      "|===============================+======================+======================|\n",
      "|   0  Tesla V100-PCIE...  On   | 00000000:00:05.0 Off |                  Off |\n",
      "| N/A   38C    P0    27W / 250W |     11MiB / 32480MiB |      0%      Default |\n",
      "+-------------------------------+----------------------+----------------------+\n",
      "                                                                               \n",
      "+-----------------------------------------------------------------------------+\n",
      "| Processes:                                                       GPU Memory |\n",
      "|  GPU       PID   Type   Process name                             Usage      |\n",
      "|=============================================================================|\n",
      "|  No running processes found                                                 |\n",
      "+-----------------------------------------------------------------------------+\n"
     ]
    }
   ],
   "source": [
    "!nvidia-smi"
   ]
  },
  {
   "cell_type": "code",
   "execution_count": 2,
   "id": "7fedfeaa-8bfc-443e-83c8-4d7ce240b48b",
   "metadata": {},
   "outputs": [
    {
     "name": "stdout",
     "output_type": "stream",
     "text": [
      "\n",
      "     active environment : dl38\n",
      "    active env location : /opt/conda/envs/dl38\n",
      "            shell level : 1\n",
      "       user config file : /opt/ml/.condarc\n",
      " populated config files : \n",
      "          conda version : 4.10.1\n",
      "    conda-build version : 3.18.11\n",
      "         python version : 3.7.7.final.0\n",
      "       virtual packages : __cuda=10.1=0\n",
      "                          __linux=4.4.0=0\n",
      "                          __glibc=2.27=0\n",
      "                          __unix=0=0\n",
      "                          __archspec=1=x86_64\n",
      "       base environment : /opt/conda  (writable)\n",
      "      conda av data dir : /opt/conda/etc/conda\n",
      "  conda av metadata url : https://repo.anaconda.com/pkgs/main\n",
      "           channel URLs : https://repo.anaconda.com/pkgs/main/linux-64\n",
      "                          https://repo.anaconda.com/pkgs/main/noarch\n",
      "                          https://repo.anaconda.com/pkgs/r/linux-64\n",
      "                          https://repo.anaconda.com/pkgs/r/noarch\n",
      "          package cache : /opt/conda/pkgs\n",
      "                          /opt/ml/.conda/pkgs\n",
      "       envs directories : /opt/conda/envs\n",
      "                          /opt/ml/.conda/envs\n",
      "               platform : linux-64\n",
      "             user-agent : conda/4.10.1 requests/2.25.1 CPython/3.7.7 Linux/4.4.0-59-generic ubuntu/18.04.5 glibc/2.27\n",
      "                UID:GID : 0:0\n",
      "             netrc file : /opt/ml/.netrc\n",
      "           offline mode : False\n",
      "\n"
     ]
    }
   ],
   "source": [
    "!conda info"
   ]
  },
  {
   "cell_type": "markdown",
   "id": "92a88140-285e-4146-9f52-1c19e9345f73",
   "metadata": {},
   "source": [
    "# KLUQUAD\n",
    "\n",
    "KLUE + KORQUAD"
   ]
  },
  {
   "cell_type": "code",
   "execution_count": 3,
   "id": "d8182697-07f1-4fcf-91ee-54b9753e22c9",
   "metadata": {},
   "outputs": [],
   "source": [
    "import torch\n",
    "from torch.utils.data import Dataset\n",
    "\n",
    "import datasets\n",
    "from datasets import load_from_disk, load_dataset\n",
    "\n",
    "import pandas as pd\n",
    "import numpy as np\n",
    "\n",
    "from tqdm import tqdm"
   ]
  },
  {
   "cell_type": "code",
   "execution_count": 4,
   "id": "063c2b49-7710-4f38-be35-6aeee85f5d38",
   "metadata": {},
   "outputs": [
    {
     "data": {
      "text/plain": [
       "'1.6.2'"
      ]
     },
     "execution_count": 4,
     "metadata": {},
     "output_type": "execute_result"
    }
   ],
   "source": [
    "datasets.__version__"
   ]
  },
  {
   "cell_type": "code",
   "execution_count": 5,
   "id": "1e301461-3edf-4833-8568-9df75528187f",
   "metadata": {},
   "outputs": [
    {
     "data": {
      "text/plain": [
       "True"
      ]
     },
     "execution_count": 5,
     "metadata": {},
     "output_type": "execute_result"
    }
   ],
   "source": [
    "torch.cuda.is_available()"
   ]
  },
  {
   "cell_type": "code",
   "execution_count": 6,
   "id": "35ca43ae-d498-463e-8172-cd4b21b63628",
   "metadata": {},
   "outputs": [],
   "source": [
    "import os, sys\n",
    "from pathlib import Path\n",
    "from glob import glob"
   ]
  },
  {
   "cell_type": "code",
   "execution_count": 7,
   "id": "9b915341-0695-4c38-9950-69a9a1228644",
   "metadata": {},
   "outputs": [
    {
     "data": {
      "text/plain": [
       "PosixPath('/opt/ml/jaepil')"
      ]
     },
     "execution_count": 7,
     "metadata": {},
     "output_type": "execute_result"
    }
   ],
   "source": [
    "BASE_PATH = Path('.').resolve().parent\n",
    "BASE_PATH"
   ]
  },
  {
   "cell_type": "code",
   "execution_count": 8,
   "id": "502f5888-b051-45ab-84bd-a855f871bacf",
   "metadata": {},
   "outputs": [],
   "source": [
    "sys.path.append(BASE_PATH.as_posix())"
   ]
  },
  {
   "cell_type": "code",
   "execution_count": 9,
   "id": "33fe2534-a18d-49ee-801b-3910b5b876a8",
   "metadata": {},
   "outputs": [
    {
     "data": {
      "text/plain": [
       "['/opt/ml/jaepil/code',\n",
       " '/opt/conda/envs/dl38/lib/python38.zip',\n",
       " '/opt/conda/envs/dl38/lib/python3.8',\n",
       " '/opt/conda/envs/dl38/lib/python3.8/lib-dynload',\n",
       " '',\n",
       " '/opt/conda/envs/dl38/lib/python3.8/site-packages',\n",
       " '/opt/conda/envs/dl38/lib/python3.8/site-packages/huggingface_hub-0.0.8-py3.8.egg',\n",
       " '/opt/conda/envs/dl38/lib/python3.8/site-packages/locket-0.2.1-py3.8.egg',\n",
       " '/opt/conda/envs/dl38/lib/python3.8/site-packages/IPython/extensions',\n",
       " '/opt/ml/.ipython',\n",
       " '/opt/ml/jaepil']"
      ]
     },
     "execution_count": 9,
     "metadata": {},
     "output_type": "execute_result"
    }
   ],
   "source": [
    "sys.path"
   ]
  },
  {
   "cell_type": "markdown",
   "id": "80773b96-c5ad-47c6-9293-5378e8d42713",
   "metadata": {},
   "source": [
    "## Load Data"
   ]
  },
  {
   "cell_type": "code",
   "execution_count": 10,
   "id": "74e63b33-a79f-4311-99d8-8f170f43a512",
   "metadata": {},
   "outputs": [
    {
     "data": {
      "text/plain": [
       "PosixPath('/opt/ml/jaepil/input/data/data')"
      ]
     },
     "execution_count": 10,
     "metadata": {},
     "output_type": "execute_result"
    }
   ],
   "source": [
    "data_path = BASE_PATH / \"input\" / \"data\" / \"data\"\n",
    "data_path"
   ]
  },
  {
   "cell_type": "code",
   "execution_count": 11,
   "id": "9a9a2741-d02e-43b9-b792-2f50d3f43d5b",
   "metadata": {},
   "outputs": [],
   "source": [
    "train_path = data_path / \"train_dataset\"\n",
    "\n",
    "train_data_path = train_path / \"train\"\n",
    "val_data_path = train_path / \"validation\""
   ]
  },
  {
   "cell_type": "code",
   "execution_count": 12,
   "id": "b83f2199-9e77-4237-aebe-e2668e78f3d3",
   "metadata": {},
   "outputs": [],
   "source": [
    "test_path = data_path / \"test_dataset\"\n",
    "\n",
    "test_data_path = test_path / \"validation\""
   ]
  },
  {
   "cell_type": "code",
   "execution_count": 47,
   "id": "510377bc-6775-4397-86b9-0bf48fac0210",
   "metadata": {},
   "outputs": [
    {
     "data": {
      "text/plain": [
       "DatasetDict({\n",
       "    train: Dataset({\n",
       "        features: ['__index_level_0__', 'answers', 'context', 'document_id', 'id', 'question', 'title'],\n",
       "        num_rows: 3952\n",
       "    })\n",
       "    validation: Dataset({\n",
       "        features: ['__index_level_0__', 'answers', 'context', 'document_id', 'id', 'question', 'title'],\n",
       "        num_rows: 240\n",
       "    })\n",
       "})"
      ]
     },
     "execution_count": 47,
     "metadata": {},
     "output_type": "execute_result"
    }
   ],
   "source": [
    "klue = load_from_disk(train_path)\n",
    "klue"
   ]
  },
  {
   "cell_type": "markdown",
   "id": "3176fc25-8df7-48b8-b35d-9cb30970b047",
   "metadata": {},
   "source": [
    "conda-forge 채널의 `datasets`는 1.2.1 이라 `remove_columns`가 안된다. \n",
    "\n",
    "huggingface 채널에서 깔아줘야 1.6.1 최신버전이 깔린다. \n",
    "\n",
    "하지만 아래에서 pandas로 concat할 것이라면 굳이 공통 column만 남겨줄 필요 없다. "
   ]
  },
  {
   "cell_type": "code",
   "execution_count": 14,
   "id": "161cb2bd-7d69-43d8-bfdc-ef30ad62b93d",
   "metadata": {},
   "outputs": [
    {
     "data": {
      "text/plain": [
       "DatasetDict({\n",
       "    train: Dataset({\n",
       "        features: ['answers', 'context', 'question', 'title'],\n",
       "        num_rows: 3952\n",
       "    })\n",
       "    validation: Dataset({\n",
       "        features: ['answers', 'context', 'question', 'title'],\n",
       "        num_rows: 240\n",
       "    })\n",
       "})"
      ]
     },
     "execution_count": 14,
     "metadata": {},
     "output_type": "execute_result"
    }
   ],
   "source": [
    "# klue_remove_columns = ['__index_level_0__', 'document_id', 'id',]\n",
    "\n",
    "# klue = klue.remove_columns(klue_remove_columns) # requires higher datasets version\n",
    "# klue"
   ]
  },
  {
   "cell_type": "code",
   "execution_count": 48,
   "id": "ec7a2eaf-b872-46af-bd1d-f08839840e68",
   "metadata": {},
   "outputs": [
    {
     "name": "stderr",
     "output_type": "stream",
     "text": [
      "Reusing dataset squad_kor_v1 (/opt/ml/.cache/huggingface/datasets/squad_kor_v1/squad_kor_v1/1.0.0/92f88eedc7d67b3f38389e8682eabe68caa450442cc4f7370a27873dbc045fe4)\n"
     ]
    },
    {
     "data": {
      "text/plain": [
       "DatasetDict({\n",
       "    train: Dataset({\n",
       "        features: ['id', 'title', 'context', 'question', 'answers'],\n",
       "        num_rows: 60407\n",
       "    })\n",
       "    validation: Dataset({\n",
       "        features: ['id', 'title', 'context', 'question', 'answers'],\n",
       "        num_rows: 5774\n",
       "    })\n",
       "})"
      ]
     },
     "execution_count": 48,
     "metadata": {},
     "output_type": "execute_result"
    }
   ],
   "source": [
    "korquad = load_dataset(\"squad_kor_v1\")\n",
    "korquad"
   ]
  },
  {
   "cell_type": "code",
   "execution_count": 17,
   "id": "6936f62f-e513-4be1-a70e-d34db12a525b",
   "metadata": {},
   "outputs": [
    {
     "data": {
      "text/plain": [
       "DatasetDict({\n",
       "    train: Dataset({\n",
       "        features: ['title', 'context', 'question', 'answers'],\n",
       "        num_rows: 60407\n",
       "    })\n",
       "    validation: Dataset({\n",
       "        features: ['title', 'context', 'question', 'answers'],\n",
       "        num_rows: 5774\n",
       "    })\n",
       "})"
      ]
     },
     "execution_count": 17,
     "metadata": {},
     "output_type": "execute_result"
    }
   ],
   "source": [
    "# korquad_remove_columns = ['id']\n",
    "# korquad = korquad.remove_columns(korquad_remove_columns)\n",
    "# korquad"
   ]
  },
  {
   "cell_type": "code",
   "execution_count": 39,
   "id": "64a30632-79fa-4950-b9d5-65f244817919",
   "metadata": {},
   "outputs": [
    {
     "data": {
      "text/plain": [
       "{'title': Value(dtype='string', id=None),\n",
       " 'context': Value(dtype='string', id=None),\n",
       " 'question': Value(dtype='string', id=None),\n",
       " 'answers': Sequence(feature={'text': Value(dtype='string', id=None), 'answer_start': Value(dtype='int32', id=None)}, length=-1, id=None)}"
      ]
     },
     "execution_count": 39,
     "metadata": {},
     "output_type": "execute_result"
    }
   ],
   "source": [
    "korquad['train'].features"
   ]
  },
  {
   "cell_type": "markdown",
   "id": "23b0632b-e764-4b57-a532-2b24527fdb89",
   "metadata": {},
   "source": [
    "## Concat data"
   ]
  },
  {
   "cell_type": "markdown",
   "id": "bbe74590-ced6-4035-8e6c-723f7b827084",
   "metadata": {},
   "source": [
    "그냥 두 `DatasetDict`를 concatenate 하려고 했지만 \n",
    "```\n",
    "    ValueError: Features must match for all datasets \n",
    "```\n",
    "에러가 발생한다. \n",
    "\n",
    "그냥 팀원들 코드처럼 pandas 기반으로 하겠다. "
   ]
  },
  {
   "cell_type": "code",
   "execution_count": 53,
   "id": "97c2f218-7f3f-48ba-aade-ab9755a5b48c",
   "metadata": {},
   "outputs": [
    {
     "data": {
      "text/plain": [
       "DatasetDict({\n",
       "    train: Dataset({\n",
       "        features: ['title', 'context', 'question', 'id', 'answers'],\n",
       "        num_rows: 64359\n",
       "    })\n",
       "    validation: Dataset({\n",
       "        features: ['title', 'context', 'question', 'id', 'answers'],\n",
       "        num_rows: 6014\n",
       "    })\n",
       "})"
      ]
     },
     "execution_count": 53,
     "metadata": {},
     "output_type": "execute_result"
    }
   ],
   "source": [
    "%%time\n",
    "\n",
    "kluquad = datasets.DatasetDict()\n",
    "\n",
    "for key in ['train', 'validation']:\n",
    "    merged_df = pd.concat(\n",
    "        [pd.DataFrame(klue[key]), pd.DataFrame(korquad[key])],\n",
    "        join='inner',\n",
    "        ignore_index=True,\n",
    "    )\n",
    "    kluquad[key] = datasets.Dataset.from_pandas(merged_df)\n",
    "\n",
    "kluquad"
   ]
  },
  {
   "cell_type": "code",
   "execution_count": 54,
   "id": "f9d9caa4-45c5-41ac-8b93-3db5af1f9284",
   "metadata": {},
   "outputs": [],
   "source": [
    "kluquad.save_to_disk(data_path / \"kluquad\")"
   ]
  },
  {
   "cell_type": "code",
   "execution_count": 55,
   "id": "f0313182-6c9d-4b94-84ee-a9e311c94491",
   "metadata": {},
   "outputs": [
    {
     "data": {
      "text/plain": [
       "DatasetDict({\n",
       "    train: Dataset({\n",
       "        features: ['answers', 'context', 'id', 'question', 'title'],\n",
       "        num_rows: 64359\n",
       "    })\n",
       "    validation: Dataset({\n",
       "        features: ['answers', 'context', 'id', 'question', 'title'],\n",
       "        num_rows: 6014\n",
       "    })\n",
       "})"
      ]
     },
     "execution_count": 55,
     "metadata": {},
     "output_type": "execute_result"
    }
   ],
   "source": [
    "kluquad = datasets.DatasetDict.load_from_disk(data_path / \"kluquad\")\n",
    "kluquad"
   ]
  },
  {
   "cell_type": "code",
   "execution_count": null,
   "id": "2c18ce41-1081-42f9-b0aa-e9b3382e8cc0",
   "metadata": {},
   "outputs": [],
   "source": []
  }
 ],
 "metadata": {
  "kernelspec": {
   "display_name": "Python 3",
   "language": "python",
   "name": "python3"
  },
  "language_info": {
   "codemirror_mode": {
    "name": "ipython",
    "version": 3
   },
   "file_extension": ".py",
   "mimetype": "text/x-python",
   "name": "python",
   "nbconvert_exporter": "python",
   "pygments_lexer": "ipython3",
   "version": "3.8.8"
  }
 },
 "nbformat": 4,
 "nbformat_minor": 5
}
