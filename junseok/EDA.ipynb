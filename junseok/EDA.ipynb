{
 "metadata": {
  "language_info": {
   "codemirror_mode": {
    "name": "ipython",
    "version": 3
   },
   "file_extension": ".py",
   "mimetype": "text/x-python",
   "name": "python",
   "nbconvert_exporter": "python",
   "pygments_lexer": "ipython3",
   "version": "3.7.7"
  },
  "orig_nbformat": 2,
  "kernelspec": {
   "name": "python377jvsc74a57bd098b0a9b7b4eaaa670588a142fd0a9b87eaafe866f1db4228be72b4211d12040f",
   "display_name": "Python 3.7.7 64-bit ('base': conda)"
  }
 },
 "nbformat": 4,
 "nbformat_minor": 2,
 "cells": [
  {
   "cell_type": "code",
   "execution_count": 1,
   "metadata": {},
   "outputs": [
    {
     "output_type": "stream",
     "name": "stdout",
     "text": [
      "\u001b[33mWARNING: Value for scheme.headers does not match. Please report this to <https://github.com/pypa/pip/issues/9617>\n",
      "distutils: /opt/conda/include/python3.7m/UNKNOWN\n",
      "sysconfig: /opt/conda/include/python3.7m\u001b[0m\n",
      "\u001b[33mWARNING: Additional context:\n",
      "user = False\n",
      "home = None\n",
      "root = None\n",
      "prefix = None\u001b[0m\n",
      "Requirement already satisfied: jupyter in /opt/conda/lib/python3.7/site-packages (1.0.0)\n",
      "Requirement already satisfied: nbconvert in /opt/conda/lib/python3.7/site-packages (from jupyter) (6.0.7)\n",
      "Requirement already satisfied: jupyter-console in /opt/conda/lib/python3.7/site-packages (from jupyter) (6.4.0)\n",
      "Requirement already satisfied: notebook in /opt/conda/lib/python3.7/site-packages (from jupyter) (6.3.0)\n",
      "Requirement already satisfied: qtconsole in /opt/conda/lib/python3.7/site-packages (from jupyter) (5.0.3)\n",
      "Requirement already satisfied: ipywidgets in /opt/conda/lib/python3.7/site-packages (from jupyter) (7.6.3)\n",
      "Requirement already satisfied: ipykernel in /opt/conda/lib/python3.7/site-packages (from jupyter) (5.5.3)\n",
      "Requirement already satisfied: tornado>=4.2 in /opt/conda/lib/python3.7/site-packages (from ipykernel->jupyter) (6.1)\n",
      "Requirement already satisfied: jupyter-client in /opt/conda/lib/python3.7/site-packages (from ipykernel->jupyter) (6.1.12)\n",
      "Requirement already satisfied: traitlets>=4.1.0 in /opt/conda/lib/python3.7/site-packages (from ipykernel->jupyter) (4.3.3)\n",
      "Requirement already satisfied: ipython>=5.0.0 in /opt/conda/lib/python3.7/site-packages (from ipykernel->jupyter) (7.16.1)\n",
      "Requirement already satisfied: prompt-toolkit!=3.0.0,!=3.0.1,<3.1.0,>=2.0.0 in /opt/conda/lib/python3.7/site-packages (from ipython>=5.0.0->ipykernel->jupyter) (3.0.5)\n",
      "Requirement already satisfied: decorator in /opt/conda/lib/python3.7/site-packages (from ipython>=5.0.0->ipykernel->jupyter) (4.4.2)\n",
      "Requirement already satisfied: backcall in /opt/conda/lib/python3.7/site-packages (from ipython>=5.0.0->ipykernel->jupyter) (0.2.0)\n",
      "Requirement already satisfied: pygments in /opt/conda/lib/python3.7/site-packages (from ipython>=5.0.0->ipykernel->jupyter) (2.6.1)\n",
      "Requirement already satisfied: pexpect in /opt/conda/lib/python3.7/site-packages (from ipython>=5.0.0->ipykernel->jupyter) (4.8.0)\n",
      "Requirement already satisfied: setuptools>=18.5 in /opt/conda/lib/python3.7/site-packages (from ipython>=5.0.0->ipykernel->jupyter) (46.4.0.post20200518)\n",
      "Requirement already satisfied: jedi>=0.10 in /opt/conda/lib/python3.7/site-packages (from ipython>=5.0.0->ipykernel->jupyter) (0.17.1)\n",
      "Requirement already satisfied: pickleshare in /opt/conda/lib/python3.7/site-packages (from ipython>=5.0.0->ipykernel->jupyter) (0.7.5)\n",
      "Requirement already satisfied: parso<0.8.0,>=0.7.0 in /opt/conda/lib/python3.7/site-packages (from jedi>=0.10->ipython>=5.0.0->ipykernel->jupyter) (0.7.0)\n",
      "Requirement already satisfied: wcwidth in /opt/conda/lib/python3.7/site-packages (from prompt-toolkit!=3.0.0,!=3.0.1,<3.1.0,>=2.0.0->ipython>=5.0.0->ipykernel->jupyter) (0.2.5)\n",
      "Requirement already satisfied: ipython-genutils in /opt/conda/lib/python3.7/site-packages (from traitlets>=4.1.0->ipykernel->jupyter) (0.2.0)\n",
      "Requirement already satisfied: six in /opt/conda/lib/python3.7/site-packages (from traitlets>=4.1.0->ipykernel->jupyter) (1.14.0)\n",
      "Requirement already satisfied: jupyterlab-widgets>=1.0.0 in /opt/conda/lib/python3.7/site-packages (from ipywidgets->jupyter) (1.0.0)\n",
      "Requirement already satisfied: nbformat>=4.2.0 in /opt/conda/lib/python3.7/site-packages (from ipywidgets->jupyter) (5.1.3)\n",
      "Requirement already satisfied: widgetsnbextension~=3.5.0 in /opt/conda/lib/python3.7/site-packages (from ipywidgets->jupyter) (3.5.1)\n",
      "Requirement already satisfied: jsonschema!=2.5.0,>=2.4 in /opt/conda/lib/python3.7/site-packages (from nbformat>=4.2.0->ipywidgets->jupyter) (3.2.0)\n",
      "Requirement already satisfied: jupyter-core in /opt/conda/lib/python3.7/site-packages (from nbformat>=4.2.0->ipywidgets->jupyter) (4.7.1)\n",
      "Requirement already satisfied: importlib-metadata in /opt/conda/lib/python3.7/site-packages (from jsonschema!=2.5.0,>=2.4->nbformat>=4.2.0->ipywidgets->jupyter) (4.0.1)\n",
      "Requirement already satisfied: attrs>=17.4.0 in /opt/conda/lib/python3.7/site-packages (from jsonschema!=2.5.0,>=2.4->nbformat>=4.2.0->ipywidgets->jupyter) (20.3.0)\n",
      "Requirement already satisfied: pyrsistent>=0.14.0 in /opt/conda/lib/python3.7/site-packages (from jsonschema!=2.5.0,>=2.4->nbformat>=4.2.0->ipywidgets->jupyter) (0.17.3)\n",
      "Requirement already satisfied: argon2-cffi in /opt/conda/lib/python3.7/site-packages (from notebook->jupyter) (20.1.0)\n",
      "Requirement already satisfied: pyzmq>=17 in /opt/conda/lib/python3.7/site-packages (from notebook->jupyter) (22.0.3)\n",
      "Requirement already satisfied: jinja2 in /opt/conda/lib/python3.7/site-packages (from notebook->jupyter) (2.11.2)\n",
      "Requirement already satisfied: Send2Trash>=1.5.0 in /opt/conda/lib/python3.7/site-packages (from notebook->jupyter) (1.5.0)\n",
      "Requirement already satisfied: terminado>=0.8.3 in /opt/conda/lib/python3.7/site-packages (from notebook->jupyter) (0.9.4)\n",
      "Requirement already satisfied: prometheus-client in /opt/conda/lib/python3.7/site-packages (from notebook->jupyter) (0.10.1)\n",
      "Requirement already satisfied: python-dateutil>=2.1 in /opt/conda/lib/python3.7/site-packages (from jupyter-client->ipykernel->jupyter) (2.8.1)\n",
      "Requirement already satisfied: ptyprocess in /opt/conda/lib/python3.7/site-packages (from terminado>=0.8.3->notebook->jupyter) (0.6.0)\n",
      "Requirement already satisfied: cffi>=1.0.0 in /opt/conda/lib/python3.7/site-packages (from argon2-cffi->notebook->jupyter) (1.14.0)\n",
      "Requirement already satisfied: pycparser in /opt/conda/lib/python3.7/site-packages (from cffi>=1.0.0->argon2-cffi->notebook->jupyter) (2.20)\n",
      "Requirement already satisfied: typing-extensions>=3.6.4 in /opt/conda/lib/python3.7/site-packages (from importlib-metadata->jsonschema!=2.5.0,>=2.4->nbformat>=4.2.0->ipywidgets->jupyter) (3.7.4.3)\n",
      "Requirement already satisfied: zipp>=0.5 in /opt/conda/lib/python3.7/site-packages (from importlib-metadata->jsonschema!=2.5.0,>=2.4->nbformat>=4.2.0->ipywidgets->jupyter) (3.4.1)\n",
      "Requirement already satisfied: MarkupSafe>=0.23 in /opt/conda/lib/python3.7/site-packages (from jinja2->notebook->jupyter) (1.1.1)\n",
      "Requirement already satisfied: bleach in /opt/conda/lib/python3.7/site-packages (from nbconvert->jupyter) (3.3.0)\n",
      "Requirement already satisfied: nbclient<0.6.0,>=0.5.0 in /opt/conda/lib/python3.7/site-packages (from nbconvert->jupyter) (0.5.3)\n",
      "Requirement already satisfied: testpath in /opt/conda/lib/python3.7/site-packages (from nbconvert->jupyter) (0.4.4)\n",
      "Requirement already satisfied: mistune<2,>=0.8.1 in /opt/conda/lib/python3.7/site-packages (from nbconvert->jupyter) (0.8.4)\n",
      "Requirement already satisfied: defusedxml in /opt/conda/lib/python3.7/site-packages (from nbconvert->jupyter) (0.7.1)\n",
      "Requirement already satisfied: pandocfilters>=1.4.1 in /opt/conda/lib/python3.7/site-packages (from nbconvert->jupyter) (1.4.3)\n",
      "Requirement already satisfied: jupyterlab-pygments in /opt/conda/lib/python3.7/site-packages (from nbconvert->jupyter) (0.1.2)\n",
      "Requirement already satisfied: entrypoints>=0.2.2 in /opt/conda/lib/python3.7/site-packages (from nbconvert->jupyter) (0.3)\n",
      "Requirement already satisfied: nest-asyncio in /opt/conda/lib/python3.7/site-packages (from nbclient<0.6.0,>=0.5.0->nbconvert->jupyter) (1.5.1)\n",
      "Requirement already satisfied: async-generator in /opt/conda/lib/python3.7/site-packages (from nbclient<0.6.0,>=0.5.0->nbconvert->jupyter) (1.10)\n",
      "Requirement already satisfied: packaging in /opt/conda/lib/python3.7/site-packages (from bleach->nbconvert->jupyter) (20.9)\n",
      "Requirement already satisfied: webencodings in /opt/conda/lib/python3.7/site-packages (from bleach->nbconvert->jupyter) (0.5.1)\n",
      "Requirement already satisfied: pyparsing>=2.0.2 in /opt/conda/lib/python3.7/site-packages (from packaging->bleach->nbconvert->jupyter) (2.4.7)\n",
      "Requirement already satisfied: qtpy in /opt/conda/lib/python3.7/site-packages (from qtconsole->jupyter) (1.9.0)\n",
      "\u001b[33mWARNING: Value for scheme.headers does not match. Please report this to <https://github.com/pypa/pip/issues/9617>\n",
      "distutils: /opt/conda/include/python3.7m/UNKNOWN\n",
      "sysconfig: /opt/conda/include/python3.7m\u001b[0m\n",
      "\u001b[33mWARNING: Additional context:\n",
      "user = False\n",
      "home = None\n",
      "root = None\n",
      "prefix = None\u001b[0m\n",
      "\u001b[33mWARNING: Running pip as root will break packages and permissions. You should install packages reliably by using venv: https://pip.pypa.io/warnings/venv\u001b[0m\n"
     ]
    }
   ],
   "source": [
    "# !conda install matplotlib -y\n",
    "# !conda install seaborn -y\n",
    "!pip install jupyter"
   ]
  },
  {
   "cell_type": "code",
   "execution_count": 10,
   "metadata": {},
   "outputs": [],
   "source": [
    "import matplotlib.pyplot as plt\n",
    "import pandas as pd\n",
    "import numpy as np\n",
    "import seaborn as sns\n",
    "import torch\n",
    "import datasets\n",
    "\n",
    "\n"
   ]
  },
  {
   "cell_type": "code",
   "execution_count": 4,
   "metadata": {},
   "outputs": [
    {
     "output_type": "execute_result",
     "data": {
      "text/plain": [
       "True"
      ]
     },
     "metadata": {},
     "execution_count": 4
    }
   ],
   "source": [
    "torch.cuda.is_available()"
   ]
  },
  {
   "source": [
    "data = datasets.load_from_disk('./MRC_Baseline_Code/data/train_dataset')\n",
    "data2 = datasets.load_dataset('squad_kor_v1')\n",
    "data3 = datasets.load_from_disk('./MRC_Baseline_Code/data/test_dataset')\n",
    "# print(data['validation'][5])"
   ],
   "cell_type": "code",
   "metadata": {},
   "execution_count": 9,
   "outputs": [
    {
     "output_type": "stream",
     "name": "stderr",
     "text": [
      "Reusing dataset squad_kor_v1 (/opt/ml/.cache/huggingface/datasets/squad_kor_v1/squad_kor_v1/1.0.0/31982418accc53b059af090befa81e68880acc667ca5405d30ce6fa7910950a7)\n"
     ]
    }
   ]
  },
  {
   "source": [
    "pd.set_option('display.max_colwidth', None)\n",
    "train=pd.DataFrame(data['train'])\n",
    "train2=pd.DataFrame(data2['train'])\n",
    "train3=pd.DataFrame(data3['validation'])"
   ],
   "cell_type": "code",
   "metadata": {
    "tags": []
   },
   "execution_count": 11,
   "outputs": []
  },
  {
   "cell_type": "code",
   "execution_count": 12,
   "metadata": {},
   "outputs": [
    {
     "output_type": "execute_result",
     "data": {
      "text/plain": [
       "             title  \\\n",
       "1392           리비우   \n",
       "377          크로라이나   \n",
       "3210           박문사   \n",
       "1637     채식 생태여성주의   \n",
       "1470  고다이인 (1773년)   \n",
       "\n",
       "                                                                                                                                                                                                                                                                                                                                                                                                                                                                                                                                                                                                                                                                                                                                                                                                                                                                                                                                                                                                                                                                                                                                                                                                                                                                                                                                                                           context  \\\n",
       "1392                                                                                                                                                                                                                                                                                                                                                                                                                                                                                                                                                                                                                                                                                                                                                                                                                                    갈리치아-볼히니아 왕국의 다닐로 로마노비치가 13세기에 건설하여 아들 레브(Лев)의 이름을 따라 이름을 지었다(그래서 라틴어 이름은 '레오폴리스'이다).\\n\\n중세와 초기근대에는 폴란드 왕국, 후에 폴란드-리투아니아 연방의 주요 도시로 성장하였다. 폴란드-리투아니아 연방의 분할 후 오스트리아-헝가리 제국 지배하에서는 주민의 대다수가 우크라이나인이었던 동부 갈리치아의 중심지였으나 정작 리비우 시만은 폴란드인과 유대인이 다수였다.\\n\\n1918년 오스트리아-헝가리 제국 붕괴 후 폴란드 제2공화국의 영토가 되었다. 제2차 세계 대전의 대학살, 민족청소와 강제이주를 거치면서 폴란드인·유대인 주민들은 급격히 감소하였다.\\n\\n제2차 세계 대전의 결과로 동부 갈리치아 지방이 소련의 영토가 되어 우크라이나 소비에트 사회주의 공화국에 합쳐지면서, 리비우는 우크라이나 민족주의의 중심지 가운데 하나가 되었다. 우크라이나의 수도 키예프와 함께 우크라이나 독립에 주도적인 역할을 하였다. 주요 산업으로는 기계 제조업(버스·농업·전기)이 있다.   \n",
       "377                                                                                                                                                                                                                                                                                                                                                                                                                                                                                                                                                                                                                                                                                                                                                           2세기 초반 이후, 누란(선선)에 관한 기록이 부족한 시대가 계속 된다. 이 시대의 선선은 경제적으로는 번영했다. 2세기 후반에 들어가면 한문 서적에 선선의 정보가 드물게 되었고, 3세기 전반에 들어가면 선선 자체 문자로 된 사료가 풍부하게 출토하게 된다. 이것들은 프라크리트어의 일종인 간다리어를 카로슈티 문자로 기록한 것이다. 이러한 문서의 양식이나, 그 중에 등장하는 왕호가 쿠샨 왕조의 그것과 유사한 점이 많아, 선선(누란)이 쿠샨계의 이주자에 의해서 정복되었다고 본다. 누란이 서방의 문화의 영향을 강하게 받았던 것으로 추측된다. 이 카로슈티 문자의 해석으로 이 시기의 선선이 로프노르 호수 주변에서 체드타에 이르는 영역을 유지하고 있었던 것을 알 수 있다. 다만 이러한 문서는 상업 문서나 명령서, 징세기록 등이 대부분이고, 정치적 사건의 기록은 부족해 3세기의 선선의 정치사는 잘 알려져 있지 않다. 다만 당시 선선 서쪽 근처의 우전(호탄, 당시의 문서에서는 코탄나)과 국경에서 자주 분쟁을 일으킨 티베트계 강족의 일파인 스피의 침입과 약탈로 골머리를 앓은 것으로 보인다. 이러한 실용문서와 출토품으로 당시 선선의 국정이나 사회상을 일부 엿볼 수 있다.   \n",
       "3210                                                                                                                                                                                                                                                                                      박문사(博文寺)는 일제 강점기에 서울 중구 장충단공원 동쪽 신라호텔 영빈관 자리에 있던 사찰이다.\\n\\n장충단은 본래 을미사변 때 피살된 시위연대장 홍계훈과 궁내부대신 이경직 등을 기리기 위해 대한제국 고종이 쌓은 제단이었다.\\n\\n이 곳은 명성황후를 살해한 일본에 대한 항일 감정을 상징하는 장소였기에 1919년 조선총독부는 장충단 자리를 공원으로 바꾸었다. 그리고 1932년에는 공원 동쪽에 이토 히로부미를 추모하기 위한 사찰을 짓고 사찰이 자리잡은 언덕을 춘무산(春畝山)이라고 불렀다. .박문사라는 이름은 이토의 이름 이등박문(伊藤博文)에서 따왔고, 춘무는 이토의 호이다. 박문사는 이토의 23주기 기일인 1932년 10월 26일에 완공되었다. 낙성식에는 조선총독 우가키 가즈시게와 이광수, 최린, 윤덕영 등의 친일부역자와 그외 천여명의 참석하였다\\n\\n정무총감 고다마 히데오(兒玉秀雄)가 발기하여 세워진 소토슈 사찰로 건평은 387평이었다. 설립 목적은 \"조선 초대총감 이토 히로부미의 훈업을 영구히 후세에 전\"하고 \"일본불교 진흥 및 일본인과 조선인의 굳은 정신적 결합\"을 도모하기 위한 것으로 명시되어 있다. 박문사 건축에는 광화문의 석재, 경복궁 선원전과 부속 건물, 남별궁의 석고각 등이 사용되었으며, 경희궁 정문인 흥화문을 이전하여 정문으로 사용하였다. 낙성식에는 조선총독 우가키 가즈시게가 참석하고 히로히토 천황과 황족들의 하사품도 전해졌다.\\n\\n1937년에는 일본군 육탄3용사의 동상을 세워 대륙침략을 위한 '정신기지'로 삼기도 하였다. 1939년에는 이 곳에서 이토를 포함하여 이용구, 송병준, 이완용 등 한일 병합 공로자를 위한 감사 위령제가 열리기도 했다. 이용구의 아들인 이석규가 흑룡회와 함께 개최한 이 행사에는 이광수와 최린, 윤덕영 등 약 1천여 명의 사람들이 참석했다.\\n\\n사찰은 대한민국 정부수립 이후 철거되었고 6.25전쟁으로 부속건물들이 파괴되었다 , 박문사 터로 추정되는 자리에는 현재 신라호텔 영빈관이 세워져 있다. 박문사는 사라졌지만 그곳으로 오르는 길고 가파른 돌계단은 남아있다가 신러호텔의 한옥호텔 착공으로 사라지게됐다.   \n",
       "1637                                                                                                                                                                                                                                                                                                                                                                                                                                                                                                                                                                                                                                                                채식 생태여성주의는 비인간 동물에 대한 인간의 착취에 중점을 두어, 모든 종류의 억압은 서로 연결되어 있고 이를 근절해야 한다고 주장하는 실천적, 학문적 운동을 말한다. 상호교차성이라는 여성주의적 관점은 성 차별, 인종 차별, 계급 차별 등 모든 종류의 인간적 억압은 상호 연관되어 있다는 인식을 환기시켰다. 채식 생태여성주의는 환경에 대한 착취뿐 아니라, 동시에 비인간 동물에 대한 인간의 착취를 지적한다. 채식 생태여성주의는 착취 대상에 대한 착취자의 억압에 자연에 대한 인간의 착취를 포함시켜야 한다고 주장하는 생태여성주의의 학문적, 철학적 하위 분야이다. 여성에 대한 착취가 자연에 대한 착취와 연결되어 있고, 양자 모두 억압의 해소를 위해 근절되어야 한다는 것이 생태여성주의의 주요 주제 중 하나이다\\n\\n채식 생태여성주의는 비인간 동물을 착취하고 죽이는 방식에 대한 관심을 환기시키고, 비인간 동물에 대한 억압이 인간 사이의 억압과 연결됐다고 믿는다는 점에서 생태여성주의를 확장한다고 볼 수 있다 종 차별은 채식 생태여성주의가 일반적인 생태여성주의와 구별되는 핵심 개념이다. 종 차별은 비인간 동물 사이의 계층을 인간 계층과 연결시킨다. 채식 환경생태주의가 비인간 동물에 대한 억압을 다른 종류의 억압, 특히 여성에 대한 억압과 연결짓는데 주목한다는 점에서 채식 생태여성주의와 생태여성주의를 구별하는 것이 중요하다.   \n",
       "1470  3살 즈음에 도쿠가와 요시무네의 증손 도요치요(豊千代, 훗날의 이에나리)와 약혼하고 시게히메로 이름을 바꾸었다. 약혼 직후 에도의 히토쓰바시 저택으로 이주하여 약혼자와 함께 자랐지만, 10대 쇼군 아들의 급서로 토요치요가 후계자가 되자 이 약혼이 문제가 되었다. 원래 쇼군의 정실은 3대 이에미츠 이후 셋케나 미야케(친왕가)에서 맞이하는 관례가 있어 도자마 다이묘의 딸이 정실이 된다는 것은 전례에 없던 일이었다. 이 때, 5대 사쓰마 번주의 정실이며 도쿠가와 쓰나요시의 양녀인 조간인(다케히메)이 약혼을 추진했다는 시게히데의 주장으로 인해 막부측에서도 약혼 13년 만에 혼인을 받아들이게 되었다. 하지만, 쇼군 정실에 대한 관례를 존중하여 시마즈가의 친척인 코노에 츠네히로의 양녀가 되어 「고노에 다다코(近衛寔子)」라는 이름으로 결혼하였다. 시마즈 시게히데의 정실 다모쓰히메가 이에나리의 고모인 관계로 남편과 시게히메는 사촌형제뻘이 되기도 했다.\\n\\n이 결혼으로 인해 시마즈 시게히데를 비릇하여 오토세노카타의 친족인 이치다 씨족까지 권세를 쥐게 되었다. 오토세노카타 역시 시마즈 나리노부의 생모를 포함한 다른 측실들을 에도저택에서 내쫓고 시게히데의 정실 행세를 하는 등의 횡포를 부려 훗날 근사록 붕괴의 중요 원인을 제공하였다.\\n\\n1796년 쇼군의 5남 도쿠가와 아쓰노스케를 낳아 시게히메 부녀의 권세는 더욱 위풍당당하게 되었다. 2대 쇼군 이래로 처음 태어난 정실 소생의 아들이었지만 이미 측실 소생의 민지로(후의 이에요시)가 후계자로 정해진 관계로 아쓰노스케는 시미즈 도쿠가와 가(고산쿄)의 양자가 되었다. 그러나 아쓰노스케는 3년 후에 요절하고 1798년에도 임신했으나 유산하게 된다. 더욱이 교만한 행동으로 인해 이에나리의 총애마저 잃게 되어 더이상 아이를 낳지 못하게 된다.\\n\\n이복남동생이자 9대 번주인 시마즈 나리노부가 강제은거된 후 재정난을 이유로 여러 번 귀향을 신청했으나 막부의 허락을 받지 못했다. 그 이유는 시게히메의 생모 사후 시마즈 나리오키가 이치다 일족을 사츠마에서 몰아낸 것에 격노하여 미다이도코로의 권위를 이용해 영향력을 행사한 결과라고 한다. 1837년 은거한 남편과 함께 니시노마루로 옮기고 「오오미다이도코로(大御台所)」라고 불리게 된다. 1841년 남편의 사망으로 인해 삭발출가하여 「고다이인(広大院)」이라는 계명을 받았다. 다음 해에는 종1위의 관직 등급을 받게되어 이후 「이치이사마」이라고 불리게 된다. 만년에 와서 이에나리의 측실이었던 오미요노카타가 자기 소생의 딸이 낳은 마에다 요시야스(14대 가가 번주)를 쇼군으로 옹립하려는 음모를 저지하는 활약을 하기도 했다.\\n\\n1844년 사망. 묘소는 조조지(増上寺).   \n",
       "\n",
       "                                    question            id  \\\n",
       "1392         리비우가 우크라이나의 민족주의 사상의 핵심이 된 계기는?  mrc-0-001348   \n",
       "377                      선선을 노리고 자주 공격한 집단은?  mrc-0-004732   \n",
       "3210                      장춘단 터가 공원으로 바뀐 해는?  mrc-0-003064   \n",
       "1637  생태여성주의의 학문적, 철학적 하위분야는 무엇에 요점을 두고 있는가?  mrc-1-001069   \n",
       "1470                      고노에 다다코의 결혼 전 이름은?  mrc-0-001185   \n",
       "\n",
       "                                                    answers  document_id  \\\n",
       "1392         {'answer_start': [350], 'text': ['제2차 세계 대전']}         8035   \n",
       "377    {'answer_start': [510], 'text': ['티베트계 강족의 일파인 스피']}        14332   \n",
       "3210             {'answer_start': [170], 'text': ['1919년']}        15023   \n",
       "1637  {'answer_start': [11], 'text': ['비인간 동물에 대한 인간의 착취']}        45818   \n",
       "1470               {'answer_start': [47], 'text': ['시게히메']}        14755   \n",
       "\n",
       "      __index_level_0__  \n",
       "1392                886  \n",
       "377                3085  \n",
       "3210               2018  \n",
       "1637                701  \n",
       "1470                775  "
      ],
      "text/html": "<div>\n<style scoped>\n    .dataframe tbody tr th:only-of-type {\n        vertical-align: middle;\n    }\n\n    .dataframe tbody tr th {\n        vertical-align: top;\n    }\n\n    .dataframe thead th {\n        text-align: right;\n    }\n</style>\n<table border=\"1\" class=\"dataframe\">\n  <thead>\n    <tr style=\"text-align: right;\">\n      <th></th>\n      <th>title</th>\n      <th>context</th>\n      <th>question</th>\n      <th>id</th>\n      <th>answers</th>\n      <th>document_id</th>\n      <th>__index_level_0__</th>\n    </tr>\n  </thead>\n  <tbody>\n    <tr>\n      <th>1392</th>\n      <td>리비우</td>\n      <td>갈리치아-볼히니아 왕국의 다닐로 로마노비치가 13세기에 건설하여 아들 레브(Лев)의 이름을 따라 이름을 지었다(그래서 라틴어 이름은 '레오폴리스'이다).\\n\\n중세와 초기근대에는 폴란드 왕국, 후에 폴란드-리투아니아 연방의 주요 도시로 성장하였다. 폴란드-리투아니아 연방의 분할 후 오스트리아-헝가리 제국 지배하에서는 주민의 대다수가 우크라이나인이었던 동부 갈리치아의 중심지였으나 정작 리비우 시만은 폴란드인과 유대인이 다수였다.\\n\\n1918년 오스트리아-헝가리 제국 붕괴 후 폴란드 제2공화국의 영토가 되었다. 제2차 세계 대전의 대학살, 민족청소와 강제이주를 거치면서 폴란드인·유대인 주민들은 급격히 감소하였다.\\n\\n제2차 세계 대전의 결과로 동부 갈리치아 지방이 소련의 영토가 되어 우크라이나 소비에트 사회주의 공화국에 합쳐지면서, 리비우는 우크라이나 민족주의의 중심지 가운데 하나가 되었다. 우크라이나의 수도 키예프와 함께 우크라이나 독립에 주도적인 역할을 하였다. 주요 산업으로는 기계 제조업(버스·농업·전기)이 있다.</td>\n      <td>리비우가 우크라이나의 민족주의 사상의 핵심이 된 계기는?</td>\n      <td>mrc-0-001348</td>\n      <td>{'answer_start': [350], 'text': ['제2차 세계 대전']}</td>\n      <td>8035</td>\n      <td>886</td>\n    </tr>\n    <tr>\n      <th>377</th>\n      <td>크로라이나</td>\n      <td>2세기 초반 이후, 누란(선선)에 관한 기록이 부족한 시대가 계속 된다. 이 시대의 선선은 경제적으로는 번영했다. 2세기 후반에 들어가면 한문 서적에 선선의 정보가 드물게 되었고, 3세기 전반에 들어가면 선선 자체 문자로 된 사료가 풍부하게 출토하게 된다. 이것들은 프라크리트어의 일종인 간다리어를 카로슈티 문자로 기록한 것이다. 이러한 문서의 양식이나, 그 중에 등장하는 왕호가 쿠샨 왕조의 그것과 유사한 점이 많아, 선선(누란)이 쿠샨계의 이주자에 의해서 정복되었다고 본다. 누란이 서방의 문화의 영향을 강하게 받았던 것으로 추측된다. 이 카로슈티 문자의 해석으로 이 시기의 선선이 로프노르 호수 주변에서 체드타에 이르는 영역을 유지하고 있었던 것을 알 수 있다. 다만 이러한 문서는 상업 문서나 명령서, 징세기록 등이 대부분이고, 정치적 사건의 기록은 부족해 3세기의 선선의 정치사는 잘 알려져 있지 않다. 다만 당시 선선 서쪽 근처의 우전(호탄, 당시의 문서에서는 코탄나)과 국경에서 자주 분쟁을 일으킨 티베트계 강족의 일파인 스피의 침입과 약탈로 골머리를 앓은 것으로 보인다. 이러한 실용문서와 출토품으로 당시 선선의 국정이나 사회상을 일부 엿볼 수 있다.</td>\n      <td>선선을 노리고 자주 공격한 집단은?</td>\n      <td>mrc-0-004732</td>\n      <td>{'answer_start': [510], 'text': ['티베트계 강족의 일파인 스피']}</td>\n      <td>14332</td>\n      <td>3085</td>\n    </tr>\n    <tr>\n      <th>3210</th>\n      <td>박문사</td>\n      <td>박문사(博文寺)는 일제 강점기에 서울 중구 장충단공원 동쪽 신라호텔 영빈관 자리에 있던 사찰이다.\\n\\n장충단은 본래 을미사변 때 피살된 시위연대장 홍계훈과 궁내부대신 이경직 등을 기리기 위해 대한제국 고종이 쌓은 제단이었다.\\n\\n이 곳은 명성황후를 살해한 일본에 대한 항일 감정을 상징하는 장소였기에 1919년 조선총독부는 장충단 자리를 공원으로 바꾸었다. 그리고 1932년에는 공원 동쪽에 이토 히로부미를 추모하기 위한 사찰을 짓고 사찰이 자리잡은 언덕을 춘무산(春畝山)이라고 불렀다. .박문사라는 이름은 이토의 이름 이등박문(伊藤博文)에서 따왔고, 춘무는 이토의 호이다. 박문사는 이토의 23주기 기일인 1932년 10월 26일에 완공되었다. 낙성식에는 조선총독 우가키 가즈시게와 이광수, 최린, 윤덕영 등의 친일부역자와 그외 천여명의 참석하였다\\n\\n정무총감 고다마 히데오(兒玉秀雄)가 발기하여 세워진 소토슈 사찰로 건평은 387평이었다. 설립 목적은 \"조선 초대총감 이토 히로부미의 훈업을 영구히 후세에 전\"하고 \"일본불교 진흥 및 일본인과 조선인의 굳은 정신적 결합\"을 도모하기 위한 것으로 명시되어 있다. 박문사 건축에는 광화문의 석재, 경복궁 선원전과 부속 건물, 남별궁의 석고각 등이 사용되었으며, 경희궁 정문인 흥화문을 이전하여 정문으로 사용하였다. 낙성식에는 조선총독 우가키 가즈시게가 참석하고 히로히토 천황과 황족들의 하사품도 전해졌다.\\n\\n1937년에는 일본군 육탄3용사의 동상을 세워 대륙침략을 위한 '정신기지'로 삼기도 하였다. 1939년에는 이 곳에서 이토를 포함하여 이용구, 송병준, 이완용 등 한일 병합 공로자를 위한 감사 위령제가 열리기도 했다. 이용구의 아들인 이석규가 흑룡회와 함께 개최한 이 행사에는 이광수와 최린, 윤덕영 등 약 1천여 명의 사람들이 참석했다.\\n\\n사찰은 대한민국 정부수립 이후 철거되었고 6.25전쟁으로 부속건물들이 파괴되었다 , 박문사 터로 추정되는 자리에는 현재 신라호텔 영빈관이 세워져 있다. 박문사는 사라졌지만 그곳으로 오르는 길고 가파른 돌계단은 남아있다가 신러호텔의 한옥호텔 착공으로 사라지게됐다.</td>\n      <td>장춘단 터가 공원으로 바뀐 해는?</td>\n      <td>mrc-0-003064</td>\n      <td>{'answer_start': [170], 'text': ['1919년']}</td>\n      <td>15023</td>\n      <td>2018</td>\n    </tr>\n    <tr>\n      <th>1637</th>\n      <td>채식 생태여성주의</td>\n      <td>채식 생태여성주의는 비인간 동물에 대한 인간의 착취에 중점을 두어, 모든 종류의 억압은 서로 연결되어 있고 이를 근절해야 한다고 주장하는 실천적, 학문적 운동을 말한다. 상호교차성이라는 여성주의적 관점은 성 차별, 인종 차별, 계급 차별 등 모든 종류의 인간적 억압은 상호 연관되어 있다는 인식을 환기시켰다. 채식 생태여성주의는 환경에 대한 착취뿐 아니라, 동시에 비인간 동물에 대한 인간의 착취를 지적한다. 채식 생태여성주의는 착취 대상에 대한 착취자의 억압에 자연에 대한 인간의 착취를 포함시켜야 한다고 주장하는 생태여성주의의 학문적, 철학적 하위 분야이다. 여성에 대한 착취가 자연에 대한 착취와 연결되어 있고, 양자 모두 억압의 해소를 위해 근절되어야 한다는 것이 생태여성주의의 주요 주제 중 하나이다\\n\\n채식 생태여성주의는 비인간 동물을 착취하고 죽이는 방식에 대한 관심을 환기시키고, 비인간 동물에 대한 억압이 인간 사이의 억압과 연결됐다고 믿는다는 점에서 생태여성주의를 확장한다고 볼 수 있다 종 차별은 채식 생태여성주의가 일반적인 생태여성주의와 구별되는 핵심 개념이다. 종 차별은 비인간 동물 사이의 계층을 인간 계층과 연결시킨다. 채식 환경생태주의가 비인간 동물에 대한 억압을 다른 종류의 억압, 특히 여성에 대한 억압과 연결짓는데 주목한다는 점에서 채식 생태여성주의와 생태여성주의를 구별하는 것이 중요하다.</td>\n      <td>생태여성주의의 학문적, 철학적 하위분야는 무엇에 요점을 두고 있는가?</td>\n      <td>mrc-1-001069</td>\n      <td>{'answer_start': [11], 'text': ['비인간 동물에 대한 인간의 착취']}</td>\n      <td>45818</td>\n      <td>701</td>\n    </tr>\n    <tr>\n      <th>1470</th>\n      <td>고다이인 (1773년)</td>\n      <td>3살 즈음에 도쿠가와 요시무네의 증손 도요치요(豊千代, 훗날의 이에나리)와 약혼하고 시게히메로 이름을 바꾸었다. 약혼 직후 에도의 히토쓰바시 저택으로 이주하여 약혼자와 함께 자랐지만, 10대 쇼군 아들의 급서로 토요치요가 후계자가 되자 이 약혼이 문제가 되었다. 원래 쇼군의 정실은 3대 이에미츠 이후 셋케나 미야케(친왕가)에서 맞이하는 관례가 있어 도자마 다이묘의 딸이 정실이 된다는 것은 전례에 없던 일이었다. 이 때, 5대 사쓰마 번주의 정실이며 도쿠가와 쓰나요시의 양녀인 조간인(다케히메)이 약혼을 추진했다는 시게히데의 주장으로 인해 막부측에서도 약혼 13년 만에 혼인을 받아들이게 되었다. 하지만, 쇼군 정실에 대한 관례를 존중하여 시마즈가의 친척인 코노에 츠네히로의 양녀가 되어 「고노에 다다코(近衛寔子)」라는 이름으로 결혼하였다. 시마즈 시게히데의 정실 다모쓰히메가 이에나리의 고모인 관계로 남편과 시게히메는 사촌형제뻘이 되기도 했다.\\n\\n이 결혼으로 인해 시마즈 시게히데를 비릇하여 오토세노카타의 친족인 이치다 씨족까지 권세를 쥐게 되었다. 오토세노카타 역시 시마즈 나리노부의 생모를 포함한 다른 측실들을 에도저택에서 내쫓고 시게히데의 정실 행세를 하는 등의 횡포를 부려 훗날 근사록 붕괴의 중요 원인을 제공하였다.\\n\\n1796년 쇼군의 5남 도쿠가와 아쓰노스케를 낳아 시게히메 부녀의 권세는 더욱 위풍당당하게 되었다. 2대 쇼군 이래로 처음 태어난 정실 소생의 아들이었지만 이미 측실 소생의 민지로(후의 이에요시)가 후계자로 정해진 관계로 아쓰노스케는 시미즈 도쿠가와 가(고산쿄)의 양자가 되었다. 그러나 아쓰노스케는 3년 후에 요절하고 1798년에도 임신했으나 유산하게 된다. 더욱이 교만한 행동으로 인해 이에나리의 총애마저 잃게 되어 더이상 아이를 낳지 못하게 된다.\\n\\n이복남동생이자 9대 번주인 시마즈 나리노부가 강제은거된 후 재정난을 이유로 여러 번 귀향을 신청했으나 막부의 허락을 받지 못했다. 그 이유는 시게히메의 생모 사후 시마즈 나리오키가 이치다 일족을 사츠마에서 몰아낸 것에 격노하여 미다이도코로의 권위를 이용해 영향력을 행사한 결과라고 한다. 1837년 은거한 남편과 함께 니시노마루로 옮기고 「오오미다이도코로(大御台所)」라고 불리게 된다. 1841년 남편의 사망으로 인해 삭발출가하여 「고다이인(広大院)」이라는 계명을 받았다. 다음 해에는 종1위의 관직 등급을 받게되어 이후 「이치이사마」이라고 불리게 된다. 만년에 와서 이에나리의 측실이었던 오미요노카타가 자기 소생의 딸이 낳은 마에다 요시야스(14대 가가 번주)를 쇼군으로 옹립하려는 음모를 저지하는 활약을 하기도 했다.\\n\\n1844년 사망. 묘소는 조조지(増上寺).</td>\n      <td>고노에 다다코의 결혼 전 이름은?</td>\n      <td>mrc-0-001185</td>\n      <td>{'answer_start': [47], 'text': ['시게히메']}</td>\n      <td>14755</td>\n      <td>775</td>\n    </tr>\n  </tbody>\n</table>\n</div>"
     },
     "metadata": {},
     "execution_count": 12
    }
   ],
   "source": [
    "train.sample(5)"
   ]
  },
  {
   "source": [
    "train2.sample(5)"
   ],
   "cell_type": "code",
   "metadata": {},
   "execution_count": 13,
   "outputs": [
    {
     "output_type": "execute_result",
     "data": {
      "text/plain": [
       "                                           answers  \\\n",
       "33231      {'answer_start': [64], 'text': ['우르크']}   \n",
       "13919   {'answer_start': [102], 'text': ['절연 구간']}   \n",
       "24760   {'answer_start': [28], 'text': ['7월 29일']}   \n",
       "20670     {'answer_start': [203], 'text': ['14개']}   \n",
       "30786  {'answer_start': [11], 'text': ['애머스트 장군']}   \n",
       "\n",
       "                                                                                                                                                                                                                                                                                                                                                                                                                                                                                                                                                         context  \\\n",
       "33231                                                                                                   그러나 강모연은 유시진과 헤어진 후 생명보다 이윤을 추구하는 의사가 되어 버린다. 이후 유시진은 평화 유지를 위해 우르크에 파병되고, 강모연은 의료 봉사차 그곳에 온다. 우르크는 2004년 한국이 평화유지군을 파병한 이라크를 상징한다. 현실과 허구가 뒤섞인 이곳에서 둘은 “조국이 지켜야 할 국민의 인권”이라는 가치를 공유하며 사랑을 키워 나간다. 강모연은 우르크에서의 경험으로 이윤보다 생명이 우선이라는 의사로서의 초심을 회복하게 된다. 우르크에서 재난과 봉사를 경험하고 강모연은 히포크라테스 선서를 떠올린다. \"나의 생애를 인류봉사에 바칠 것을 엄숙히 서약하노라. 나의 환자의 건강과 생명을 첫째로 생각하겠노라. 나는 인종, 종교, 국적, 사회적 지위를 초월하여 오직 환자에 대한 나의 의무를 지키겠노라. 비록 위협을 당할지라도 나의 지식을 인도에 어긋나게 쓰지 않겠노라. (6회)\"   \n",
       "13919                                                                                                                           당시 이 공사로 천문학적인 막대한 액수의 금액이 들어갔고, 초기에는 이 구간에 대해 충분히 숙지하지 못한 기관사들의 혼선 문제로 인한 열차 운행 사고가 자주 빈번하게 발생했다. 특히 절연 구간에서 사고가 많이 발생했기 때문에 일부 시민은 죽음의 구간이라는 뜻인 ‘사구간’(死區間)이라고 부르면서 비아냥대기도 했다. 또한, 운행 차량이 모두 VVVF 인버터 제어 차량이었기 때문에, 당시 한국철도공사의 1호선용 VVVF 인버터 제어 차량도 도입이 늦춰졌다. 이는 나중에 대한민국 감사원의 지적을 받게 되어 나중에 건설된 일산선은 서울 지하철 3호선과 동일하게 도시철도법을 그대로 적용하여 건설하게 된다. 한편 서울 지하철 1호선과 경부선, 경원선(경의중앙선 제외)이 직결 운행할 당시에도 절연 구간을 설치하였지만 동일하게 좌측 통행을 시행하였다.   \n",
       "24760  7월 24일, \"Wanna\"의 티저영상을 공개하고 7월 29일 뮤직비디오를 공개하였다. 또한 7월 30일에는 두 번째 정규앨범 Revolution의 일반판과 한정판이 동시 발매되었고, 이어 7월 31일 뮤직뱅크에서 \"Wanna\"와 \"미스터\"로 여태까지 보여주지 않았던 새로운 컨셉으로 화려한 컴백하였으며 두 곡 모두 여러 음원차트에서 상위권에 랭크 되었다. 수록곡 중 \"미스터\"는 안무 중 '엉덩이춤'이 선풍적인 인기를 끌게 되었다. 급기야는 타이틀곡 \"Wanna\"보다 훨씬 많은 인기를 얻고, 더 많은 관심을 갖게 되는 해프닝이 발생하기도 하였다. 그리하여 결국 \"미스터\"가 후속곡이 아닌 더블타이틀곡으로 바뀌는 상황까지 발생하여, 8월 15일 처음으로 완곡을 선보이게 되었다. 하지만 아이러니컬하게도 8월 30일 인기가요에서 \"Wanna\"가 쟁쟁한 후보들을 이겨내고 1위를 거머쥔 데 반해, 반대로 \"미스터\"는 음악 방송에서 중위권만을 유지하는 데 그쳤다. \"미스터\"는 뮤직비디오를 제작하지 않았지만, CF와 패러디 영상 등에 실리며 화제를 불러 일으켰다.   \n",
       "20670                                                               최초 브리핑에서 경찰은 드루킹이 김경수에게 기사나 댓글 조작 사실을 메세지로 보내면 김경수는 답하지 않거나 의례적인 답만 하였다고 하였고, 경공모 회원 역시 같은 주장을 하였으나, 수사 결과 김경수도 드루킹에게 기사 URL을 보내는 등 서로 메시지를 주고받은 것으로 드러났다. 경찰에 의하면 김경수는 2016년 11월부터 2018년 3월 사이에 드루킹에게 메세지 14개를 보냈고, 이 중 10개가 기사 주소였다. 김경수가 보낸 기사는 모두 직간접적으로 문재인에 관련된 것이었고, 김경수가 기사를 보내며 \"홍보해주세요\"나 \"네이버 댓글은 원래 반응이 이런가요\" 등의 메시지를 보내면 드루킹은 \"알겠습니다\" 또는 \"처리하겠습니다\"라고 답한 것으로 알려졌다. 경찰은 김경수가 보낸 해당 기사에 SNS 친구가 사실상 없고 문재인 지지 댓글 활동만 벌인 비정상적인 SNS 계정도 발견하여, 이 기사들에 드루킹 일당의 여론 조작 정황이 있는지 조사에 착수하였다.   \n",
       "30786                                                                                                                                                                                영국 북미 총사령관 애머스트 장군은 토착 인디언에 관리 정책에 대한 전반적인 책임을 지고 있었으며, 그것에는 군사적 업무와 모피 무역 규제와도 관련이 있었다. 애머스트는 프랑스가 무대에서 사라지면 인디언은 영국의 지배를 받아들일 수밖에 없을 것이라고 믿었다. 애머스트는 또한 인디언이 영국군에 대해서 어떠한 저항도 할 수 없을 거라고 믿었다. 그래서 북미에서 그의 휘하에 8,000명 중 불과 500명 정도를 전쟁이 끝난 이 지역에 주둔시켰다. 애머스트와 디트로이트 요새의 지휘관 헨리 글래드윈 소령 같은 장교들은 인디언에 대한 경멸을 숨기려 하지 않았다. 봉기에 참가한 인디언 부족은 “글래드윈이 우리를 노예나 개처럼 다룬다”고 자주 불평을 했다.   \n",
       "\n",
       "                id                   question             title  \n",
       "33231  6598975-2-0  유시진이 평화유지군으로 파병된 곳은 어디인가?            태양의_후예  \n",
       "13919  6250780-2-2            사고가 많이 발생한 구간은?               과천선  \n",
       "24760  6561087-2-0    Wanna의 뮤직비디오 공개일은 언제인가?        카라_(음악_그룹)  \n",
       "20670  6578166-1-0    김경수가 드루킹에서 송신한 메세지의 수는?  더불어민주당원_댓글_조작_사건  \n",
       "30786  6567978-3-0               영국 북미 총사령관은?            폰티액_전쟁  "
      ],
      "text/html": "<div>\n<style scoped>\n    .dataframe tbody tr th:only-of-type {\n        vertical-align: middle;\n    }\n\n    .dataframe tbody tr th {\n        vertical-align: top;\n    }\n\n    .dataframe thead th {\n        text-align: right;\n    }\n</style>\n<table border=\"1\" class=\"dataframe\">\n  <thead>\n    <tr style=\"text-align: right;\">\n      <th></th>\n      <th>answers</th>\n      <th>context</th>\n      <th>id</th>\n      <th>question</th>\n      <th>title</th>\n    </tr>\n  </thead>\n  <tbody>\n    <tr>\n      <th>33231</th>\n      <td>{'answer_start': [64], 'text': ['우르크']}</td>\n      <td>그러나 강모연은 유시진과 헤어진 후 생명보다 이윤을 추구하는 의사가 되어 버린다. 이후 유시진은 평화 유지를 위해 우르크에 파병되고, 강모연은 의료 봉사차 그곳에 온다. 우르크는 2004년 한국이 평화유지군을 파병한 이라크를 상징한다. 현실과 허구가 뒤섞인 이곳에서 둘은 “조국이 지켜야 할 국민의 인권”이라는 가치를 공유하며 사랑을 키워 나간다. 강모연은 우르크에서의 경험으로 이윤보다 생명이 우선이라는 의사로서의 초심을 회복하게 된다. 우르크에서 재난과 봉사를 경험하고 강모연은 히포크라테스 선서를 떠올린다. \"나의 생애를 인류봉사에 바칠 것을 엄숙히 서약하노라. 나의 환자의 건강과 생명을 첫째로 생각하겠노라. 나는 인종, 종교, 국적, 사회적 지위를 초월하여 오직 환자에 대한 나의 의무를 지키겠노라. 비록 위협을 당할지라도 나의 지식을 인도에 어긋나게 쓰지 않겠노라. (6회)\"</td>\n      <td>6598975-2-0</td>\n      <td>유시진이 평화유지군으로 파병된 곳은 어디인가?</td>\n      <td>태양의_후예</td>\n    </tr>\n    <tr>\n      <th>13919</th>\n      <td>{'answer_start': [102], 'text': ['절연 구간']}</td>\n      <td>당시 이 공사로 천문학적인 막대한 액수의 금액이 들어갔고, 초기에는 이 구간에 대해 충분히 숙지하지 못한 기관사들의 혼선 문제로 인한 열차 운행 사고가 자주 빈번하게 발생했다. 특히 절연 구간에서 사고가 많이 발생했기 때문에 일부 시민은 죽음의 구간이라는 뜻인 ‘사구간’(死區間)이라고 부르면서 비아냥대기도 했다. 또한, 운행 차량이 모두 VVVF 인버터 제어 차량이었기 때문에, 당시 한국철도공사의 1호선용 VVVF 인버터 제어 차량도 도입이 늦춰졌다. 이는 나중에 대한민국 감사원의 지적을 받게 되어 나중에 건설된 일산선은 서울 지하철 3호선과 동일하게 도시철도법을 그대로 적용하여 건설하게 된다. 한편 서울 지하철 1호선과 경부선, 경원선(경의중앙선 제외)이 직결 운행할 당시에도 절연 구간을 설치하였지만 동일하게 좌측 통행을 시행하였다.</td>\n      <td>6250780-2-2</td>\n      <td>사고가 많이 발생한 구간은?</td>\n      <td>과천선</td>\n    </tr>\n    <tr>\n      <th>24760</th>\n      <td>{'answer_start': [28], 'text': ['7월 29일']}</td>\n      <td>7월 24일, \"Wanna\"의 티저영상을 공개하고 7월 29일 뮤직비디오를 공개하였다. 또한 7월 30일에는 두 번째 정규앨범 Revolution의 일반판과 한정판이 동시 발매되었고, 이어 7월 31일 뮤직뱅크에서 \"Wanna\"와 \"미스터\"로 여태까지 보여주지 않았던 새로운 컨셉으로 화려한 컴백하였으며 두 곡 모두 여러 음원차트에서 상위권에 랭크 되었다. 수록곡 중 \"미스터\"는 안무 중 '엉덩이춤'이 선풍적인 인기를 끌게 되었다. 급기야는 타이틀곡 \"Wanna\"보다 훨씬 많은 인기를 얻고, 더 많은 관심을 갖게 되는 해프닝이 발생하기도 하였다. 그리하여 결국 \"미스터\"가 후속곡이 아닌 더블타이틀곡으로 바뀌는 상황까지 발생하여, 8월 15일 처음으로 완곡을 선보이게 되었다. 하지만 아이러니컬하게도 8월 30일 인기가요에서 \"Wanna\"가 쟁쟁한 후보들을 이겨내고 1위를 거머쥔 데 반해, 반대로 \"미스터\"는 음악 방송에서 중위권만을 유지하는 데 그쳤다. \"미스터\"는 뮤직비디오를 제작하지 않았지만, CF와 패러디 영상 등에 실리며 화제를 불러 일으켰다.</td>\n      <td>6561087-2-0</td>\n      <td>Wanna의 뮤직비디오 공개일은 언제인가?</td>\n      <td>카라_(음악_그룹)</td>\n    </tr>\n    <tr>\n      <th>20670</th>\n      <td>{'answer_start': [203], 'text': ['14개']}</td>\n      <td>최초 브리핑에서 경찰은 드루킹이 김경수에게 기사나 댓글 조작 사실을 메세지로 보내면 김경수는 답하지 않거나 의례적인 답만 하였다고 하였고, 경공모 회원 역시 같은 주장을 하였으나, 수사 결과 김경수도 드루킹에게 기사 URL을 보내는 등 서로 메시지를 주고받은 것으로 드러났다. 경찰에 의하면 김경수는 2016년 11월부터 2018년 3월 사이에 드루킹에게 메세지 14개를 보냈고, 이 중 10개가 기사 주소였다. 김경수가 보낸 기사는 모두 직간접적으로 문재인에 관련된 것이었고, 김경수가 기사를 보내며 \"홍보해주세요\"나 \"네이버 댓글은 원래 반응이 이런가요\" 등의 메시지를 보내면 드루킹은 \"알겠습니다\" 또는 \"처리하겠습니다\"라고 답한 것으로 알려졌다. 경찰은 김경수가 보낸 해당 기사에 SNS 친구가 사실상 없고 문재인 지지 댓글 활동만 벌인 비정상적인 SNS 계정도 발견하여, 이 기사들에 드루킹 일당의 여론 조작 정황이 있는지 조사에 착수하였다.</td>\n      <td>6578166-1-0</td>\n      <td>김경수가 드루킹에서 송신한 메세지의 수는?</td>\n      <td>더불어민주당원_댓글_조작_사건</td>\n    </tr>\n    <tr>\n      <th>30786</th>\n      <td>{'answer_start': [11], 'text': ['애머스트 장군']}</td>\n      <td>영국 북미 총사령관 애머스트 장군은 토착 인디언에 관리 정책에 대한 전반적인 책임을 지고 있었으며, 그것에는 군사적 업무와 모피 무역 규제와도 관련이 있었다. 애머스트는 프랑스가 무대에서 사라지면 인디언은 영국의 지배를 받아들일 수밖에 없을 것이라고 믿었다. 애머스트는 또한 인디언이 영국군에 대해서 어떠한 저항도 할 수 없을 거라고 믿었다. 그래서 북미에서 그의 휘하에 8,000명 중 불과 500명 정도를 전쟁이 끝난 이 지역에 주둔시켰다. 애머스트와 디트로이트 요새의 지휘관 헨리 글래드윈 소령 같은 장교들은 인디언에 대한 경멸을 숨기려 하지 않았다. 봉기에 참가한 인디언 부족은 “글래드윈이 우리를 노예나 개처럼 다룬다”고 자주 불평을 했다.</td>\n      <td>6567978-3-0</td>\n      <td>영국 북미 총사령관은?</td>\n      <td>폰티액_전쟁</td>\n    </tr>\n  </tbody>\n</table>\n</div>"
     },
     "metadata": {},
     "execution_count": 13
    }
   ]
  },
  {
   "cell_type": "code",
   "execution_count": 7,
   "metadata": {},
   "outputs": [
    {
     "output_type": "execute_result",
     "data": {
      "text/plain": [
       "                                        question            id\n",
       "560                             다키스트 던전을 만든 회사는?  mrc-0-002245\n",
       "535                       노동운동 단체가 소멸하기 시작한 연도는?  mrc-0-002096\n",
       "528                         수사들이 전쟁의 대가로 지은 건물은?  mrc-0-000030\n",
       "354                               야전의 전투 제한 시간은?  mrc-0-002074\n",
       "201                              억스브릿지선이 생긴 이유는?  mrc-1-000856\n",
       "59          연방군의 캘리포니아 기지보다 더 큰 규모의 기지는 어디에 있는가?  mrc-0-004880\n",
       "539  쿠틉 앗딘이 이라크에 있는 칼리프 영지를 점거하기 위해 출정을 시작한 지역은?  mrc-0-004909\n",
       "372             수술대 하부에 꿀샘이 존재하면 꽃밥은 어디를 향해 있는가?  mrc-0-000780\n",
       "249                     모스크바로 가기 위한 여권이 필요한 사람은?  mrc-0-001845\n",
       "87                  야고보가 강압적으로 배교에 관해 설교당했던 장소는?  mrc-0-004336\n",
       "277                  하이네스에게 화염의 힘을 받은 인물은 누구인가요?  mrc-1-001600\n",
       "3           마오리언어와 영어, 뉴질랜드 수화를 공식 언어로 사용하는 나라는?  mrc-0-003951\n",
       "439                            유에에게 마력을 넘겨준 사람은?  mrc-0-003996\n",
       "543             인민군이 세르비아를 확장하는 쪽으로 돌아서게 만든 사람은?  mrc-1-000524\n",
       "100            셰이크 무지부르 라흐만의 딸이 처음으로 선거에서 졌던 해는?  mrc-0-004345\n",
       "571                  필리포스 5세와 영토를 공유하기로 합의한 사람은?  mrc-0-002530\n",
       "35                            보덕이 전주 도달산에 세운 절은?  mrc-0-002762\n",
       "517                        양인 전투에서 손견군과 충돌한 부대는?  mrc-1-000227\n",
       "375           1754년에 철거되었던 시장이 왕실 특허를 재확인받았던 해는?  mrc-0-001689\n",
       "446                             부부가 딸을 차에 태운 곳은?  mrc-0-001539\n",
       "120                          삼한총왕설의 근거를 제공한 서적은?  mrc-1-001141\n",
       "44                  유로니우스를 살해한 용의자가 소속된 밴드의 국적은?  mrc-0-000624\n",
       "164           대학원에서 수업을 듣던 시절 소설을 출품하던 곳은 어디었는가?  mrc-0-003016\n",
       "20              화재에서 인종을 구한 공으로 귀인으로 직위가 오른 사람은?  mrc-0-005407\n",
       "221                      팬들이 스스로 만드는 상품을 뭐라 하는가?  mrc-0-003365\n",
       "161           통근특급이 걸림돌인 노선과 서로 평면교차하는 노선은 어디인가?  mrc-0-003970\n",
       "559          서인들은 어떤 왕에게 정여립의 탄핵을 주장하는 상소를 올렸는가?  mrc-0-002782\n",
       "129            협동 화폐 거래소의 인정은 어느 부문에서 나타나는 변화인가?  mrc-0-001241\n",
       "159                      천자등극설'을 대중들에게 확산시킨 행사는?  mrc-0-000970\n",
       "242   산악 자전거 프리 라이드 부문에 출전하는 마틴 소더스트롬이 이용하는 제품은?  mrc-0-001896"
      ],
      "text/html": "<div>\n<style scoped>\n    .dataframe tbody tr th:only-of-type {\n        vertical-align: middle;\n    }\n\n    .dataframe tbody tr th {\n        vertical-align: top;\n    }\n\n    .dataframe thead th {\n        text-align: right;\n    }\n</style>\n<table border=\"1\" class=\"dataframe\">\n  <thead>\n    <tr style=\"text-align: right;\">\n      <th></th>\n      <th>question</th>\n      <th>id</th>\n    </tr>\n  </thead>\n  <tbody>\n    <tr>\n      <th>560</th>\n      <td>다키스트 던전을 만든 회사는?</td>\n      <td>mrc-0-002245</td>\n    </tr>\n    <tr>\n      <th>535</th>\n      <td>노동운동 단체가 소멸하기 시작한 연도는?</td>\n      <td>mrc-0-002096</td>\n    </tr>\n    <tr>\n      <th>528</th>\n      <td>수사들이 전쟁의 대가로 지은 건물은?</td>\n      <td>mrc-0-000030</td>\n    </tr>\n    <tr>\n      <th>354</th>\n      <td>야전의 전투 제한 시간은?</td>\n      <td>mrc-0-002074</td>\n    </tr>\n    <tr>\n      <th>201</th>\n      <td>억스브릿지선이 생긴 이유는?</td>\n      <td>mrc-1-000856</td>\n    </tr>\n    <tr>\n      <th>59</th>\n      <td>연방군의 캘리포니아 기지보다 더 큰 규모의 기지는 어디에 있는가?</td>\n      <td>mrc-0-004880</td>\n    </tr>\n    <tr>\n      <th>539</th>\n      <td>쿠틉 앗딘이 이라크에 있는 칼리프 영지를 점거하기 위해 출정을 시작한 지역은?</td>\n      <td>mrc-0-004909</td>\n    </tr>\n    <tr>\n      <th>372</th>\n      <td>수술대 하부에 꿀샘이 존재하면 꽃밥은 어디를 향해 있는가?</td>\n      <td>mrc-0-000780</td>\n    </tr>\n    <tr>\n      <th>249</th>\n      <td>모스크바로 가기 위한 여권이 필요한 사람은?</td>\n      <td>mrc-0-001845</td>\n    </tr>\n    <tr>\n      <th>87</th>\n      <td>야고보가 강압적으로 배교에 관해 설교당했던 장소는?</td>\n      <td>mrc-0-004336</td>\n    </tr>\n    <tr>\n      <th>277</th>\n      <td>하이네스에게 화염의 힘을 받은 인물은 누구인가요?</td>\n      <td>mrc-1-001600</td>\n    </tr>\n    <tr>\n      <th>3</th>\n      <td>마오리언어와 영어, 뉴질랜드 수화를 공식 언어로 사용하는 나라는?</td>\n      <td>mrc-0-003951</td>\n    </tr>\n    <tr>\n      <th>439</th>\n      <td>유에에게 마력을 넘겨준 사람은?</td>\n      <td>mrc-0-003996</td>\n    </tr>\n    <tr>\n      <th>543</th>\n      <td>인민군이 세르비아를 확장하는 쪽으로 돌아서게 만든 사람은?</td>\n      <td>mrc-1-000524</td>\n    </tr>\n    <tr>\n      <th>100</th>\n      <td>셰이크 무지부르 라흐만의 딸이 처음으로 선거에서 졌던 해는?</td>\n      <td>mrc-0-004345</td>\n    </tr>\n    <tr>\n      <th>571</th>\n      <td>필리포스 5세와 영토를 공유하기로 합의한 사람은?</td>\n      <td>mrc-0-002530</td>\n    </tr>\n    <tr>\n      <th>35</th>\n      <td>보덕이 전주 도달산에 세운 절은?</td>\n      <td>mrc-0-002762</td>\n    </tr>\n    <tr>\n      <th>517</th>\n      <td>양인 전투에서 손견군과 충돌한 부대는?</td>\n      <td>mrc-1-000227</td>\n    </tr>\n    <tr>\n      <th>375</th>\n      <td>1754년에 철거되었던 시장이 왕실 특허를 재확인받았던 해는?</td>\n      <td>mrc-0-001689</td>\n    </tr>\n    <tr>\n      <th>446</th>\n      <td>부부가 딸을 차에 태운 곳은?</td>\n      <td>mrc-0-001539</td>\n    </tr>\n    <tr>\n      <th>120</th>\n      <td>삼한총왕설의 근거를 제공한 서적은?</td>\n      <td>mrc-1-001141</td>\n    </tr>\n    <tr>\n      <th>44</th>\n      <td>유로니우스를 살해한 용의자가 소속된 밴드의 국적은?</td>\n      <td>mrc-0-000624</td>\n    </tr>\n    <tr>\n      <th>164</th>\n      <td>대학원에서 수업을 듣던 시절 소설을 출품하던 곳은 어디었는가?</td>\n      <td>mrc-0-003016</td>\n    </tr>\n    <tr>\n      <th>20</th>\n      <td>화재에서 인종을 구한 공으로 귀인으로 직위가 오른 사람은?</td>\n      <td>mrc-0-005407</td>\n    </tr>\n    <tr>\n      <th>221</th>\n      <td>팬들이 스스로 만드는 상품을 뭐라 하는가?</td>\n      <td>mrc-0-003365</td>\n    </tr>\n    <tr>\n      <th>161</th>\n      <td>통근특급이 걸림돌인 노선과 서로 평면교차하는 노선은 어디인가?</td>\n      <td>mrc-0-003970</td>\n    </tr>\n    <tr>\n      <th>559</th>\n      <td>서인들은 어떤 왕에게 정여립의 탄핵을 주장하는 상소를 올렸는가?</td>\n      <td>mrc-0-002782</td>\n    </tr>\n    <tr>\n      <th>129</th>\n      <td>협동 화폐 거래소의 인정은 어느 부문에서 나타나는 변화인가?</td>\n      <td>mrc-0-001241</td>\n    </tr>\n    <tr>\n      <th>159</th>\n      <td>천자등극설'을 대중들에게 확산시킨 행사는?</td>\n      <td>mrc-0-000970</td>\n    </tr>\n    <tr>\n      <th>242</th>\n      <td>산악 자전거 프리 라이드 부문에 출전하는 마틴 소더스트롬이 이용하는 제품은?</td>\n      <td>mrc-0-001896</td>\n    </tr>\n  </tbody>\n</table>\n</div>"
     },
     "metadata": {},
     "execution_count": 7
    }
   ],
   "source": [
    "train3.sample(30)"
   ]
  },
  {
   "cell_type": "code",
   "execution_count": null,
   "metadata": {},
   "outputs": [],
   "source": [
    "def ():\n",
    "    "
   ]
  }
 ]
}