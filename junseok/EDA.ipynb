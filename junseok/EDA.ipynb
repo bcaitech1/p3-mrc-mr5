{
 "metadata": {
  "language_info": {
   "codemirror_mode": {
    "name": "ipython",
    "version": 3
   },
   "file_extension": ".py",
   "mimetype": "text/x-python",
   "name": "python",
   "nbconvert_exporter": "python",
   "pygments_lexer": "ipython3",
   "version": "3.7.7"
  },
  "orig_nbformat": 2,
  "kernelspec": {
   "name": "python377jvsc74a57bd098b0a9b7b4eaaa670588a142fd0a9b87eaafe866f1db4228be72b4211d12040f",
   "display_name": "Python 3.7.7 64-bit ('base': conda)"
  }
 },
 "nbformat": 4,
 "nbformat_minor": 2,
 "cells": [
  {
   "cell_type": "code",
   "execution_count": 1,
   "metadata": {},
   "outputs": [
    {
     "output_type": "stream",
     "name": "stdout",
     "text": [
      "\u001b[33mWARNING: Value for scheme.headers does not match. Please report this to <https://github.com/pypa/pip/issues/9617>\n",
      "distutils: /opt/conda/include/python3.7m/UNKNOWN\n",
      "sysconfig: /opt/conda/include/python3.7m\u001b[0m\n",
      "\u001b[33mWARNING: Additional context:\n",
      "user = False\n",
      "home = None\n",
      "root = None\n",
      "prefix = None\u001b[0m\n",
      "Requirement already satisfied: jupyter in /opt/conda/lib/python3.7/site-packages (1.0.0)\n",
      "Requirement already satisfied: nbconvert in /opt/conda/lib/python3.7/site-packages (from jupyter) (6.0.7)\n",
      "Requirement already satisfied: jupyter-console in /opt/conda/lib/python3.7/site-packages (from jupyter) (6.4.0)\n",
      "Requirement already satisfied: notebook in /opt/conda/lib/python3.7/site-packages (from jupyter) (6.3.0)\n",
      "Requirement already satisfied: qtconsole in /opt/conda/lib/python3.7/site-packages (from jupyter) (5.0.3)\n",
      "Requirement already satisfied: ipywidgets in /opt/conda/lib/python3.7/site-packages (from jupyter) (7.6.3)\n",
      "Requirement already satisfied: ipykernel in /opt/conda/lib/python3.7/site-packages (from jupyter) (5.5.3)\n",
      "Requirement already satisfied: tornado>=4.2 in /opt/conda/lib/python3.7/site-packages (from ipykernel->jupyter) (6.1)\n",
      "Requirement already satisfied: jupyter-client in /opt/conda/lib/python3.7/site-packages (from ipykernel->jupyter) (6.1.12)\n",
      "Requirement already satisfied: traitlets>=4.1.0 in /opt/conda/lib/python3.7/site-packages (from ipykernel->jupyter) (4.3.3)\n",
      "Requirement already satisfied: ipython>=5.0.0 in /opt/conda/lib/python3.7/site-packages (from ipykernel->jupyter) (7.16.1)\n",
      "Requirement already satisfied: prompt-toolkit!=3.0.0,!=3.0.1,<3.1.0,>=2.0.0 in /opt/conda/lib/python3.7/site-packages (from ipython>=5.0.0->ipykernel->jupyter) (3.0.5)\n",
      "Requirement already satisfied: decorator in /opt/conda/lib/python3.7/site-packages (from ipython>=5.0.0->ipykernel->jupyter) (4.4.2)\n",
      "Requirement already satisfied: backcall in /opt/conda/lib/python3.7/site-packages (from ipython>=5.0.0->ipykernel->jupyter) (0.2.0)\n",
      "Requirement already satisfied: pygments in /opt/conda/lib/python3.7/site-packages (from ipython>=5.0.0->ipykernel->jupyter) (2.6.1)\n",
      "Requirement already satisfied: pexpect in /opt/conda/lib/python3.7/site-packages (from ipython>=5.0.0->ipykernel->jupyter) (4.8.0)\n",
      "Requirement already satisfied: setuptools>=18.5 in /opt/conda/lib/python3.7/site-packages (from ipython>=5.0.0->ipykernel->jupyter) (46.4.0.post20200518)\n",
      "Requirement already satisfied: jedi>=0.10 in /opt/conda/lib/python3.7/site-packages (from ipython>=5.0.0->ipykernel->jupyter) (0.17.1)\n",
      "Requirement already satisfied: pickleshare in /opt/conda/lib/python3.7/site-packages (from ipython>=5.0.0->ipykernel->jupyter) (0.7.5)\n",
      "Requirement already satisfied: parso<0.8.0,>=0.7.0 in /opt/conda/lib/python3.7/site-packages (from jedi>=0.10->ipython>=5.0.0->ipykernel->jupyter) (0.7.0)\n",
      "Requirement already satisfied: wcwidth in /opt/conda/lib/python3.7/site-packages (from prompt-toolkit!=3.0.0,!=3.0.1,<3.1.0,>=2.0.0->ipython>=5.0.0->ipykernel->jupyter) (0.2.5)\n",
      "Requirement already satisfied: ipython-genutils in /opt/conda/lib/python3.7/site-packages (from traitlets>=4.1.0->ipykernel->jupyter) (0.2.0)\n",
      "Requirement already satisfied: six in /opt/conda/lib/python3.7/site-packages (from traitlets>=4.1.0->ipykernel->jupyter) (1.14.0)\n",
      "Requirement already satisfied: jupyterlab-widgets>=1.0.0 in /opt/conda/lib/python3.7/site-packages (from ipywidgets->jupyter) (1.0.0)\n",
      "Requirement already satisfied: nbformat>=4.2.0 in /opt/conda/lib/python3.7/site-packages (from ipywidgets->jupyter) (5.1.3)\n",
      "Requirement already satisfied: widgetsnbextension~=3.5.0 in /opt/conda/lib/python3.7/site-packages (from ipywidgets->jupyter) (3.5.1)\n",
      "Requirement already satisfied: jsonschema!=2.5.0,>=2.4 in /opt/conda/lib/python3.7/site-packages (from nbformat>=4.2.0->ipywidgets->jupyter) (3.2.0)\n",
      "Requirement already satisfied: jupyter-core in /opt/conda/lib/python3.7/site-packages (from nbformat>=4.2.0->ipywidgets->jupyter) (4.7.1)\n",
      "Requirement already satisfied: importlib-metadata in /opt/conda/lib/python3.7/site-packages (from jsonschema!=2.5.0,>=2.4->nbformat>=4.2.0->ipywidgets->jupyter) (4.0.1)\n",
      "Requirement already satisfied: attrs>=17.4.0 in /opt/conda/lib/python3.7/site-packages (from jsonschema!=2.5.0,>=2.4->nbformat>=4.2.0->ipywidgets->jupyter) (20.3.0)\n",
      "Requirement already satisfied: pyrsistent>=0.14.0 in /opt/conda/lib/python3.7/site-packages (from jsonschema!=2.5.0,>=2.4->nbformat>=4.2.0->ipywidgets->jupyter) (0.17.3)\n",
      "Requirement already satisfied: argon2-cffi in /opt/conda/lib/python3.7/site-packages (from notebook->jupyter) (20.1.0)\n",
      "Requirement already satisfied: pyzmq>=17 in /opt/conda/lib/python3.7/site-packages (from notebook->jupyter) (22.0.3)\n",
      "Requirement already satisfied: jinja2 in /opt/conda/lib/python3.7/site-packages (from notebook->jupyter) (2.11.2)\n",
      "Requirement already satisfied: Send2Trash>=1.5.0 in /opt/conda/lib/python3.7/site-packages (from notebook->jupyter) (1.5.0)\n",
      "Requirement already satisfied: terminado>=0.8.3 in /opt/conda/lib/python3.7/site-packages (from notebook->jupyter) (0.9.4)\n",
      "Requirement already satisfied: prometheus-client in /opt/conda/lib/python3.7/site-packages (from notebook->jupyter) (0.10.1)\n",
      "Requirement already satisfied: python-dateutil>=2.1 in /opt/conda/lib/python3.7/site-packages (from jupyter-client->ipykernel->jupyter) (2.8.1)\n",
      "Requirement already satisfied: ptyprocess in /opt/conda/lib/python3.7/site-packages (from terminado>=0.8.3->notebook->jupyter) (0.6.0)\n",
      "Requirement already satisfied: cffi>=1.0.0 in /opt/conda/lib/python3.7/site-packages (from argon2-cffi->notebook->jupyter) (1.14.0)\n",
      "Requirement already satisfied: pycparser in /opt/conda/lib/python3.7/site-packages (from cffi>=1.0.0->argon2-cffi->notebook->jupyter) (2.20)\n",
      "Requirement already satisfied: typing-extensions>=3.6.4 in /opt/conda/lib/python3.7/site-packages (from importlib-metadata->jsonschema!=2.5.0,>=2.4->nbformat>=4.2.0->ipywidgets->jupyter) (3.7.4.3)\n",
      "Requirement already satisfied: zipp>=0.5 in /opt/conda/lib/python3.7/site-packages (from importlib-metadata->jsonschema!=2.5.0,>=2.4->nbformat>=4.2.0->ipywidgets->jupyter) (3.4.1)\n",
      "Requirement already satisfied: MarkupSafe>=0.23 in /opt/conda/lib/python3.7/site-packages (from jinja2->notebook->jupyter) (1.1.1)\n",
      "Requirement already satisfied: bleach in /opt/conda/lib/python3.7/site-packages (from nbconvert->jupyter) (3.3.0)\n",
      "Requirement already satisfied: nbclient<0.6.0,>=0.5.0 in /opt/conda/lib/python3.7/site-packages (from nbconvert->jupyter) (0.5.3)\n",
      "Requirement already satisfied: testpath in /opt/conda/lib/python3.7/site-packages (from nbconvert->jupyter) (0.4.4)\n",
      "Requirement already satisfied: mistune<2,>=0.8.1 in /opt/conda/lib/python3.7/site-packages (from nbconvert->jupyter) (0.8.4)\n",
      "Requirement already satisfied: defusedxml in /opt/conda/lib/python3.7/site-packages (from nbconvert->jupyter) (0.7.1)\n",
      "Requirement already satisfied: pandocfilters>=1.4.1 in /opt/conda/lib/python3.7/site-packages (from nbconvert->jupyter) (1.4.3)\n",
      "Requirement already satisfied: jupyterlab-pygments in /opt/conda/lib/python3.7/site-packages (from nbconvert->jupyter) (0.1.2)\n",
      "Requirement already satisfied: entrypoints>=0.2.2 in /opt/conda/lib/python3.7/site-packages (from nbconvert->jupyter) (0.3)\n",
      "Requirement already satisfied: nest-asyncio in /opt/conda/lib/python3.7/site-packages (from nbclient<0.6.0,>=0.5.0->nbconvert->jupyter) (1.5.1)\n",
      "Requirement already satisfied: async-generator in /opt/conda/lib/python3.7/site-packages (from nbclient<0.6.0,>=0.5.0->nbconvert->jupyter) (1.10)\n",
      "Requirement already satisfied: packaging in /opt/conda/lib/python3.7/site-packages (from bleach->nbconvert->jupyter) (20.9)\n",
      "Requirement already satisfied: webencodings in /opt/conda/lib/python3.7/site-packages (from bleach->nbconvert->jupyter) (0.5.1)\n",
      "Requirement already satisfied: pyparsing>=2.0.2 in /opt/conda/lib/python3.7/site-packages (from packaging->bleach->nbconvert->jupyter) (2.4.7)\n",
      "Requirement already satisfied: qtpy in /opt/conda/lib/python3.7/site-packages (from qtconsole->jupyter) (1.9.0)\n",
      "\u001b[33mWARNING: Value for scheme.headers does not match. Please report this to <https://github.com/pypa/pip/issues/9617>\n",
      "distutils: /opt/conda/include/python3.7m/UNKNOWN\n",
      "sysconfig: /opt/conda/include/python3.7m\u001b[0m\n",
      "\u001b[33mWARNING: Additional context:\n",
      "user = False\n",
      "home = None\n",
      "root = None\n",
      "prefix = None\u001b[0m\n",
      "\u001b[33mWARNING: Running pip as root will break packages and permissions. You should install packages reliably by using venv: https://pip.pypa.io/warnings/venv\u001b[0m\n"
     ]
    }
   ],
   "source": [
    "# !conda install matplotlib -y\n",
    "# !conda install seaborn -y\n",
    "!pip install jupyter"
   ]
  },
  {
   "cell_type": "code",
   "execution_count": 7,
   "metadata": {},
   "outputs": [],
   "source": [
    "import matplotlib.pyplot as plt\n",
    "import pandas as pd\n",
    "import numpy as np\n",
    "import seaborn as sns\n",
    "import torch\n",
    "import datasets\n",
    "\n",
    "\n"
   ]
  },
  {
   "cell_type": "code",
   "execution_count": 4,
   "metadata": {},
   "outputs": [
    {
     "output_type": "execute_result",
     "data": {
      "text/plain": [
       "True"
      ]
     },
     "metadata": {},
     "execution_count": 4
    }
   ],
   "source": [
    "torch.cuda.is_available()"
   ]
  },
  {
   "source": [
    "# data = datasets.load_from_disk('./MRC_Baseline_Code/data/train_dataset')\n",
    "# data2 = datasets.load_dataset('squad_kor_v1')\n",
    "# data3 = datasets.load_from_disk('./MRC_Baseline_Code/data/test_dataset')\n",
    "# print(data['validation'][5])"
   ],
   "cell_type": "code",
   "metadata": {},
   "execution_count": 2,
   "outputs": []
  },
  {
   "source": [
    "# pd.set_option('display.max_colwidth', None)\n",
    "# train=pd.DataFrame(data['train'])\n",
    "# train2=pd.DataFrame(data2['train'])\n",
    "train3=pd.DataFrame(data3['validation'])"
   ],
   "cell_type": "code",
   "metadata": {
    "tags": []
   },
   "execution_count": 3,
   "outputs": []
  },
  {
   "cell_type": "code",
   "execution_count": 5,
   "metadata": {},
   "outputs": [],
   "source": [
    "train3.to_csv('./test_questions.csv')"
   ]
  },
  {
   "cell_type": "code",
   "execution_count": 28,
   "metadata": {},
   "outputs": [],
   "source": [
    "# train['passages'] = train['context'].str.count(\"\\\\n\\\\n\") + train['context'].str.count(\"\\n\\n\") + 1\n",
    "# train2['passages'] = train['context'].count(\"\\\\n\\\\n\") + train['context'].count(\"\\n\\n\") + 1\n",
    "train['passages'] = train['context'].apply(lambda x: (x.count(\"\\\\n\\\\n\") + x.count(\"\\n\\n\") + 1))\n",
    "train2['passages'] = train2['context'].apply(lambda x: (x.count(\"\\\\n\\\\n\") + x.count(\"\\n\\n\") + 1))\n"
   ]
  },
  {
   "source": [
    "# train2.sample(5)\n",
    "train.sample(30)[['question', 'answers']]"
   ],
   "cell_type": "code",
   "metadata": {},
   "execution_count": 44,
   "outputs": [
    {
     "output_type": "execute_result",
     "data": {
      "text/plain": [
       "                                              question  \\\n",
       "2656                노랫말의 번역이 대구 시구 번역보다 훨씬 제약이 많은 이유는?   \n",
       "836             새누리당이 집정 여당으로 자리매김 할 수 있는 발판이 되었던 인물은?   \n",
       "363                    십자형의 무늬가 있는 돌은 탑의 어디에 위치하고 있나요?   \n",
       "2163                           여러 부분으로 이루어진 심실을 가진 종은?   \n",
       "3731              에끌레르가 주산도 남쪽에서 청나라 해군을 발견한 것은 언제인가요?   \n",
       "955                         1987년 일본 시리즈 우승팀을 지도한 감독은?   \n",
       "3017          황금 양을 가지면 왕이 되어야 한다는 티에스테스의 의견에 동의한 인물은?   \n",
       "454                  링컨이 조지 워싱턴 장군에 합세하여 우익을 통솔했던 전투는?   \n",
       "1010                   천장욱이 귀국 후 처음으로 군수직을 맡은 곳은 어디인가?   \n",
       "3049                          진승현이 각종 불법 행위를 통해 만든 것은?   \n",
       "3117                       리스 옐친이 비평한 헌법은 어디에 근거하고있나요?   \n",
       "2888                   매사추세츠 공과대학교에 있는 PDP-1을 제공한 회사는?   \n",
       "1081                    3년간 레논이 부인과 떨어져 지낸 시기를 뜻하는 말은?   \n",
       "1578                       관촉사 앞뜰의 4각 석등보다 큰 것은 무엇인가요?   \n",
       "372                              사우스캐롤라이나의 수익성 작물 이름은?   \n",
       "2044        하인리히가 코냐크 동맹 전쟁에서 도움을 준 인물은 누구에 대항하고 있었나요?   \n",
       "378                     양측에 올라가는 생김새의 쥐모양이 새겨져 있는 석조는?   \n",
       "3187      진왕 정의 말을 전해 들은 후 제왕 건은 어떤 행동을 취할 것이라고 다짐하였나?   \n",
       "3289                              갈리폴리 전투를 승리로 이끈 인물은?   \n",
       "45            매사추세츠는 어느 지역의 사람들에게 공격을 받아 수많은 사람들이 죽었나?   \n",
       "2597                                      러일 전쟁의 승전국은?   \n",
       "842                         크릭이 과학과 종교의 연결성을 언급했던 도서는?   \n",
       "2101                               전원이 없어도 동작 가능한 장치는?   \n",
       "1322               사탄이 따뜻한 마음을 가진 주인공으로 등장하는 작품은 무엇인가?   \n",
       "799                               남상철의 아버지는 언제 살아남았나요?   \n",
       "22                               슈만이 미군에게 포로로 잡혔던 년도는?   \n",
       "2810                이강주처럼 공격수에서 리베로로 전향하여 최고가 되었던 인물은?   \n",
       "3269  프리츠는 노예들에게 돼지를 놓아준 범인이 나오지 않으면 노예들의 무엇을 뽑겠다고 했나?   \n",
       "470                국제 축구 및 우정의 날이 여러 국가에서 공휴일로 지정된 해는?   \n",
       "99                                     소프트 머신의 이전 명칭은?   \n",
       "\n",
       "                                                                                                           answers  \n",
       "2656  {'answer_start': [330], 'text': ['형태에 있어 거의 혹은 전혀 자유가 없어 다양한 번역을 창조해내기가 불가능하고 시구 구조에서도 다른 여지를 찾기 어려운 탓이다.']}  \n",
       "836                                                                        {'answer_start': [34], 'text': ['이명박']}  \n",
       "363                                                                    {'answer_start': [400], 'text': ['탑신(塔身)']}  \n",
       "2163                                                                      {'answer_start': [491], 'text': ['파충류']}  \n",
       "3731                                                                   {'answer_start': [437], 'text': ['2월 13일']}  \n",
       "955                                                                 {'answer_start': [35], 'text': ['모리 마사아키 감독']}  \n",
       "3017                                                                    {'answer_start': [192], 'text': ['아트레우스']}  \n",
       "454                                                                {'answer_start': [97], 'text': ['화이트 플래인스 전투']}  \n",
       "1010                                                                   {'answer_start': [601], 'text': ['전북 임실군']}  \n",
       "3049                                                                      {'answer_start': [118], 'text': ['비자금']}  \n",
       "3117                                                          {'answer_start': [30], 'text': ['1978년에 제정된 소련 헌법']}  \n",
       "2888                                                                     {'answer_start': [194], 'text': ['DEC사']}  \n",
       "1081                                                                {'answer_start': [173], 'text': ['\"잃어버린 주말\"']}  \n",
       "1578                                                 {'answer_start': [661], 'text': ['구례 화엄사 각황전 앞 석등(국보 제12호)']}  \n",
       "372                                                                   {'answer_start': [728], 'text': ['인디고 (쪽)']}  \n",
       "2044                                                                  {'answer_start': [343], 'text': ['프랑수아 1세']}  \n",
       "378                                                                       {'answer_start': [271], 'text': ['망주석']}  \n",
       "3187                                                                  {'answer_start': [722], 'text': ['진나라에 저항']}  \n",
       "3289                                                               {'answer_start': [407], 'text': ['타흐신 야즈즈 준장']}  \n",
       "45                                                                     {'answer_start': [186], 'text': ['부근 북동부']}  \n",
       "2597                                                                        {'answer_start': [53], 'text': ['일본']}  \n",
       "842                                                             {'answer_start': [260], 'text': ['〈얼마나 미친 추구인가〉']}  \n",
       "2101                                                                  {'answer_start': [309], 'text': ['레일 브레이크']}  \n",
       "1322                                                                 {'answer_start': [182], 'text': ['\"사우스 파크\"']}  \n",
       "799                                                                       {'answer_start': [10], 'text': ['병인박해']}  \n",
       "22                                                                       {'answer_start': [59], 'text': ['1945년']}  \n",
       "2810                                                                      {'answer_start': [225], 'text': ['여오현']}  \n",
       "3269                                                                        {'answer_start': [719], 'text': ['눈']}  \n",
       "470                                                                      {'answer_start': [54], 'text': ['2014년']}  \n",
       "99                                                                   {'answer_start': [377], 'text': ['와일드 플라워즈']}  "
      ],
      "text/html": "<div>\n<style scoped>\n    .dataframe tbody tr th:only-of-type {\n        vertical-align: middle;\n    }\n\n    .dataframe tbody tr th {\n        vertical-align: top;\n    }\n\n    .dataframe thead th {\n        text-align: right;\n    }\n</style>\n<table border=\"1\" class=\"dataframe\">\n  <thead>\n    <tr style=\"text-align: right;\">\n      <th></th>\n      <th>question</th>\n      <th>answers</th>\n    </tr>\n  </thead>\n  <tbody>\n    <tr>\n      <th>2656</th>\n      <td>노랫말의 번역이 대구 시구 번역보다 훨씬 제약이 많은 이유는?</td>\n      <td>{'answer_start': [330], 'text': ['형태에 있어 거의 혹은 전혀 자유가 없어 다양한 번역을 창조해내기가 불가능하고 시구 구조에서도 다른 여지를 찾기 어려운 탓이다.']}</td>\n    </tr>\n    <tr>\n      <th>836</th>\n      <td>새누리당이 집정 여당으로 자리매김 할 수 있는 발판이 되었던 인물은?</td>\n      <td>{'answer_start': [34], 'text': ['이명박']}</td>\n    </tr>\n    <tr>\n      <th>363</th>\n      <td>십자형의 무늬가 있는 돌은 탑의 어디에 위치하고 있나요?</td>\n      <td>{'answer_start': [400], 'text': ['탑신(塔身)']}</td>\n    </tr>\n    <tr>\n      <th>2163</th>\n      <td>여러 부분으로 이루어진 심실을 가진 종은?</td>\n      <td>{'answer_start': [491], 'text': ['파충류']}</td>\n    </tr>\n    <tr>\n      <th>3731</th>\n      <td>에끌레르가 주산도 남쪽에서 청나라 해군을 발견한 것은 언제인가요?</td>\n      <td>{'answer_start': [437], 'text': ['2월 13일']}</td>\n    </tr>\n    <tr>\n      <th>955</th>\n      <td>1987년 일본 시리즈 우승팀을 지도한 감독은?</td>\n      <td>{'answer_start': [35], 'text': ['모리 마사아키 감독']}</td>\n    </tr>\n    <tr>\n      <th>3017</th>\n      <td>황금 양을 가지면 왕이 되어야 한다는 티에스테스의 의견에 동의한 인물은?</td>\n      <td>{'answer_start': [192], 'text': ['아트레우스']}</td>\n    </tr>\n    <tr>\n      <th>454</th>\n      <td>링컨이 조지 워싱턴 장군에 합세하여 우익을 통솔했던 전투는?</td>\n      <td>{'answer_start': [97], 'text': ['화이트 플래인스 전투']}</td>\n    </tr>\n    <tr>\n      <th>1010</th>\n      <td>천장욱이 귀국 후 처음으로 군수직을 맡은 곳은 어디인가?</td>\n      <td>{'answer_start': [601], 'text': ['전북 임실군']}</td>\n    </tr>\n    <tr>\n      <th>3049</th>\n      <td>진승현이 각종 불법 행위를 통해 만든 것은?</td>\n      <td>{'answer_start': [118], 'text': ['비자금']}</td>\n    </tr>\n    <tr>\n      <th>3117</th>\n      <td>리스 옐친이 비평한 헌법은 어디에 근거하고있나요?</td>\n      <td>{'answer_start': [30], 'text': ['1978년에 제정된 소련 헌법']}</td>\n    </tr>\n    <tr>\n      <th>2888</th>\n      <td>매사추세츠 공과대학교에 있는 PDP-1을 제공한 회사는?</td>\n      <td>{'answer_start': [194], 'text': ['DEC사']}</td>\n    </tr>\n    <tr>\n      <th>1081</th>\n      <td>3년간 레논이 부인과 떨어져 지낸 시기를 뜻하는 말은?</td>\n      <td>{'answer_start': [173], 'text': ['\"잃어버린 주말\"']}</td>\n    </tr>\n    <tr>\n      <th>1578</th>\n      <td>관촉사 앞뜰의 4각 석등보다 큰 것은 무엇인가요?</td>\n      <td>{'answer_start': [661], 'text': ['구례 화엄사 각황전 앞 석등(국보 제12호)']}</td>\n    </tr>\n    <tr>\n      <th>372</th>\n      <td>사우스캐롤라이나의 수익성 작물 이름은?</td>\n      <td>{'answer_start': [728], 'text': ['인디고 (쪽)']}</td>\n    </tr>\n    <tr>\n      <th>2044</th>\n      <td>하인리히가 코냐크 동맹 전쟁에서 도움을 준 인물은 누구에 대항하고 있었나요?</td>\n      <td>{'answer_start': [343], 'text': ['프랑수아 1세']}</td>\n    </tr>\n    <tr>\n      <th>378</th>\n      <td>양측에 올라가는 생김새의 쥐모양이 새겨져 있는 석조는?</td>\n      <td>{'answer_start': [271], 'text': ['망주석']}</td>\n    </tr>\n    <tr>\n      <th>3187</th>\n      <td>진왕 정의 말을 전해 들은 후 제왕 건은 어떤 행동을 취할 것이라고 다짐하였나?</td>\n      <td>{'answer_start': [722], 'text': ['진나라에 저항']}</td>\n    </tr>\n    <tr>\n      <th>3289</th>\n      <td>갈리폴리 전투를 승리로 이끈 인물은?</td>\n      <td>{'answer_start': [407], 'text': ['타흐신 야즈즈 준장']}</td>\n    </tr>\n    <tr>\n      <th>45</th>\n      <td>매사추세츠는 어느 지역의 사람들에게 공격을 받아 수많은 사람들이 죽었나?</td>\n      <td>{'answer_start': [186], 'text': ['부근 북동부']}</td>\n    </tr>\n    <tr>\n      <th>2597</th>\n      <td>러일 전쟁의 승전국은?</td>\n      <td>{'answer_start': [53], 'text': ['일본']}</td>\n    </tr>\n    <tr>\n      <th>842</th>\n      <td>크릭이 과학과 종교의 연결성을 언급했던 도서는?</td>\n      <td>{'answer_start': [260], 'text': ['〈얼마나 미친 추구인가〉']}</td>\n    </tr>\n    <tr>\n      <th>2101</th>\n      <td>전원이 없어도 동작 가능한 장치는?</td>\n      <td>{'answer_start': [309], 'text': ['레일 브레이크']}</td>\n    </tr>\n    <tr>\n      <th>1322</th>\n      <td>사탄이 따뜻한 마음을 가진 주인공으로 등장하는 작품은 무엇인가?</td>\n      <td>{'answer_start': [182], 'text': ['\"사우스 파크\"']}</td>\n    </tr>\n    <tr>\n      <th>799</th>\n      <td>남상철의 아버지는 언제 살아남았나요?</td>\n      <td>{'answer_start': [10], 'text': ['병인박해']}</td>\n    </tr>\n    <tr>\n      <th>22</th>\n      <td>슈만이 미군에게 포로로 잡혔던 년도는?</td>\n      <td>{'answer_start': [59], 'text': ['1945년']}</td>\n    </tr>\n    <tr>\n      <th>2810</th>\n      <td>이강주처럼 공격수에서 리베로로 전향하여 최고가 되었던 인물은?</td>\n      <td>{'answer_start': [225], 'text': ['여오현']}</td>\n    </tr>\n    <tr>\n      <th>3269</th>\n      <td>프리츠는 노예들에게 돼지를 놓아준 범인이 나오지 않으면 노예들의 무엇을 뽑겠다고 했나?</td>\n      <td>{'answer_start': [719], 'text': ['눈']}</td>\n    </tr>\n    <tr>\n      <th>470</th>\n      <td>국제 축구 및 우정의 날이 여러 국가에서 공휴일로 지정된 해는?</td>\n      <td>{'answer_start': [54], 'text': ['2014년']}</td>\n    </tr>\n    <tr>\n      <th>99</th>\n      <td>소프트 머신의 이전 명칭은?</td>\n      <td>{'answer_start': [377], 'text': ['와일드 플라워즈']}</td>\n    </tr>\n  </tbody>\n</table>\n</div>"
     },
     "metadata": {},
     "execution_count": 44
    }
   ]
  },
  {
   "cell_type": "code",
   "execution_count": 32,
   "metadata": {},
   "outputs": [
    {
     "output_type": "execute_result",
     "data": {
      "text/plain": [
       "                                                      answers  \\\n",
       "20                   {'answer_start': [409], 'text': ['D장조']}   \n",
       "21                  {'answer_start': [35], 'text': ['4/4박자']}   \n",
       "22  {'answer_start': [115], 'text': ['고뇌와 갈망 동기, 청춘의 사랑 동기']}   \n",
       "23                   {'answer_start': [409], 'text': ['D장조']}   \n",
       "24                   {'answer_start': [0], 'text': ['커닐링구스']}   \n",
       "25                 {'answer_start': [218], 'text': ['클리토리스']}   \n",
       "26                   {'answer_start': [0], 'text': ['커닐링구스']}   \n",
       "27                 {'answer_start': [218], 'text': ['클리토리스']}   \n",
       "28                   {'answer_start': [80], 'text': ['구강성교']}   \n",
       "29                 {'answer_start': [218], 'text': ['클리토리스']}   \n",
       "30                 {'answer_start': [61], 'text': ['쉐어 하이트']}   \n",
       "31                 {'answer_start': [357], 'text': ['개인 위생']}   \n",
       "32                    {'answer_start': [17], 'text': ['80%']}   \n",
       "33                 {'answer_start': [61], 'text': ['쉐어 하이트']}   \n",
       "34                  {'answer_start': [39], 'text': ['음핵 자극']}   \n",
       "35                    {'answer_start': [208], 'text': ['음순']}   \n",
       "36                     {'answer_start': [88], 'text': ['배꼽']}   \n",
       "37                   {'answer_start': [116], 'text': ['포도주']}   \n",
       "38                     {'answer_start': [88], 'text': ['배꼽']}   \n",
       "39                   {'answer_start': [261], 'text': ['칵테일']}   \n",
       "\n",
       "                                                                                                                                                                                                                                                                                                                                                                                                                                                                                        context  \\\n",
       "20                              이 작품은 라단조, Sehr gehalten(아주 신중하게), 4/4박자의 부드러운 서주로 서주로 시작되는데, 여기에는 주요 주제, 동기의 대부분이 암시, 예고되어 있다. 첫 부분의 저음 주제는 주요 주제(고뇌와 갈망 동기, 청춘의 사랑 동기)를 암시하고 있으며, 제1바이올린으로 더욱 명확하게 나타난다. 또한 그것을 이어받는 동기도 중요한 역할을 한다. 여기에 새로운 소재가 더해진 뒤에 새로운 주제도 연주된다. 주요부는 Sehr bewegt(아주 격동적으로), 2/2박자의 자유로운 소나타 형식으로 매우 드라마틱한 구상과 유기적인 구성을 하고 있다. 여기에는 지금까지의 주제나 소재 외에도 오보에에 의한 선율과 제2주제를 떠올리게 하는 부차적인 주제가 더해지는데, 중간부에서는 약보3이 중심이 되고 제2주제는 축소된 재현부에서 D장조로 재현된다. 마지막에는 주요 주제를 회상하면서 조용히 마친다.   \n",
       "21                              이 작품은 라단조, Sehr gehalten(아주 신중하게), 4/4박자의 부드러운 서주로 서주로 시작되는데, 여기에는 주요 주제, 동기의 대부분이 암시, 예고되어 있다. 첫 부분의 저음 주제는 주요 주제(고뇌와 갈망 동기, 청춘의 사랑 동기)를 암시하고 있으며, 제1바이올린으로 더욱 명확하게 나타난다. 또한 그것을 이어받는 동기도 중요한 역할을 한다. 여기에 새로운 소재가 더해진 뒤에 새로운 주제도 연주된다. 주요부는 Sehr bewegt(아주 격동적으로), 2/2박자의 자유로운 소나타 형식으로 매우 드라마틱한 구상과 유기적인 구성을 하고 있다. 여기에는 지금까지의 주제나 소재 외에도 오보에에 의한 선율과 제2주제를 떠올리게 하는 부차적인 주제가 더해지는데, 중간부에서는 약보3이 중심이 되고 제2주제는 축소된 재현부에서 D장조로 재현된다. 마지막에는 주요 주제를 회상하면서 조용히 마친다.   \n",
       "22                              이 작품은 라단조, Sehr gehalten(아주 신중하게), 4/4박자의 부드러운 서주로 서주로 시작되는데, 여기에는 주요 주제, 동기의 대부분이 암시, 예고되어 있다. 첫 부분의 저음 주제는 주요 주제(고뇌와 갈망 동기, 청춘의 사랑 동기)를 암시하고 있으며, 제1바이올린으로 더욱 명확하게 나타난다. 또한 그것을 이어받는 동기도 중요한 역할을 한다. 여기에 새로운 소재가 더해진 뒤에 새로운 주제도 연주된다. 주요부는 Sehr bewegt(아주 격동적으로), 2/2박자의 자유로운 소나타 형식으로 매우 드라마틱한 구상과 유기적인 구성을 하고 있다. 여기에는 지금까지의 주제나 소재 외에도 오보에에 의한 선율과 제2주제를 떠올리게 하는 부차적인 주제가 더해지는데, 중간부에서는 약보3이 중심이 되고 제2주제는 축소된 재현부에서 D장조로 재현된다. 마지막에는 주요 주제를 회상하면서 조용히 마친다.   \n",
       "23                              이 작품은 라단조, Sehr gehalten(아주 신중하게), 4/4박자의 부드러운 서주로 서주로 시작되는데, 여기에는 주요 주제, 동기의 대부분이 암시, 예고되어 있다. 첫 부분의 저음 주제는 주요 주제(고뇌와 갈망 동기, 청춘의 사랑 동기)를 암시하고 있으며, 제1바이올린으로 더욱 명확하게 나타난다. 또한 그것을 이어받는 동기도 중요한 역할을 한다. 여기에 새로운 소재가 더해진 뒤에 새로운 주제도 연주된다. 주요부는 Sehr bewegt(아주 격동적으로), 2/2박자의 자유로운 소나타 형식으로 매우 드라마틱한 구상과 유기적인 구성을 하고 있다. 여기에는 지금까지의 주제나 소재 외에도 오보에에 의한 선율과 제2주제를 떠올리게 하는 부차적인 주제가 더해지는데, 중간부에서는 약보3이 중심이 되고 제2주제는 축소된 재현부에서 D장조로 재현된다. 마지막에는 주요 주제를 회상하면서 조용히 마친다.   \n",
       "24                                                            커닐링구스(커닐링거스, 쿤닐링구스, 영어: Cunnilingus)는 입술, 혀, 입 등의 모든 구강기관으로 여성의 성기를 애무하는 것을 말하며 구강성교(오럴섹스, 영어: Oral sex)라고도 한다. 보통 남성이 행하며 동성의 여성이 행하는 경우도 있다. 혀를 질에 넣거나 여성의 클리토리스, 외음부나 그 주변을 핥거나 빨아서 애무한다. 받는 사람이 다양한 성감을 느끼는 원인이 되며 특히 클리토리스의 감각이 매우 중요하다. 타액과 수성윤활제가 자주 사용되고 이것들은 부드럽게 매끄러운 자극을 가능하게 한다. 파트너의 반응에 귀를 기울이면서 손가락과 같은 다른 애무와 함께 몸 전체에 다양한 자극과 결합하여 양측이 폭넓은 즐거움을 나눌 수 있게 한다. 전희로서 하는 경우가 많지만, 오르가즘에의 도달 여부에 관계없이 커닐링구스 자체가 성행위이다.   \n",
       "25                                                            커닐링구스(커닐링거스, 쿤닐링구스, 영어: Cunnilingus)는 입술, 혀, 입 등의 모든 구강기관으로 여성의 성기를 애무하는 것을 말하며 구강성교(오럴섹스, 영어: Oral sex)라고도 한다. 보통 남성이 행하며 동성의 여성이 행하는 경우도 있다. 혀를 질에 넣거나 여성의 클리토리스, 외음부나 그 주변을 핥거나 빨아서 애무한다. 받는 사람이 다양한 성감을 느끼는 원인이 되며 특히 클리토리스의 감각이 매우 중요하다. 타액과 수성윤활제가 자주 사용되고 이것들은 부드럽게 매끄러운 자극을 가능하게 한다. 파트너의 반응에 귀를 기울이면서 손가락과 같은 다른 애무와 함께 몸 전체에 다양한 자극과 결합하여 양측이 폭넓은 즐거움을 나눌 수 있게 한다. 전희로서 하는 경우가 많지만, 오르가즘에의 도달 여부에 관계없이 커닐링구스 자체가 성행위이다.   \n",
       "26                                                            커닐링구스(커닐링거스, 쿤닐링구스, 영어: Cunnilingus)는 입술, 혀, 입 등의 모든 구강기관으로 여성의 성기를 애무하는 것을 말하며 구강성교(오럴섹스, 영어: Oral sex)라고도 한다. 보통 남성이 행하며 동성의 여성이 행하는 경우도 있다. 혀를 질에 넣거나 여성의 클리토리스, 외음부나 그 주변을 핥거나 빨아서 애무한다. 받는 사람이 다양한 성감을 느끼는 원인이 되며 특히 클리토리스의 감각이 매우 중요하다. 타액과 수성윤활제가 자주 사용되고 이것들은 부드럽게 매끄러운 자극을 가능하게 한다. 파트너의 반응에 귀를 기울이면서 손가락과 같은 다른 애무와 함께 몸 전체에 다양한 자극과 결합하여 양측이 폭넓은 즐거움을 나눌 수 있게 한다. 전희로서 하는 경우가 많지만, 오르가즘에의 도달 여부에 관계없이 커닐링구스 자체가 성행위이다.   \n",
       "27                                                            커닐링구스(커닐링거스, 쿤닐링구스, 영어: Cunnilingus)는 입술, 혀, 입 등의 모든 구강기관으로 여성의 성기를 애무하는 것을 말하며 구강성교(오럴섹스, 영어: Oral sex)라고도 한다. 보통 남성이 행하며 동성의 여성이 행하는 경우도 있다. 혀를 질에 넣거나 여성의 클리토리스, 외음부나 그 주변을 핥거나 빨아서 애무한다. 받는 사람이 다양한 성감을 느끼는 원인이 되며 특히 클리토리스의 감각이 매우 중요하다. 타액과 수성윤활제가 자주 사용되고 이것들은 부드럽게 매끄러운 자극을 가능하게 한다. 파트너의 반응에 귀를 기울이면서 손가락과 같은 다른 애무와 함께 몸 전체에 다양한 자극과 결합하여 양측이 폭넓은 즐거움을 나눌 수 있게 한다. 전희로서 하는 경우가 많지만, 오르가즘에의 도달 여부에 관계없이 커닐링구스 자체가 성행위이다.   \n",
       "28                                                            커닐링구스(커닐링거스, 쿤닐링구스, 영어: Cunnilingus)는 입술, 혀, 입 등의 모든 구강기관으로 여성의 성기를 애무하는 것을 말하며 구강성교(오럴섹스, 영어: Oral sex)라고도 한다. 보통 남성이 행하며 동성의 여성이 행하는 경우도 있다. 혀를 질에 넣거나 여성의 클리토리스, 외음부나 그 주변을 핥거나 빨아서 애무한다. 받는 사람이 다양한 성감을 느끼는 원인이 되며 특히 클리토리스의 감각이 매우 중요하다. 타액과 수성윤활제가 자주 사용되고 이것들은 부드럽게 매끄러운 자극을 가능하게 한다. 파트너의 반응에 귀를 기울이면서 손가락과 같은 다른 애무와 함께 몸 전체에 다양한 자극과 결합하여 양측이 폭넓은 즐거움을 나눌 수 있게 한다. 전희로서 하는 경우가 많지만, 오르가즘에의 도달 여부에 관계없이 커닐링구스 자체가 성행위이다.   \n",
       "29                                                            커닐링구스(커닐링거스, 쿤닐링구스, 영어: Cunnilingus)는 입술, 혀, 입 등의 모든 구강기관으로 여성의 성기를 애무하는 것을 말하며 구강성교(오럴섹스, 영어: Oral sex)라고도 한다. 보통 남성이 행하며 동성의 여성이 행하는 경우도 있다. 혀를 질에 넣거나 여성의 클리토리스, 외음부나 그 주변을 핥거나 빨아서 애무한다. 받는 사람이 다양한 성감을 느끼는 원인이 되며 특히 클리토리스의 감각이 매우 중요하다. 타액과 수성윤활제가 자주 사용되고 이것들은 부드럽게 매끄러운 자극을 가능하게 한다. 파트너의 반응에 귀를 기울이면서 손가락과 같은 다른 애무와 함께 몸 전체에 다양한 자극과 결합하여 양측이 폭넓은 즐거움을 나눌 수 있게 한다. 전희로서 하는 경우가 많지만, 오르가즘에의 도달 여부에 관계없이 커닐링구스 자체가 성행위이다.   \n",
       "30                                                             일반적인 통계에 따르면 여성의 80%가 오르가슴을 얻기 위해 직접적인 음핵 자극을 필요로 한다. 성교육 학자 쉐어 하이트의 여성의 성 보고서에 따르면 대부분의 여성의 경우 오르가슴은 클리토리스에 직접적인 자극을 주는 커닐링구스를 통해 쉽게 도달할 수 있다고 보고하고 있다. 커닐링구스를 받는 여성은 파트너의 혀가 클리토리스를 더 잘 자극할 수 있도록 손가락을 사용, 직접 음순을 분리 할 수 ​​있다. 또 다리를 넓게 벌리면 파트너가 클리토리스에 구두로 쉽게 도달 할 수 있도록 외음부를 드러낼 수 있다. 파트너는 음순과 전체 생식기 영역에 대해 보다 부드럽고 집중적이지 않은 자극으로 시작하는 것이 좋다. 여성은 커닐링구스를 하기 전에 개인 위생을 중요하게 생각한다. 일부 여성들은 음모를 제거하거나 다듬어 커닐링구스 경험을 향상시키고 있다.   \n",
       "31                                                             일반적인 통계에 따르면 여성의 80%가 오르가슴을 얻기 위해 직접적인 음핵 자극을 필요로 한다. 성교육 학자 쉐어 하이트의 여성의 성 보고서에 따르면 대부분의 여성의 경우 오르가슴은 클리토리스에 직접적인 자극을 주는 커닐링구스를 통해 쉽게 도달할 수 있다고 보고하고 있다. 커닐링구스를 받는 여성은 파트너의 혀가 클리토리스를 더 잘 자극할 수 있도록 손가락을 사용, 직접 음순을 분리 할 수 ​​있다. 또 다리를 넓게 벌리면 파트너가 클리토리스에 구두로 쉽게 도달 할 수 있도록 외음부를 드러낼 수 있다. 파트너는 음순과 전체 생식기 영역에 대해 보다 부드럽고 집중적이지 않은 자극으로 시작하는 것이 좋다. 여성은 커닐링구스를 하기 전에 개인 위생을 중요하게 생각한다. 일부 여성들은 음모를 제거하거나 다듬어 커닐링구스 경험을 향상시키고 있다.   \n",
       "32                                                             일반적인 통계에 따르면 여성의 80%가 오르가슴을 얻기 위해 직접적인 음핵 자극을 필요로 한다. 성교육 학자 쉐어 하이트의 여성의 성 보고서에 따르면 대부분의 여성의 경우 오르가슴은 클리토리스에 직접적인 자극을 주는 커닐링구스를 통해 쉽게 도달할 수 있다고 보고하고 있다. 커닐링구스를 받는 여성은 파트너의 혀가 클리토리스를 더 잘 자극할 수 있도록 손가락을 사용, 직접 음순을 분리 할 수 ​​있다. 또 다리를 넓게 벌리면 파트너가 클리토리스에 구두로 쉽게 도달 할 수 있도록 외음부를 드러낼 수 있다. 파트너는 음순과 전체 생식기 영역에 대해 보다 부드럽고 집중적이지 않은 자극으로 시작하는 것이 좋다. 여성은 커닐링구스를 하기 전에 개인 위생을 중요하게 생각한다. 일부 여성들은 음모를 제거하거나 다듬어 커닐링구스 경험을 향상시키고 있다.   \n",
       "33                                                             일반적인 통계에 따르면 여성의 80%가 오르가슴을 얻기 위해 직접적인 음핵 자극을 필요로 한다. 성교육 학자 쉐어 하이트의 여성의 성 보고서에 따르면 대부분의 여성의 경우 오르가슴은 클리토리스에 직접적인 자극을 주는 커닐링구스를 통해 쉽게 도달할 수 있다고 보고하고 있다. 커닐링구스를 받는 여성은 파트너의 혀가 클리토리스를 더 잘 자극할 수 있도록 손가락을 사용, 직접 음순을 분리 할 수 ​​있다. 또 다리를 넓게 벌리면 파트너가 클리토리스에 구두로 쉽게 도달 할 수 있도록 외음부를 드러낼 수 있다. 파트너는 음순과 전체 생식기 영역에 대해 보다 부드럽고 집중적이지 않은 자극으로 시작하는 것이 좋다. 여성은 커닐링구스를 하기 전에 개인 위생을 중요하게 생각한다. 일부 여성들은 음모를 제거하거나 다듬어 커닐링구스 경험을 향상시키고 있다.   \n",
       "34                                                             일반적인 통계에 따르면 여성의 80%가 오르가슴을 얻기 위해 직접적인 음핵 자극을 필요로 한다. 성교육 학자 쉐어 하이트의 여성의 성 보고서에 따르면 대부분의 여성의 경우 오르가슴은 클리토리스에 직접적인 자극을 주는 커닐링구스를 통해 쉽게 도달할 수 있다고 보고하고 있다. 커닐링구스를 받는 여성은 파트너의 혀가 클리토리스를 더 잘 자극할 수 있도록 손가락을 사용, 직접 음순을 분리 할 수 ​​있다. 또 다리를 넓게 벌리면 파트너가 클리토리스에 구두로 쉽게 도달 할 수 있도록 외음부를 드러낼 수 있다. 파트너는 음순과 전체 생식기 영역에 대해 보다 부드럽고 집중적이지 않은 자극으로 시작하는 것이 좋다. 여성은 커닐링구스를 하기 전에 개인 위생을 중요하게 생각한다. 일부 여성들은 음모를 제거하거나 다듬어 커닐링구스 경험을 향상시키고 있다.   \n",
       "35                                                             일반적인 통계에 따르면 여성의 80%가 오르가슴을 얻기 위해 직접적인 음핵 자극을 필요로 한다. 성교육 학자 쉐어 하이트의 여성의 성 보고서에 따르면 대부분의 여성의 경우 오르가슴은 클리토리스에 직접적인 자극을 주는 커닐링구스를 통해 쉽게 도달할 수 있다고 보고하고 있다. 커닐링구스를 받는 여성은 파트너의 혀가 클리토리스를 더 잘 자극할 수 있도록 손가락을 사용, 직접 음순을 분리 할 수 ​​있다. 또 다리를 넓게 벌리면 파트너가 클리토리스에 구두로 쉽게 도달 할 수 있도록 외음부를 드러낼 수 있다. 파트너는 음순과 전체 생식기 영역에 대해 보다 부드럽고 집중적이지 않은 자극으로 시작하는 것이 좋다. 여성은 커닐링구스를 하기 전에 개인 위생을 중요하게 생각한다. 일부 여성들은 음모를 제거하거나 다듬어 커닐링구스 경험을 향상시키고 있다.   \n",
       "36  성경의 아가서 7 : 3 (제임스 왕 역에서 7 : 2)는 커닐링구스에 대한 우회적 언급이 포함되어 있다고도 생각할 수 있지만, 많은 번역자는 핵심 단어를 \"배꼽\"로 번역하고 있다. 일부는 \"여성의 웅덩이에 포도주가 가득 채워지고 있다는 묘사는 육욕적인 그릇에서 마시고 싶은 남자의 욕망을 암시하고 있다. 따라서 이것은 교정의 미묘하고 깊은 맛의 귀띔인지도 모른다\"라는 해석을 보여주고 있다. 다른 번역에서는 다음과 같이도 읽을 수있는 - \"너의 음부는 동그란 컵, 칵테일이 끊어진 적이 없다.\"(아가 7 : 2 שררך אגן הסהר אל יחסר המזג) 샌들에서 출발 \"vulva\"(히브리어 shor-- 아람어 '비밀 장소'라는 단어에서 파생 된), 배, 가슴으로 올라 간다고 하는 문맥이 단어의 의미를 거의 결정 짓는 것이다. 기독교와 유대교의 여러 전통에서 \"아가\"에 그려진 신랑과 신부의 에로틱한 친밀감에 영적인 의미를 부여하고 있다.   \n",
       "37  성경의 아가서 7 : 3 (제임스 왕 역에서 7 : 2)는 커닐링구스에 대한 우회적 언급이 포함되어 있다고도 생각할 수 있지만, 많은 번역자는 핵심 단어를 \"배꼽\"로 번역하고 있다. 일부는 \"여성의 웅덩이에 포도주가 가득 채워지고 있다는 묘사는 육욕적인 그릇에서 마시고 싶은 남자의 욕망을 암시하고 있다. 따라서 이것은 교정의 미묘하고 깊은 맛의 귀띔인지도 모른다\"라는 해석을 보여주고 있다. 다른 번역에서는 다음과 같이도 읽을 수있는 - \"너의 음부는 동그란 컵, 칵테일이 끊어진 적이 없다.\"(아가 7 : 2 שררך אגן הסהר אל יחסר המזג) 샌들에서 출발 \"vulva\"(히브리어 shor-- 아람어 '비밀 장소'라는 단어에서 파생 된), 배, 가슴으로 올라 간다고 하는 문맥이 단어의 의미를 거의 결정 짓는 것이다. 기독교와 유대교의 여러 전통에서 \"아가\"에 그려진 신랑과 신부의 에로틱한 친밀감에 영적인 의미를 부여하고 있다.   \n",
       "38  성경의 아가서 7 : 3 (제임스 왕 역에서 7 : 2)는 커닐링구스에 대한 우회적 언급이 포함되어 있다고도 생각할 수 있지만, 많은 번역자는 핵심 단어를 \"배꼽\"로 번역하고 있다. 일부는 \"여성의 웅덩이에 포도주가 가득 채워지고 있다는 묘사는 육욕적인 그릇에서 마시고 싶은 남자의 욕망을 암시하고 있다. 따라서 이것은 교정의 미묘하고 깊은 맛의 귀띔인지도 모른다\"라는 해석을 보여주고 있다. 다른 번역에서는 다음과 같이도 읽을 수있는 - \"너의 음부는 동그란 컵, 칵테일이 끊어진 적이 없다.\"(아가 7 : 2 שררך אגן הסהר אל יחסר המזג) 샌들에서 출발 \"vulva\"(히브리어 shor-- 아람어 '비밀 장소'라는 단어에서 파생 된), 배, 가슴으로 올라 간다고 하는 문맥이 단어의 의미를 거의 결정 짓는 것이다. 기독교와 유대교의 여러 전통에서 \"아가\"에 그려진 신랑과 신부의 에로틱한 친밀감에 영적인 의미를 부여하고 있다.   \n",
       "39  성경의 아가서 7 : 3 (제임스 왕 역에서 7 : 2)는 커닐링구스에 대한 우회적 언급이 포함되어 있다고도 생각할 수 있지만, 많은 번역자는 핵심 단어를 \"배꼽\"로 번역하고 있다. 일부는 \"여성의 웅덩이에 포도주가 가득 채워지고 있다는 묘사는 육욕적인 그릇에서 마시고 싶은 남자의 욕망을 암시하고 있다. 따라서 이것은 교정의 미묘하고 깊은 맛의 귀띔인지도 모른다\"라는 해석을 보여주고 있다. 다른 번역에서는 다음과 같이도 읽을 수있는 - \"너의 음부는 동그란 컵, 칵테일이 끊어진 적이 없다.\"(아가 7 : 2 שררך אגן הסהר אל יחסר המזג) 샌들에서 출발 \"vulva\"(히브리어 shor-- 아람어 '비밀 장소'라는 단어에서 파생 된), 배, 가슴으로 올라 간다고 하는 문맥이 단어의 의미를 거의 결정 짓는 것이다. 기독교와 유대교의 여러 전통에서 \"아가\"에 그려진 신랑과 신부의 에로틱한 친밀감에 영적인 의미를 부여하고 있다.   \n",
       "\n",
       "             id  \\\n",
       "20  6566518-2-1   \n",
       "21  5917067-2-0   \n",
       "22  5917067-2-1   \n",
       "23  5917067-2-2   \n",
       "24  6561639-0-0   \n",
       "25  6561639-0-1   \n",
       "26  6561642-0-0   \n",
       "27  6561642-0-1   \n",
       "28  6561653-0-0   \n",
       "29  6561653-0-1   \n",
       "30  6561639-1-0   \n",
       "31  6561639-1-1   \n",
       "32  6561642-1-0   \n",
       "33  6561642-1-1   \n",
       "34  6561653-1-0   \n",
       "35  6561653-1-1   \n",
       "36  6561639-2-0   \n",
       "37  6561639-2-1   \n",
       "38  6561642-2-0   \n",
       "39  6561642-2-1   \n",
       "\n",
       "                                                                  question  \\\n",
       "20                                                     제2주제의 축소된 재현부의 조성은?   \n",
       "21                                                           곡이 시작할때의 박자는?   \n",
       "22                                                            이 곡의 주요 주제는?   \n",
       "23                                                   제 2주제에선 무슨 장조로 재현되는가?   \n",
       "24                                      모든 구강기관으로 여성의 성기를 애무하는 것을 뭐라고 하는가?   \n",
       "25                                                 구강성교를 할 때 중요한 감각은 무엇인가?   \n",
       "26                                        구강기관으로 여성의 성기를 애무하는 행위를 뜻하는 용어는?   \n",
       "27                                               구강성교시 특히 어느 부위의 감각이 중요한가?   \n",
       "28                             여성의 성기를 애무하는 것을 말하는 커닐링구스를 다른 말로 무엇이라고 합니까?   \n",
       "29                      커닐링구스는 받는 사람이 다양한 성감을 느끼는 원인이 되며 무엇의 감각이 특히 중요합니까?   \n",
       "30  오르가슴은 클리토리스에 직접적인 자극을 주는 커닐링구스를 통해 쉽게 도달할 수 있다고 여성의 성 보고서를 쓴 사람은 누구인가?   \n",
       "31                                     여성이 커닐링구스를 하기 전에 중요하게 생각하는 것은 무엇인가?   \n",
       "32                 일반적 통계에 따르면 오르가슴을 얻기 위해 직접적인 음핵 자극을 필요로 하는 여성은 몇 퍼센트인가?   \n",
       "33              대부분의 여성이 커닐링구스를 통해 쉽게 오르가슴에 도달할 수 있다는 성 보고서를 작성한 학자는 누구인가?   \n",
       "34                  일반적인 통계로 볼 때, 여성의 80%가 오르가슴을 얻으려고 직접적인 어떤 자극을 필요로 합니까?   \n",
       "35   커닐링구스를 받는 여성은 파트너의 혀가 클리토리스를 잘 자극할 수 있도록 손가락을 사용하면 직접 무엇을 분리할 수 있습니까?   \n",
       "36                                      성경에서 커닐링구스에 대해 우회적으로 번역한 단어는 무엇인가?   \n",
       "37             육육적인 그릇에서 마시고 싶은 남자의 욕망을 암시할 때 여성의 웅덩이에 가득 채워지고 있던 것은 무엇인가?   \n",
       "38             아가서 중 커닐링구스에 대한 우회적 언급으로 생각할 수 있는 구절의 핵심 단어는 주로 무엇으로 번역되는가?   \n",
       "39           아가서 7장 3절에 대한 해석 중 음부를 동그란 컵에 비유한 번역은 컵에 무엇이 끊어진 적이 없다고 하였는가?   \n",
       "\n",
       "      title  passages  \n",
       "20  파우스트_서곡         1  \n",
       "21  파우스트_서곡         1  \n",
       "22  파우스트_서곡         1  \n",
       "23  파우스트_서곡         1  \n",
       "24    커닐링구스         1  \n",
       "25    커닐링구스         1  \n",
       "26    커닐링구스         1  \n",
       "27    커닐링구스         1  \n",
       "28    커닐링구스         1  \n",
       "29    커닐링구스         1  \n",
       "30    커닐링구스         1  \n",
       "31    커닐링구스         1  \n",
       "32    커닐링구스         1  \n",
       "33    커닐링구스         1  \n",
       "34    커닐링구스         1  \n",
       "35    커닐링구스         1  \n",
       "36    커닐링구스         1  \n",
       "37    커닐링구스         1  \n",
       "38    커닐링구스         1  \n",
       "39    커닐링구스         1  "
      ],
      "text/html": "<div>\n<style scoped>\n    .dataframe tbody tr th:only-of-type {\n        vertical-align: middle;\n    }\n\n    .dataframe tbody tr th {\n        vertical-align: top;\n    }\n\n    .dataframe thead th {\n        text-align: right;\n    }\n</style>\n<table border=\"1\" class=\"dataframe\">\n  <thead>\n    <tr style=\"text-align: right;\">\n      <th></th>\n      <th>answers</th>\n      <th>context</th>\n      <th>id</th>\n      <th>question</th>\n      <th>title</th>\n      <th>passages</th>\n    </tr>\n  </thead>\n  <tbody>\n    <tr>\n      <th>20</th>\n      <td>{'answer_start': [409], 'text': ['D장조']}</td>\n      <td>이 작품은 라단조, Sehr gehalten(아주 신중하게), 4/4박자의 부드러운 서주로 서주로 시작되는데, 여기에는 주요 주제, 동기의 대부분이 암시, 예고되어 있다. 첫 부분의 저음 주제는 주요 주제(고뇌와 갈망 동기, 청춘의 사랑 동기)를 암시하고 있으며, 제1바이올린으로 더욱 명확하게 나타난다. 또한 그것을 이어받는 동기도 중요한 역할을 한다. 여기에 새로운 소재가 더해진 뒤에 새로운 주제도 연주된다. 주요부는 Sehr bewegt(아주 격동적으로), 2/2박자의 자유로운 소나타 형식으로 매우 드라마틱한 구상과 유기적인 구성을 하고 있다. 여기에는 지금까지의 주제나 소재 외에도 오보에에 의한 선율과 제2주제를 떠올리게 하는 부차적인 주제가 더해지는데, 중간부에서는 약보3이 중심이 되고 제2주제는 축소된 재현부에서 D장조로 재현된다. 마지막에는 주요 주제를 회상하면서 조용히 마친다.</td>\n      <td>6566518-2-1</td>\n      <td>제2주제의 축소된 재현부의 조성은?</td>\n      <td>파우스트_서곡</td>\n      <td>1</td>\n    </tr>\n    <tr>\n      <th>21</th>\n      <td>{'answer_start': [35], 'text': ['4/4박자']}</td>\n      <td>이 작품은 라단조, Sehr gehalten(아주 신중하게), 4/4박자의 부드러운 서주로 서주로 시작되는데, 여기에는 주요 주제, 동기의 대부분이 암시, 예고되어 있다. 첫 부분의 저음 주제는 주요 주제(고뇌와 갈망 동기, 청춘의 사랑 동기)를 암시하고 있으며, 제1바이올린으로 더욱 명확하게 나타난다. 또한 그것을 이어받는 동기도 중요한 역할을 한다. 여기에 새로운 소재가 더해진 뒤에 새로운 주제도 연주된다. 주요부는 Sehr bewegt(아주 격동적으로), 2/2박자의 자유로운 소나타 형식으로 매우 드라마틱한 구상과 유기적인 구성을 하고 있다. 여기에는 지금까지의 주제나 소재 외에도 오보에에 의한 선율과 제2주제를 떠올리게 하는 부차적인 주제가 더해지는데, 중간부에서는 약보3이 중심이 되고 제2주제는 축소된 재현부에서 D장조로 재현된다. 마지막에는 주요 주제를 회상하면서 조용히 마친다.</td>\n      <td>5917067-2-0</td>\n      <td>곡이 시작할때의 박자는?</td>\n      <td>파우스트_서곡</td>\n      <td>1</td>\n    </tr>\n    <tr>\n      <th>22</th>\n      <td>{'answer_start': [115], 'text': ['고뇌와 갈망 동기, 청춘의 사랑 동기']}</td>\n      <td>이 작품은 라단조, Sehr gehalten(아주 신중하게), 4/4박자의 부드러운 서주로 서주로 시작되는데, 여기에는 주요 주제, 동기의 대부분이 암시, 예고되어 있다. 첫 부분의 저음 주제는 주요 주제(고뇌와 갈망 동기, 청춘의 사랑 동기)를 암시하고 있으며, 제1바이올린으로 더욱 명확하게 나타난다. 또한 그것을 이어받는 동기도 중요한 역할을 한다. 여기에 새로운 소재가 더해진 뒤에 새로운 주제도 연주된다. 주요부는 Sehr bewegt(아주 격동적으로), 2/2박자의 자유로운 소나타 형식으로 매우 드라마틱한 구상과 유기적인 구성을 하고 있다. 여기에는 지금까지의 주제나 소재 외에도 오보에에 의한 선율과 제2주제를 떠올리게 하는 부차적인 주제가 더해지는데, 중간부에서는 약보3이 중심이 되고 제2주제는 축소된 재현부에서 D장조로 재현된다. 마지막에는 주요 주제를 회상하면서 조용히 마친다.</td>\n      <td>5917067-2-1</td>\n      <td>이 곡의 주요 주제는?</td>\n      <td>파우스트_서곡</td>\n      <td>1</td>\n    </tr>\n    <tr>\n      <th>23</th>\n      <td>{'answer_start': [409], 'text': ['D장조']}</td>\n      <td>이 작품은 라단조, Sehr gehalten(아주 신중하게), 4/4박자의 부드러운 서주로 서주로 시작되는데, 여기에는 주요 주제, 동기의 대부분이 암시, 예고되어 있다. 첫 부분의 저음 주제는 주요 주제(고뇌와 갈망 동기, 청춘의 사랑 동기)를 암시하고 있으며, 제1바이올린으로 더욱 명확하게 나타난다. 또한 그것을 이어받는 동기도 중요한 역할을 한다. 여기에 새로운 소재가 더해진 뒤에 새로운 주제도 연주된다. 주요부는 Sehr bewegt(아주 격동적으로), 2/2박자의 자유로운 소나타 형식으로 매우 드라마틱한 구상과 유기적인 구성을 하고 있다. 여기에는 지금까지의 주제나 소재 외에도 오보에에 의한 선율과 제2주제를 떠올리게 하는 부차적인 주제가 더해지는데, 중간부에서는 약보3이 중심이 되고 제2주제는 축소된 재현부에서 D장조로 재현된다. 마지막에는 주요 주제를 회상하면서 조용히 마친다.</td>\n      <td>5917067-2-2</td>\n      <td>제 2주제에선 무슨 장조로 재현되는가?</td>\n      <td>파우스트_서곡</td>\n      <td>1</td>\n    </tr>\n    <tr>\n      <th>24</th>\n      <td>{'answer_start': [0], 'text': ['커닐링구스']}</td>\n      <td>커닐링구스(커닐링거스, 쿤닐링구스, 영어: Cunnilingus)는 입술, 혀, 입 등의 모든 구강기관으로 여성의 성기를 애무하는 것을 말하며 구강성교(오럴섹스, 영어: Oral sex)라고도 한다. 보통 남성이 행하며 동성의 여성이 행하는 경우도 있다. 혀를 질에 넣거나 여성의 클리토리스, 외음부나 그 주변을 핥거나 빨아서 애무한다. 받는 사람이 다양한 성감을 느끼는 원인이 되며 특히 클리토리스의 감각이 매우 중요하다. 타액과 수성윤활제가 자주 사용되고 이것들은 부드럽게 매끄러운 자극을 가능하게 한다. 파트너의 반응에 귀를 기울이면서 손가락과 같은 다른 애무와 함께 몸 전체에 다양한 자극과 결합하여 양측이 폭넓은 즐거움을 나눌 수 있게 한다. 전희로서 하는 경우가 많지만, 오르가즘에의 도달 여부에 관계없이 커닐링구스 자체가 성행위이다.</td>\n      <td>6561639-0-0</td>\n      <td>모든 구강기관으로 여성의 성기를 애무하는 것을 뭐라고 하는가?</td>\n      <td>커닐링구스</td>\n      <td>1</td>\n    </tr>\n    <tr>\n      <th>25</th>\n      <td>{'answer_start': [218], 'text': ['클리토리스']}</td>\n      <td>커닐링구스(커닐링거스, 쿤닐링구스, 영어: Cunnilingus)는 입술, 혀, 입 등의 모든 구강기관으로 여성의 성기를 애무하는 것을 말하며 구강성교(오럴섹스, 영어: Oral sex)라고도 한다. 보통 남성이 행하며 동성의 여성이 행하는 경우도 있다. 혀를 질에 넣거나 여성의 클리토리스, 외음부나 그 주변을 핥거나 빨아서 애무한다. 받는 사람이 다양한 성감을 느끼는 원인이 되며 특히 클리토리스의 감각이 매우 중요하다. 타액과 수성윤활제가 자주 사용되고 이것들은 부드럽게 매끄러운 자극을 가능하게 한다. 파트너의 반응에 귀를 기울이면서 손가락과 같은 다른 애무와 함께 몸 전체에 다양한 자극과 결합하여 양측이 폭넓은 즐거움을 나눌 수 있게 한다. 전희로서 하는 경우가 많지만, 오르가즘에의 도달 여부에 관계없이 커닐링구스 자체가 성행위이다.</td>\n      <td>6561639-0-1</td>\n      <td>구강성교를 할 때 중요한 감각은 무엇인가?</td>\n      <td>커닐링구스</td>\n      <td>1</td>\n    </tr>\n    <tr>\n      <th>26</th>\n      <td>{'answer_start': [0], 'text': ['커닐링구스']}</td>\n      <td>커닐링구스(커닐링거스, 쿤닐링구스, 영어: Cunnilingus)는 입술, 혀, 입 등의 모든 구강기관으로 여성의 성기를 애무하는 것을 말하며 구강성교(오럴섹스, 영어: Oral sex)라고도 한다. 보통 남성이 행하며 동성의 여성이 행하는 경우도 있다. 혀를 질에 넣거나 여성의 클리토리스, 외음부나 그 주변을 핥거나 빨아서 애무한다. 받는 사람이 다양한 성감을 느끼는 원인이 되며 특히 클리토리스의 감각이 매우 중요하다. 타액과 수성윤활제가 자주 사용되고 이것들은 부드럽게 매끄러운 자극을 가능하게 한다. 파트너의 반응에 귀를 기울이면서 손가락과 같은 다른 애무와 함께 몸 전체에 다양한 자극과 결합하여 양측이 폭넓은 즐거움을 나눌 수 있게 한다. 전희로서 하는 경우가 많지만, 오르가즘에의 도달 여부에 관계없이 커닐링구스 자체가 성행위이다.</td>\n      <td>6561642-0-0</td>\n      <td>구강기관으로 여성의 성기를 애무하는 행위를 뜻하는 용어는?</td>\n      <td>커닐링구스</td>\n      <td>1</td>\n    </tr>\n    <tr>\n      <th>27</th>\n      <td>{'answer_start': [218], 'text': ['클리토리스']}</td>\n      <td>커닐링구스(커닐링거스, 쿤닐링구스, 영어: Cunnilingus)는 입술, 혀, 입 등의 모든 구강기관으로 여성의 성기를 애무하는 것을 말하며 구강성교(오럴섹스, 영어: Oral sex)라고도 한다. 보통 남성이 행하며 동성의 여성이 행하는 경우도 있다. 혀를 질에 넣거나 여성의 클리토리스, 외음부나 그 주변을 핥거나 빨아서 애무한다. 받는 사람이 다양한 성감을 느끼는 원인이 되며 특히 클리토리스의 감각이 매우 중요하다. 타액과 수성윤활제가 자주 사용되고 이것들은 부드럽게 매끄러운 자극을 가능하게 한다. 파트너의 반응에 귀를 기울이면서 손가락과 같은 다른 애무와 함께 몸 전체에 다양한 자극과 결합하여 양측이 폭넓은 즐거움을 나눌 수 있게 한다. 전희로서 하는 경우가 많지만, 오르가즘에의 도달 여부에 관계없이 커닐링구스 자체가 성행위이다.</td>\n      <td>6561642-0-1</td>\n      <td>구강성교시 특히 어느 부위의 감각이 중요한가?</td>\n      <td>커닐링구스</td>\n      <td>1</td>\n    </tr>\n    <tr>\n      <th>28</th>\n      <td>{'answer_start': [80], 'text': ['구강성교']}</td>\n      <td>커닐링구스(커닐링거스, 쿤닐링구스, 영어: Cunnilingus)는 입술, 혀, 입 등의 모든 구강기관으로 여성의 성기를 애무하는 것을 말하며 구강성교(오럴섹스, 영어: Oral sex)라고도 한다. 보통 남성이 행하며 동성의 여성이 행하는 경우도 있다. 혀를 질에 넣거나 여성의 클리토리스, 외음부나 그 주변을 핥거나 빨아서 애무한다. 받는 사람이 다양한 성감을 느끼는 원인이 되며 특히 클리토리스의 감각이 매우 중요하다. 타액과 수성윤활제가 자주 사용되고 이것들은 부드럽게 매끄러운 자극을 가능하게 한다. 파트너의 반응에 귀를 기울이면서 손가락과 같은 다른 애무와 함께 몸 전체에 다양한 자극과 결합하여 양측이 폭넓은 즐거움을 나눌 수 있게 한다. 전희로서 하는 경우가 많지만, 오르가즘에의 도달 여부에 관계없이 커닐링구스 자체가 성행위이다.</td>\n      <td>6561653-0-0</td>\n      <td>여성의 성기를 애무하는 것을 말하는 커닐링구스를 다른 말로 무엇이라고 합니까?</td>\n      <td>커닐링구스</td>\n      <td>1</td>\n    </tr>\n    <tr>\n      <th>29</th>\n      <td>{'answer_start': [218], 'text': ['클리토리스']}</td>\n      <td>커닐링구스(커닐링거스, 쿤닐링구스, 영어: Cunnilingus)는 입술, 혀, 입 등의 모든 구강기관으로 여성의 성기를 애무하는 것을 말하며 구강성교(오럴섹스, 영어: Oral sex)라고도 한다. 보통 남성이 행하며 동성의 여성이 행하는 경우도 있다. 혀를 질에 넣거나 여성의 클리토리스, 외음부나 그 주변을 핥거나 빨아서 애무한다. 받는 사람이 다양한 성감을 느끼는 원인이 되며 특히 클리토리스의 감각이 매우 중요하다. 타액과 수성윤활제가 자주 사용되고 이것들은 부드럽게 매끄러운 자극을 가능하게 한다. 파트너의 반응에 귀를 기울이면서 손가락과 같은 다른 애무와 함께 몸 전체에 다양한 자극과 결합하여 양측이 폭넓은 즐거움을 나눌 수 있게 한다. 전희로서 하는 경우가 많지만, 오르가즘에의 도달 여부에 관계없이 커닐링구스 자체가 성행위이다.</td>\n      <td>6561653-0-1</td>\n      <td>커닐링구스는 받는 사람이 다양한 성감을 느끼는 원인이 되며 무엇의 감각이 특히 중요합니까?</td>\n      <td>커닐링구스</td>\n      <td>1</td>\n    </tr>\n    <tr>\n      <th>30</th>\n      <td>{'answer_start': [61], 'text': ['쉐어 하이트']}</td>\n      <td>일반적인 통계에 따르면 여성의 80%가 오르가슴을 얻기 위해 직접적인 음핵 자극을 필요로 한다. 성교육 학자 쉐어 하이트의 여성의 성 보고서에 따르면 대부분의 여성의 경우 오르가슴은 클리토리스에 직접적인 자극을 주는 커닐링구스를 통해 쉽게 도달할 수 있다고 보고하고 있다. 커닐링구스를 받는 여성은 파트너의 혀가 클리토리스를 더 잘 자극할 수 있도록 손가락을 사용, 직접 음순을 분리 할 수 ​​있다. 또 다리를 넓게 벌리면 파트너가 클리토리스에 구두로 쉽게 도달 할 수 있도록 외음부를 드러낼 수 있다. 파트너는 음순과 전체 생식기 영역에 대해 보다 부드럽고 집중적이지 않은 자극으로 시작하는 것이 좋다. 여성은 커닐링구스를 하기 전에 개인 위생을 중요하게 생각한다. 일부 여성들은 음모를 제거하거나 다듬어 커닐링구스 경험을 향상시키고 있다.</td>\n      <td>6561639-1-0</td>\n      <td>오르가슴은 클리토리스에 직접적인 자극을 주는 커닐링구스를 통해 쉽게 도달할 수 있다고 여성의 성 보고서를 쓴 사람은 누구인가?</td>\n      <td>커닐링구스</td>\n      <td>1</td>\n    </tr>\n    <tr>\n      <th>31</th>\n      <td>{'answer_start': [357], 'text': ['개인 위생']}</td>\n      <td>일반적인 통계에 따르면 여성의 80%가 오르가슴을 얻기 위해 직접적인 음핵 자극을 필요로 한다. 성교육 학자 쉐어 하이트의 여성의 성 보고서에 따르면 대부분의 여성의 경우 오르가슴은 클리토리스에 직접적인 자극을 주는 커닐링구스를 통해 쉽게 도달할 수 있다고 보고하고 있다. 커닐링구스를 받는 여성은 파트너의 혀가 클리토리스를 더 잘 자극할 수 있도록 손가락을 사용, 직접 음순을 분리 할 수 ​​있다. 또 다리를 넓게 벌리면 파트너가 클리토리스에 구두로 쉽게 도달 할 수 있도록 외음부를 드러낼 수 있다. 파트너는 음순과 전체 생식기 영역에 대해 보다 부드럽고 집중적이지 않은 자극으로 시작하는 것이 좋다. 여성은 커닐링구스를 하기 전에 개인 위생을 중요하게 생각한다. 일부 여성들은 음모를 제거하거나 다듬어 커닐링구스 경험을 향상시키고 있다.</td>\n      <td>6561639-1-1</td>\n      <td>여성이 커닐링구스를 하기 전에 중요하게 생각하는 것은 무엇인가?</td>\n      <td>커닐링구스</td>\n      <td>1</td>\n    </tr>\n    <tr>\n      <th>32</th>\n      <td>{'answer_start': [17], 'text': ['80%']}</td>\n      <td>일반적인 통계에 따르면 여성의 80%가 오르가슴을 얻기 위해 직접적인 음핵 자극을 필요로 한다. 성교육 학자 쉐어 하이트의 여성의 성 보고서에 따르면 대부분의 여성의 경우 오르가슴은 클리토리스에 직접적인 자극을 주는 커닐링구스를 통해 쉽게 도달할 수 있다고 보고하고 있다. 커닐링구스를 받는 여성은 파트너의 혀가 클리토리스를 더 잘 자극할 수 있도록 손가락을 사용, 직접 음순을 분리 할 수 ​​있다. 또 다리를 넓게 벌리면 파트너가 클리토리스에 구두로 쉽게 도달 할 수 있도록 외음부를 드러낼 수 있다. 파트너는 음순과 전체 생식기 영역에 대해 보다 부드럽고 집중적이지 않은 자극으로 시작하는 것이 좋다. 여성은 커닐링구스를 하기 전에 개인 위생을 중요하게 생각한다. 일부 여성들은 음모를 제거하거나 다듬어 커닐링구스 경험을 향상시키고 있다.</td>\n      <td>6561642-1-0</td>\n      <td>일반적 통계에 따르면 오르가슴을 얻기 위해 직접적인 음핵 자극을 필요로 하는 여성은 몇 퍼센트인가?</td>\n      <td>커닐링구스</td>\n      <td>1</td>\n    </tr>\n    <tr>\n      <th>33</th>\n      <td>{'answer_start': [61], 'text': ['쉐어 하이트']}</td>\n      <td>일반적인 통계에 따르면 여성의 80%가 오르가슴을 얻기 위해 직접적인 음핵 자극을 필요로 한다. 성교육 학자 쉐어 하이트의 여성의 성 보고서에 따르면 대부분의 여성의 경우 오르가슴은 클리토리스에 직접적인 자극을 주는 커닐링구스를 통해 쉽게 도달할 수 있다고 보고하고 있다. 커닐링구스를 받는 여성은 파트너의 혀가 클리토리스를 더 잘 자극할 수 있도록 손가락을 사용, 직접 음순을 분리 할 수 ​​있다. 또 다리를 넓게 벌리면 파트너가 클리토리스에 구두로 쉽게 도달 할 수 있도록 외음부를 드러낼 수 있다. 파트너는 음순과 전체 생식기 영역에 대해 보다 부드럽고 집중적이지 않은 자극으로 시작하는 것이 좋다. 여성은 커닐링구스를 하기 전에 개인 위생을 중요하게 생각한다. 일부 여성들은 음모를 제거하거나 다듬어 커닐링구스 경험을 향상시키고 있다.</td>\n      <td>6561642-1-1</td>\n      <td>대부분의 여성이 커닐링구스를 통해 쉽게 오르가슴에 도달할 수 있다는 성 보고서를 작성한 학자는 누구인가?</td>\n      <td>커닐링구스</td>\n      <td>1</td>\n    </tr>\n    <tr>\n      <th>34</th>\n      <td>{'answer_start': [39], 'text': ['음핵 자극']}</td>\n      <td>일반적인 통계에 따르면 여성의 80%가 오르가슴을 얻기 위해 직접적인 음핵 자극을 필요로 한다. 성교육 학자 쉐어 하이트의 여성의 성 보고서에 따르면 대부분의 여성의 경우 오르가슴은 클리토리스에 직접적인 자극을 주는 커닐링구스를 통해 쉽게 도달할 수 있다고 보고하고 있다. 커닐링구스를 받는 여성은 파트너의 혀가 클리토리스를 더 잘 자극할 수 있도록 손가락을 사용, 직접 음순을 분리 할 수 ​​있다. 또 다리를 넓게 벌리면 파트너가 클리토리스에 구두로 쉽게 도달 할 수 있도록 외음부를 드러낼 수 있다. 파트너는 음순과 전체 생식기 영역에 대해 보다 부드럽고 집중적이지 않은 자극으로 시작하는 것이 좋다. 여성은 커닐링구스를 하기 전에 개인 위생을 중요하게 생각한다. 일부 여성들은 음모를 제거하거나 다듬어 커닐링구스 경험을 향상시키고 있다.</td>\n      <td>6561653-1-0</td>\n      <td>일반적인 통계로 볼 때, 여성의 80%가 오르가슴을 얻으려고 직접적인 어떤 자극을 필요로 합니까?</td>\n      <td>커닐링구스</td>\n      <td>1</td>\n    </tr>\n    <tr>\n      <th>35</th>\n      <td>{'answer_start': [208], 'text': ['음순']}</td>\n      <td>일반적인 통계에 따르면 여성의 80%가 오르가슴을 얻기 위해 직접적인 음핵 자극을 필요로 한다. 성교육 학자 쉐어 하이트의 여성의 성 보고서에 따르면 대부분의 여성의 경우 오르가슴은 클리토리스에 직접적인 자극을 주는 커닐링구스를 통해 쉽게 도달할 수 있다고 보고하고 있다. 커닐링구스를 받는 여성은 파트너의 혀가 클리토리스를 더 잘 자극할 수 있도록 손가락을 사용, 직접 음순을 분리 할 수 ​​있다. 또 다리를 넓게 벌리면 파트너가 클리토리스에 구두로 쉽게 도달 할 수 있도록 외음부를 드러낼 수 있다. 파트너는 음순과 전체 생식기 영역에 대해 보다 부드럽고 집중적이지 않은 자극으로 시작하는 것이 좋다. 여성은 커닐링구스를 하기 전에 개인 위생을 중요하게 생각한다. 일부 여성들은 음모를 제거하거나 다듬어 커닐링구스 경험을 향상시키고 있다.</td>\n      <td>6561653-1-1</td>\n      <td>커닐링구스를 받는 여성은 파트너의 혀가 클리토리스를 잘 자극할 수 있도록 손가락을 사용하면 직접 무엇을 분리할 수 있습니까?</td>\n      <td>커닐링구스</td>\n      <td>1</td>\n    </tr>\n    <tr>\n      <th>36</th>\n      <td>{'answer_start': [88], 'text': ['배꼽']}</td>\n      <td>성경의 아가서 7 : 3 (제임스 왕 역에서 7 : 2)는 커닐링구스에 대한 우회적 언급이 포함되어 있다고도 생각할 수 있지만, 많은 번역자는 핵심 단어를 \"배꼽\"로 번역하고 있다. 일부는 \"여성의 웅덩이에 포도주가 가득 채워지고 있다는 묘사는 육욕적인 그릇에서 마시고 싶은 남자의 욕망을 암시하고 있다. 따라서 이것은 교정의 미묘하고 깊은 맛의 귀띔인지도 모른다\"라는 해석을 보여주고 있다. 다른 번역에서는 다음과 같이도 읽을 수있는 - \"너의 음부는 동그란 컵, 칵테일이 끊어진 적이 없다.\"(아가 7 : 2 שררך אגן הסהר אל יחסר המזג) 샌들에서 출발 \"vulva\"(히브리어 shor-- 아람어 '비밀 장소'라는 단어에서 파생 된), 배, 가슴으로 올라 간다고 하는 문맥이 단어의 의미를 거의 결정 짓는 것이다. 기독교와 유대교의 여러 전통에서 \"아가\"에 그려진 신랑과 신부의 에로틱한 친밀감에 영적인 의미를 부여하고 있다.</td>\n      <td>6561639-2-0</td>\n      <td>성경에서 커닐링구스에 대해 우회적으로 번역한 단어는 무엇인가?</td>\n      <td>커닐링구스</td>\n      <td>1</td>\n    </tr>\n    <tr>\n      <th>37</th>\n      <td>{'answer_start': [116], 'text': ['포도주']}</td>\n      <td>성경의 아가서 7 : 3 (제임스 왕 역에서 7 : 2)는 커닐링구스에 대한 우회적 언급이 포함되어 있다고도 생각할 수 있지만, 많은 번역자는 핵심 단어를 \"배꼽\"로 번역하고 있다. 일부는 \"여성의 웅덩이에 포도주가 가득 채워지고 있다는 묘사는 육욕적인 그릇에서 마시고 싶은 남자의 욕망을 암시하고 있다. 따라서 이것은 교정의 미묘하고 깊은 맛의 귀띔인지도 모른다\"라는 해석을 보여주고 있다. 다른 번역에서는 다음과 같이도 읽을 수있는 - \"너의 음부는 동그란 컵, 칵테일이 끊어진 적이 없다.\"(아가 7 : 2 שררך אגן הסהר אל יחסר המזג) 샌들에서 출발 \"vulva\"(히브리어 shor-- 아람어 '비밀 장소'라는 단어에서 파생 된), 배, 가슴으로 올라 간다고 하는 문맥이 단어의 의미를 거의 결정 짓는 것이다. 기독교와 유대교의 여러 전통에서 \"아가\"에 그려진 신랑과 신부의 에로틱한 친밀감에 영적인 의미를 부여하고 있다.</td>\n      <td>6561639-2-1</td>\n      <td>육육적인 그릇에서 마시고 싶은 남자의 욕망을 암시할 때 여성의 웅덩이에 가득 채워지고 있던 것은 무엇인가?</td>\n      <td>커닐링구스</td>\n      <td>1</td>\n    </tr>\n    <tr>\n      <th>38</th>\n      <td>{'answer_start': [88], 'text': ['배꼽']}</td>\n      <td>성경의 아가서 7 : 3 (제임스 왕 역에서 7 : 2)는 커닐링구스에 대한 우회적 언급이 포함되어 있다고도 생각할 수 있지만, 많은 번역자는 핵심 단어를 \"배꼽\"로 번역하고 있다. 일부는 \"여성의 웅덩이에 포도주가 가득 채워지고 있다는 묘사는 육욕적인 그릇에서 마시고 싶은 남자의 욕망을 암시하고 있다. 따라서 이것은 교정의 미묘하고 깊은 맛의 귀띔인지도 모른다\"라는 해석을 보여주고 있다. 다른 번역에서는 다음과 같이도 읽을 수있는 - \"너의 음부는 동그란 컵, 칵테일이 끊어진 적이 없다.\"(아가 7 : 2 שררך אגן הסהר אל יחסר המזג) 샌들에서 출발 \"vulva\"(히브리어 shor-- 아람어 '비밀 장소'라는 단어에서 파생 된), 배, 가슴으로 올라 간다고 하는 문맥이 단어의 의미를 거의 결정 짓는 것이다. 기독교와 유대교의 여러 전통에서 \"아가\"에 그려진 신랑과 신부의 에로틱한 친밀감에 영적인 의미를 부여하고 있다.</td>\n      <td>6561642-2-0</td>\n      <td>아가서 중 커닐링구스에 대한 우회적 언급으로 생각할 수 있는 구절의 핵심 단어는 주로 무엇으로 번역되는가?</td>\n      <td>커닐링구스</td>\n      <td>1</td>\n    </tr>\n    <tr>\n      <th>39</th>\n      <td>{'answer_start': [261], 'text': ['칵테일']}</td>\n      <td>성경의 아가서 7 : 3 (제임스 왕 역에서 7 : 2)는 커닐링구스에 대한 우회적 언급이 포함되어 있다고도 생각할 수 있지만, 많은 번역자는 핵심 단어를 \"배꼽\"로 번역하고 있다. 일부는 \"여성의 웅덩이에 포도주가 가득 채워지고 있다는 묘사는 육욕적인 그릇에서 마시고 싶은 남자의 욕망을 암시하고 있다. 따라서 이것은 교정의 미묘하고 깊은 맛의 귀띔인지도 모른다\"라는 해석을 보여주고 있다. 다른 번역에서는 다음과 같이도 읽을 수있는 - \"너의 음부는 동그란 컵, 칵테일이 끊어진 적이 없다.\"(아가 7 : 2 שררך אגן הסהר אל יחסר המזג) 샌들에서 출발 \"vulva\"(히브리어 shor-- 아람어 '비밀 장소'라는 단어에서 파생 된), 배, 가슴으로 올라 간다고 하는 문맥이 단어의 의미를 거의 결정 짓는 것이다. 기독교와 유대교의 여러 전통에서 \"아가\"에 그려진 신랑과 신부의 에로틱한 친밀감에 영적인 의미를 부여하고 있다.</td>\n      <td>6561642-2-1</td>\n      <td>아가서 7장 3절에 대한 해석 중 음부를 동그란 컵에 비유한 번역은 컵에 무엇이 끊어진 적이 없다고 하였는가?</td>\n      <td>커닐링구스</td>\n      <td>1</td>\n    </tr>\n  </tbody>\n</table>\n</div>"
     },
     "metadata": {},
     "execution_count": 32
    }
   ],
   "source": [
    "train2[20:40]"
   ]
  },
  {
   "cell_type": "code",
   "execution_count": 45,
   "metadata": {},
   "outputs": [
    {
     "output_type": "execute_result",
     "data": {
      "text/plain": [
       "                                                      question            id\n",
       "80              연합 함대가 국지 경비 부대와 해상 호위 부대의 인재 육성을 경시해 일어난 결과는?  mrc-0-003540\n",
       "81                               정주영이 쌀가게 배달원으로 일한 가게를 인수한 해는?  mrc-1-001466\n",
       "82                       적이 항복 의사를 밝히며 다가오고 있음을 대대장에게 보고한 사람은?  mrc-0-004954\n",
       "83                                캐릭터의 다친 장면이 유일하게 나오지 않는 단계는?  mrc-0-004159\n",
       "84                     미치류가 해안가를 통해 다른 곳으로 이동했다는 주장을 뒷받침하는 것은?  mrc-0-001235\n",
       "85                                   태풍 초이완의 경보는 어떤 순간부터 풀렸는가?  mrc-1-000813\n",
       "86                                           잘리어 왕조의 초대황제 이름은?  mrc-0-002445\n",
       "87                                야고보가 강압적으로 배교에 관해 설교당했던 장소는?  mrc-0-004336\n",
       "88                            진시황이 죽은 이후 황제의 자리에 즉위한 인물은 누구인가?  mrc-0-001346\n",
       "89                           단색 배경에 추상적인 디자인을 쓰는 양식이 유행하던 시기는?  mrc-0-003364\n",
       "90                    2010년 국가대표팀 훈련에 참가한 이다혜가 독일로 돌아가게 된 이유는?  mrc-0-001891\n",
       "91                                    웃시야의 정예 전투 병력을 통솔하는 사람은?  mrc-0-000033\n",
       "92                       포도주 테이스팅에서는 공평한 평가를 위해 무엇을 진행하기도 하나요?  mrc-0-000201\n",
       "93                                  최고령 초등학생으로 기네스북에 올라있는 사람은?  mrc-0-003670\n",
       "94                                   클린턴이 대통령 선거 초반에 내걸었던 정책은?  mrc-0-002224\n",
       "95                            베르글룬트가 직장을 그만둔 후 그 자리를 이어받은 사람은?  mrc-0-000140\n",
       "96                           베트남전 진실위원회 이후에 세워진 단체의 대표는 누구인가요?  mrc-0-001124\n",
       "97                                       첫 도입 당시 1013개가 있던 것은?  mrc-0-003870\n",
       "98                                 628년에 새롭게 왕위에 오른 사람은 누구인가요?  mrc-0-000386\n",
       "99                           전쟁에서 군인들의 삶을 보여주는 주요 등장인물은 누구인가요?  mrc-0-005260\n",
       "100                          셰이크 무지부르 라흐만의 딸이 처음으로 선거에서 졌던 해는?  mrc-0-004345\n",
       "101                                산조 대금보다 약 2도 정도 음정이 높은 대금은?  mrc-1-000376\n",
       "102                                      소설 <형제>의 작가가 태어난 지역은?  mrc-0-001470\n",
       "103                              예수의 테오토코스에 대해 부정적으로 인식했던 인물은?  mrc-1-000715\n",
       "104                                   파라메스와르가 해적의 도움으로 세운 나라는?  mrc-0-002747\n",
       "105                            온라인 사이트에 접속하지 못하게 하는 웹상에서의 시위는?  mrc-1-001341\n",
       "106                                         로마가 판노니아를 장악한 시기는?  mrc-0-003597\n",
       "107  1980년부터 1985년 사이, 미국달러가 세계 중요 4대 통화에 대해 50% 정도 평가절상된 이유는?  mrc-0-003509\n",
       "108                                    헌터가 조지아에서 지시한 사항은 무엇인가?  mrc-0-001335\n",
       "109                                     윤락행위등방지법이 전문 개정되었던 해는?  mrc-0-004402\n",
       "110                             무엇이 창 아래에 설치되어 표시기가 한 개 늘어났는가?  mrc-1-001239\n",
       "111                                        베토벤의 귀 상태가 악화된 연도는?  mrc-1-000225\n",
       "112                기존의 공중 네트워크로 중요 문서와 데이터를 전송하는데에 문제가 되었던 것은?  mrc-0-003315\n",
       "113                                            1919년 정광조의 보직은?  mrc-0-004971\n",
       "114                        잉글랜드에서 보리와 함께 가장 많이 경작하는 작물은 무엇인가요?  mrc-0-004538\n",
       "115                          동화사 석조비로자나불이 제작될 때, 당시 임금은 누구였는가?  mrc-0-001940\n",
       "116                                             미자르는 무엇의 일부인가?  mrc-1-000573\n",
       "117                                스트라디바리가 고령의 조짐을 보이기 시작한 해는?  mrc-0-005403\n",
       "118                          공격적 현실주의와 대비되는 고전적 현실주의를 설파한 인물은?  mrc-0-002046\n",
       "119                                          컴퓨터 시각에서 분할의 대상은?  mrc-0-001943\n",
       "120                                        삼한총왕설의 근거를 제공한 서적은?  mrc-1-001141\n",
       "121                        리자베타가 꿈 속에서 들었던 장소에 실제로 찾아가 발견한 것은?  mrc-0-002709\n",
       "122                                     현직 추밀원사무처장 웨인울터즈의 선임은?  mrc-0-000313\n",
       "123                                    진평공이 통치할 때 망해서 사라진 가문은?  mrc-0-003110\n",
       "124                             트로이 군사들은 아킬레우스에 의해 어디에서 사망했나요?  mrc-0-003155\n",
       "125                                     세이드를 행하는 여성을 지칭하는 명칭은?  mrc-1-001242\n",
       "126                            세니와 대국 사무관들은 어느 편과 힘을 합치기로 했는가?  mrc-0-004432\n",
       "127                                        공식적인 첫 새천년베이비의 이름은?  mrc-0-000755\n",
       "128                           레바논 전투에서 헤즈볼라는 누구에 대한 지지를 표명했나요?  mrc-1-001802\n",
       "129                          협동 화폐 거래소의 인정은 어느 부문에서 나타나는 변화인가?  mrc-0-001241"
      ],
      "text/html": "<div>\n<style scoped>\n    .dataframe tbody tr th:only-of-type {\n        vertical-align: middle;\n    }\n\n    .dataframe tbody tr th {\n        vertical-align: top;\n    }\n\n    .dataframe thead th {\n        text-align: right;\n    }\n</style>\n<table border=\"1\" class=\"dataframe\">\n  <thead>\n    <tr style=\"text-align: right;\">\n      <th></th>\n      <th>question</th>\n      <th>id</th>\n    </tr>\n  </thead>\n  <tbody>\n    <tr>\n      <th>80</th>\n      <td>연합 함대가 국지 경비 부대와 해상 호위 부대의 인재 육성을 경시해 일어난 결과는?</td>\n      <td>mrc-0-003540</td>\n    </tr>\n    <tr>\n      <th>81</th>\n      <td>정주영이 쌀가게 배달원으로 일한 가게를 인수한 해는?</td>\n      <td>mrc-1-001466</td>\n    </tr>\n    <tr>\n      <th>82</th>\n      <td>적이 항복 의사를 밝히며 다가오고 있음을 대대장에게 보고한 사람은?</td>\n      <td>mrc-0-004954</td>\n    </tr>\n    <tr>\n      <th>83</th>\n      <td>캐릭터의 다친 장면이 유일하게 나오지 않는 단계는?</td>\n      <td>mrc-0-004159</td>\n    </tr>\n    <tr>\n      <th>84</th>\n      <td>미치류가 해안가를 통해 다른 곳으로 이동했다는 주장을 뒷받침하는 것은?</td>\n      <td>mrc-0-001235</td>\n    </tr>\n    <tr>\n      <th>85</th>\n      <td>태풍 초이완의 경보는 어떤 순간부터 풀렸는가?</td>\n      <td>mrc-1-000813</td>\n    </tr>\n    <tr>\n      <th>86</th>\n      <td>잘리어 왕조의 초대황제 이름은?</td>\n      <td>mrc-0-002445</td>\n    </tr>\n    <tr>\n      <th>87</th>\n      <td>야고보가 강압적으로 배교에 관해 설교당했던 장소는?</td>\n      <td>mrc-0-004336</td>\n    </tr>\n    <tr>\n      <th>88</th>\n      <td>진시황이 죽은 이후 황제의 자리에 즉위한 인물은 누구인가?</td>\n      <td>mrc-0-001346</td>\n    </tr>\n    <tr>\n      <th>89</th>\n      <td>단색 배경에 추상적인 디자인을 쓰는 양식이 유행하던 시기는?</td>\n      <td>mrc-0-003364</td>\n    </tr>\n    <tr>\n      <th>90</th>\n      <td>2010년 국가대표팀 훈련에 참가한 이다혜가 독일로 돌아가게 된 이유는?</td>\n      <td>mrc-0-001891</td>\n    </tr>\n    <tr>\n      <th>91</th>\n      <td>웃시야의 정예 전투 병력을 통솔하는 사람은?</td>\n      <td>mrc-0-000033</td>\n    </tr>\n    <tr>\n      <th>92</th>\n      <td>포도주 테이스팅에서는 공평한 평가를 위해 무엇을 진행하기도 하나요?</td>\n      <td>mrc-0-000201</td>\n    </tr>\n    <tr>\n      <th>93</th>\n      <td>최고령 초등학생으로 기네스북에 올라있는 사람은?</td>\n      <td>mrc-0-003670</td>\n    </tr>\n    <tr>\n      <th>94</th>\n      <td>클린턴이 대통령 선거 초반에 내걸었던 정책은?</td>\n      <td>mrc-0-002224</td>\n    </tr>\n    <tr>\n      <th>95</th>\n      <td>베르글룬트가 직장을 그만둔 후 그 자리를 이어받은 사람은?</td>\n      <td>mrc-0-000140</td>\n    </tr>\n    <tr>\n      <th>96</th>\n      <td>베트남전 진실위원회 이후에 세워진 단체의 대표는 누구인가요?</td>\n      <td>mrc-0-001124</td>\n    </tr>\n    <tr>\n      <th>97</th>\n      <td>첫 도입 당시 1013개가 있던 것은?</td>\n      <td>mrc-0-003870</td>\n    </tr>\n    <tr>\n      <th>98</th>\n      <td>628년에 새롭게 왕위에 오른 사람은 누구인가요?</td>\n      <td>mrc-0-000386</td>\n    </tr>\n    <tr>\n      <th>99</th>\n      <td>전쟁에서 군인들의 삶을 보여주는 주요 등장인물은 누구인가요?</td>\n      <td>mrc-0-005260</td>\n    </tr>\n    <tr>\n      <th>100</th>\n      <td>셰이크 무지부르 라흐만의 딸이 처음으로 선거에서 졌던 해는?</td>\n      <td>mrc-0-004345</td>\n    </tr>\n    <tr>\n      <th>101</th>\n      <td>산조 대금보다 약 2도 정도 음정이 높은 대금은?</td>\n      <td>mrc-1-000376</td>\n    </tr>\n    <tr>\n      <th>102</th>\n      <td>소설 &lt;형제&gt;의 작가가 태어난 지역은?</td>\n      <td>mrc-0-001470</td>\n    </tr>\n    <tr>\n      <th>103</th>\n      <td>예수의 테오토코스에 대해 부정적으로 인식했던 인물은?</td>\n      <td>mrc-1-000715</td>\n    </tr>\n    <tr>\n      <th>104</th>\n      <td>파라메스와르가 해적의 도움으로 세운 나라는?</td>\n      <td>mrc-0-002747</td>\n    </tr>\n    <tr>\n      <th>105</th>\n      <td>온라인 사이트에 접속하지 못하게 하는 웹상에서의 시위는?</td>\n      <td>mrc-1-001341</td>\n    </tr>\n    <tr>\n      <th>106</th>\n      <td>로마가 판노니아를 장악한 시기는?</td>\n      <td>mrc-0-003597</td>\n    </tr>\n    <tr>\n      <th>107</th>\n      <td>1980년부터 1985년 사이, 미국달러가 세계 중요 4대 통화에 대해 50% 정도 평가절상된 이유는?</td>\n      <td>mrc-0-003509</td>\n    </tr>\n    <tr>\n      <th>108</th>\n      <td>헌터가 조지아에서 지시한 사항은 무엇인가?</td>\n      <td>mrc-0-001335</td>\n    </tr>\n    <tr>\n      <th>109</th>\n      <td>윤락행위등방지법이 전문 개정되었던 해는?</td>\n      <td>mrc-0-004402</td>\n    </tr>\n    <tr>\n      <th>110</th>\n      <td>무엇이 창 아래에 설치되어 표시기가 한 개 늘어났는가?</td>\n      <td>mrc-1-001239</td>\n    </tr>\n    <tr>\n      <th>111</th>\n      <td>베토벤의 귀 상태가 악화된 연도는?</td>\n      <td>mrc-1-000225</td>\n    </tr>\n    <tr>\n      <th>112</th>\n      <td>기존의 공중 네트워크로 중요 문서와 데이터를 전송하는데에 문제가 되었던 것은?</td>\n      <td>mrc-0-003315</td>\n    </tr>\n    <tr>\n      <th>113</th>\n      <td>1919년 정광조의 보직은?</td>\n      <td>mrc-0-004971</td>\n    </tr>\n    <tr>\n      <th>114</th>\n      <td>잉글랜드에서 보리와 함께 가장 많이 경작하는 작물은 무엇인가요?</td>\n      <td>mrc-0-004538</td>\n    </tr>\n    <tr>\n      <th>115</th>\n      <td>동화사 석조비로자나불이 제작될 때, 당시 임금은 누구였는가?</td>\n      <td>mrc-0-001940</td>\n    </tr>\n    <tr>\n      <th>116</th>\n      <td>미자르는 무엇의 일부인가?</td>\n      <td>mrc-1-000573</td>\n    </tr>\n    <tr>\n      <th>117</th>\n      <td>스트라디바리가 고령의 조짐을 보이기 시작한 해는?</td>\n      <td>mrc-0-005403</td>\n    </tr>\n    <tr>\n      <th>118</th>\n      <td>공격적 현실주의와 대비되는 고전적 현실주의를 설파한 인물은?</td>\n      <td>mrc-0-002046</td>\n    </tr>\n    <tr>\n      <th>119</th>\n      <td>컴퓨터 시각에서 분할의 대상은?</td>\n      <td>mrc-0-001943</td>\n    </tr>\n    <tr>\n      <th>120</th>\n      <td>삼한총왕설의 근거를 제공한 서적은?</td>\n      <td>mrc-1-001141</td>\n    </tr>\n    <tr>\n      <th>121</th>\n      <td>리자베타가 꿈 속에서 들었던 장소에 실제로 찾아가 발견한 것은?</td>\n      <td>mrc-0-002709</td>\n    </tr>\n    <tr>\n      <th>122</th>\n      <td>현직 추밀원사무처장 웨인울터즈의 선임은?</td>\n      <td>mrc-0-000313</td>\n    </tr>\n    <tr>\n      <th>123</th>\n      <td>진평공이 통치할 때 망해서 사라진 가문은?</td>\n      <td>mrc-0-003110</td>\n    </tr>\n    <tr>\n      <th>124</th>\n      <td>트로이 군사들은 아킬레우스에 의해 어디에서 사망했나요?</td>\n      <td>mrc-0-003155</td>\n    </tr>\n    <tr>\n      <th>125</th>\n      <td>세이드를 행하는 여성을 지칭하는 명칭은?</td>\n      <td>mrc-1-001242</td>\n    </tr>\n    <tr>\n      <th>126</th>\n      <td>세니와 대국 사무관들은 어느 편과 힘을 합치기로 했는가?</td>\n      <td>mrc-0-004432</td>\n    </tr>\n    <tr>\n      <th>127</th>\n      <td>공식적인 첫 새천년베이비의 이름은?</td>\n      <td>mrc-0-000755</td>\n    </tr>\n    <tr>\n      <th>128</th>\n      <td>레바논 전투에서 헤즈볼라는 누구에 대한 지지를 표명했나요?</td>\n      <td>mrc-1-001802</td>\n    </tr>\n    <tr>\n      <th>129</th>\n      <td>협동 화폐 거래소의 인정은 어느 부문에서 나타나는 변화인가?</td>\n      <td>mrc-0-001241</td>\n    </tr>\n  </tbody>\n</table>\n</div>"
     },
     "metadata": {},
     "execution_count": 45
    }
   ],
   "source": [
    "train3[80:130]"
   ]
  },
  {
   "cell_type": "code",
   "execution_count": 2,
   "metadata": {},
   "outputs": [],
   "source": [
    "from datasets import load_from_disk, load_dataset, Dataset\n",
    "import pandas as pd\n",
    "\n",
    "\n",
    "def get_merge_data():\n",
    "    klue_dataset = load_from_disk(\"../input/data/train_dataset/\")\n",
    "    korquad_dataset = load_dataset(\"squad_kor_v1\")\n",
    "\n",
    "    dataset_dict = {}\n",
    "\n",
    "    for i in ['train', 'validation']:\n",
    "        merge_df = pd.concat([ pd.DataFrame(klue_dataset[i]), pd.DataFrame(korquad_dataset[i])], ignore_index=True)\n",
    "        dataset_dict[i] = Dataset.from_pandas(merge_df)\n",
    "\n",
    "    return dataset_dict\n",
    "    \n",
    "    "
   ]
  },
  {
   "cell_type": "code",
   "execution_count": 3,
   "metadata": {},
   "outputs": [
    {
     "output_type": "stream",
     "name": "stderr",
     "text": [
      "Reusing dataset squad_kor_v1 (/opt/ml/.cache/huggingface/datasets/squad_kor_v1/squad_kor_v1/1.0.0/31982418accc53b059af090befa81e68880acc667ca5405d30ce6fa7910950a7)\n"
     ]
    }
   ],
   "source": [
    "klue_dataset = load_from_disk(\"./MRC_Baseline_Code/data/train_dataset/\")\n",
    "korquad_dataset = load_dataset(\"squad_kor_v1\")\n",
    "\n",
    "dataset_dict = {}\n",
    "\n",
    "for i in ['train', 'validation']:\n",
    "    merge_df = pd.concat([ pd.DataFrame(klue_dataset[i]), pd.DataFrame(korquad_dataset[i])], ignore_index=True)\n",
    "    dataset_dict[i] = Dataset.from_pandas(merge_df)\n"
   ]
  },
  {
   "source": [
    "klue_dataset"
   ],
   "cell_type": "code",
   "metadata": {},
   "execution_count": 11,
   "outputs": [
    {
     "output_type": "execute_result",
     "data": {
      "text/plain": [
       "DatasetDict({\n",
       "    train: Dataset({\n",
       "        features: ['__index_level_0__', 'answers', 'context', 'document_id', 'id', 'question', 'title'],\n",
       "        num_rows: 3952\n",
       "    })\n",
       "    validation: Dataset({\n",
       "        features: ['__index_level_0__', 'answers', 'context', 'document_id', 'id', 'question', 'title'],\n",
       "        num_rows: 240\n",
       "    })\n",
       "})"
      ]
     },
     "metadata": {},
     "execution_count": 11
    }
   ]
  },
  {
   "cell_type": "code",
   "execution_count": 10,
   "metadata": {},
   "outputs": [
    {
     "output_type": "execute_result",
     "data": {
      "text/plain": [
       "DatasetDict({\n",
       "    train: Dataset({\n",
       "        features: ['id', 'title', 'context', 'question', 'answers'],\n",
       "        num_rows: 60407\n",
       "    })\n",
       "    validation: Dataset({\n",
       "        features: ['id', 'title', 'context', 'question', 'answers'],\n",
       "        num_rows: 5774\n",
       "    })\n",
       "})"
      ]
     },
     "metadata": {},
     "execution_count": 10
    }
   ],
   "source": [
    "korquad_dataset"
   ]
  },
  {
   "cell_type": "code",
   "execution_count": 8,
   "metadata": {},
   "outputs": [
    {
     "output_type": "execute_result",
     "data": {
      "text/plain": [
       "{'train': Dataset({\n",
       "     features: ['title', 'context', 'question', 'id', 'answers', 'document_id', '__index_level_0__'],\n",
       "     num_rows: 64359\n",
       " }),\n",
       " 'validation': Dataset({\n",
       "     features: ['title', 'context', 'question', 'id', 'answers', 'document_id', '__index_level_0__'],\n",
       "     num_rows: 6014\n",
       " })}"
      ]
     },
     "metadata": {},
     "execution_count": 8
    }
   ],
   "source": [
    "dataset_dict"
   ]
  },
  {
   "cell_type": "code",
   "execution_count": 18,
   "metadata": {},
   "outputs": [
    {
     "output_type": "execute_result",
     "data": {
      "text/plain": [
       "Dataset({\n",
       "    features: ['title', 'context', 'question', 'id', 'answers', 'document_id', '__index_level_0__'],\n",
       "    num_rows: 64359\n",
       "})"
      ]
     },
     "metadata": {},
     "execution_count": 18
    }
   ],
   "source": [
    "dataset_dict['train']"
   ]
  },
  {
   "cell_type": "code",
   "execution_count": 15,
   "metadata": {},
   "outputs": [
    {
     "output_type": "execute_result",
     "data": {
      "text/plain": [
       "{'title': ['미국 상원', '인사조직관리', '강희제'],\n",
       " 'context': ['미국 상의원 또는 미국 상원(United States Senate)은 양원제인 미국 의회의 상원이다.\\\\n\\\\n미국 부통령이 상원의장이 된다. 각 주당 2명의 상원의원이 선출되어 100명의 상원의원으로 구성되어 있다. 임기는 6년이며, 2년마다 50개주 중 1/3씩 상원의원을 새로 선출하여 연방에 보낸다.\\\\n\\\\n미국 상원은 미국 하원과는 다르게 미국 대통령을 수반으로 하는 미국 연방 행정부에 각종 동의를 하는 기관이다. 하원이 세금과 경제에 대한 권한, 대통령을 포함한 대다수의 공무원을 파면할 권한을 갖고 있는 국민을 대표하는 기관인 반면 상원은 미국의 주를 대표한다. 즉 캘리포니아주, 일리노이주 같이 주 정부와 주 의회를 대표하는 기관이다. 그로 인하여 군대의 파병, 관료의 임명에 대한 동의, 외국 조약에 대한 승인 등 신속을 요하는 권한은 모두 상원에게만 있다. 그리고 하원에 대한 견제 역할(하원의 법안을 거부할 권한 등)을 담당한다. 2년의 임기로 인하여 급진적일 수밖에 없는 하원은 지나치게 급진적인 법안을 만들기 쉽다. 대표적인 예로 건강보험 개혁 당시 하원이 미국 연방 행정부에게 퍼블릭 옵션(공공건강보험기관)의 조항이 있는 반면 상원의 경우 하원안이 지나치게 세금이 많이 든다는 이유로 퍼블릭 옵션 조항을 제외하고 비영리건강보험기관이나 보험회사가 담당하도록 한 것이다. 이 경우처럼 상원은 하원이나 내각책임제가 빠지기 쉬운 국가들의 국회처럼 걸핏하면 발생하는 의회의 비정상적인 사태를 방지하는 기관이다. 상원은 급박한 처리사항의 경우가 아니면 법안을 먼저 내는 경우가 드물고 하원이 만든 법안을 수정하여 다시 하원에 되돌려보낸다. 이러한 방식으로 단원제가 빠지기 쉬운 함정을 미리 방지하는 것이다.날짜=2017-02-05',\n",
       "  \"'근대적 경영학' 또는 '고전적 경영학'에서 현대적 경영학으로 전환되는 시기는 1950년대이다. 2차 세계대전을 마치고, 6.25전쟁의 시기로 유럽은 전후 재건에 집중하고, 유럽 제국주의의 식민지가 독립하여 아프리카, 아시아, 아메리카 대륙에서 신생국가가 형성되는 시기였고, 미국은 전쟁 이후 경제적 변화에 기업이 적응을 해야 하던 시기였다. 특히 1954년 피터 드러커의 저서 《경영의 실제》는 현대적 경영의 기준을 제시하여서, 기존 근대적 인사조직관리를 넘어선 현대적 인사조직관리의 전환점이 된다. 드러커는 경영자의 역할을 강조하며 경영이 현시대 최고의 예술이자 과학이라고 주장하였고 , 이 주장은 21세기 인사조직관리의 역할을 자리매김했다.\\\\n\\\\n현대적 인사조직관리와 근대 인사조직관리의 가장 큰 차이는 통합이다. 19세기의 영향을 받던 근대적 경영학(고전적 경영)의 흐름은 기능을 강조하였지만, 1950년대 이후의 현대 경영학은 통합을 강조하였다. 기능이 분화된 '기계적인 기업조직' 이해에서 다양한 기능을 인사조직관리의 목적, 경영의 목적을 위해서 다양한 분야를 통합하여 '유기적 기업 조직' 이해로 전환되었다. 이 통합적 접근방식은 과정, 시스템, 상황을 중심으로 하는 인사조직관리 방식을 형성했다.\",\n",
       "  '강희제는 강화된 황권으로 거의 황제 중심의 독단적으로 나라를 이끌어 갔기에 자칫 전제 독재의 가능성이 보일 수도 있었으나, 스스로 황권을 조절하고 정치의 일부는 재상들이나 대신들과 의논하였으며 당시 궁핍하게 살고 있는 한족들의 사정을 잘 알고 있던 한족 대신들의 의견을 수용하여 정책을 실행하고 선정을 베풀었다. 프랑스의 예수회 선교사 부베는 루이 14세에게 다음과 같이 보고하였다. \\\\n강희제는 세상에서 가장 부유한 군주입니다. 그럼에도 황제인 그의 생활용품들은 사치스러움과 화려함과는 거리가 멀다 못해 소박하기 그지없습니다. 역대 제왕들 가운데 전례없는 일입니다.\\\\n강희제 스스로도 자신이 직접 쓴 《근검록》에서 다음과 같이 쓰고 있다\\\\n모든 비용은 백성들의 피땀으로 얻어진 것이니 주인된 황제로서 절제하고 절제함은 당연한 것이 아닌가\\\\n\\\\n이런 강희제의 인자한 정치는 한족이 만주족의 청나라를 지지하게 만드는 데에 크게 일조하였다. 1717년(강희 56년) 강희제는 〈고별상유〉(告別上諭), 즉 마지막으로 백성들에게 바치는 글을 남겼는데 강희제는 “한 가지 일에 부지런하지 않으면 온 천하에 근심을 끼치고, 한 순간에 부지런하지 않으면 천추만대에 우환거리를 남긴다.”라고 역설하였다. 또한 “제왕이 천하를 다스림에 능력이 있는 자를 가까이 두고, 백성들의 세금을 낮추어 주어야 하며, 백성들의 마음을 하나로 묶고, 위태로움이 생기기 전에 나라를 보호하며, 혼란이 있기 전에 이를 먼저 파악하여 잘 다스리고, 관대하고 엄격함의 조화를 이루어 나라를 위한 계책을 도모해야 한다.”라고 후대의 황제에게도 이를 훈계하였다. 강희제는 황제로서 자식과 같은 백성들에게 이런 당부의 말을 남겨 황제로서의 도리를 다하려 하였다.'],\n",
       " 'question': ['대통령을 포함한 미국의 행정부 견제권을 갖는 국가 기관은?',\n",
       "  '현대적 인사조직관리의 시발점이 된 책은?',\n",
       "  '강희제가 1717년에 쓴 글은 누구를 위해 쓰여졌는가?'],\n",
       " 'id': ['mrc-1-000067', 'mrc-0-004397', 'mrc-1-000362'],\n",
       " 'answers': [{'answer_start': [235], 'text': ['하원']},\n",
       "  {'answer_start': [212], 'text': ['《경영의 실제》']},\n",
       "  {'answer_start': [510], 'text': ['백성']}],\n",
       " 'document_id': [18293.0, 51638.0, 5028.0],\n",
       " '__index_level_0__': [42.0, 2873.0, 230.0]}"
      ]
     },
     "metadata": {},
     "execution_count": 15
    }
   ],
   "source": [
    "dataset_dict['train'][:3]"
   ]
  },
  {
   "cell_type": "code",
   "execution_count": 20,
   "metadata": {},
   "outputs": [],
   "source": [
    "# KLUQUAD_train = Dataset.from_dict(dataset_dict['train'])\n",
    "# dataset_dict['train'].save_to_disk('./MRC_Baseline_Code/data/KLUQUAD/train')\n",
    "# KLUQUAD_val = Dataset.from_dict(dataset_dict['validation'])\n",
    "# dataset_dict['validation'].save_to_disk('./MRC_Baseline_Code/data/KLUQUAD/validation')"
   ]
  },
  {
   "cell_type": "code",
   "execution_count": null,
   "metadata": {},
   "outputs": [],
   "source": [
    "\n",
    "korquad_dataset = load_from_disk(\"./MRC_Baseline_Code/data/KLUQUAD/\")\n",
    "\n",
    "for i in ['train', 'validation']:\n",
    "    korquad_dataset[i]['context'] = korquad_dataset[i]['context'].apply(lambda x : )\n"
   ]
  },
  {
   "cell_type": "code",
   "execution_count": null,
   "metadata": {},
   "outputs": [],
   "source": [
    "KLUQUAD_train = Dataset.from_dict(dataset_dict['train'])\n",
    "dataset_dict['train'].save_to_disk('./MRC_Baseline_Code/data/KLUQUAD/train')\n",
    "KLUQUAD_val = Dataset.from_dict(dataset_dict['validation'])\n",
    "dataset_dict['validation'].save_to_disk('./MRC_Baseline_Code/data/KLUQUAD/validation')"
   ]
  },
  {
   "cell_type": "code",
   "execution_count": 3,
   "metadata": {},
   "outputs": [],
   "source": [
    "test = load_from_disk('./MRC_Baseline_Code/data/train_dataset/train')\n",
    "test2 = load_from_disk('./MRC_Baseline_Code/data/train_dataset/validation')\n"
   ]
  },
  {
   "cell_type": "code",
   "execution_count": 4,
   "metadata": {},
   "outputs": [],
   "source": [
    "test = pd.DataFrame(test)\n",
    "test2 = pd.DataFrame(test2)"
   ]
  },
  {
   "cell_type": "code",
   "execution_count": 9,
   "metadata": {},
   "outputs": [
    {
     "output_type": "execute_result",
     "data": {
      "text/plain": [
       "32          {'answer_start': [248], 'text': ['60년간']}   \n",
       "133            {'answer_start': [34], 'text': ['페름기']}   \n",
       "134           {'answer_start': [143], 'text': ['서남쪽']}   \n",
       "135  {'answer_start': [498], 'text': ['대형 항공 모함 도로스']}   \n",
       "136  {'answer_start': [1094], 'text': ['성벽에 목이 매달리는...   \n",
       "137            {'answer_start': [151], 'text': ['곽상']}   \n",
       "138          {'answer_start': [34], 'text': ['신도 케이']}   \n",
       "139         {'answer_start': [369], 'text': ['디오게네스']}   \n",
       "140         {'answer_start': [718], 'text': ['비밀 투표']}   \n",
       "141             {'answer_start': [0], 'text': ['61화']}   \n",
       "142            {'answer_start': [836], 'text': ['카누']}   \n",
       "143    {'answer_start': [55], 'text': ['알프스 전기 주식회사']}   \n",
       "144           {'answer_start': [48], 'text': ['크리스타']}   \n",
       "145   {'answer_start': [279], 'text': ['배상금을 주기 위하여']}   \n",
       "146  {'answer_start': [852], 'text': ['본국 의회가 식민지에 ...   \n",
       "147         {'answer_start': [42], 'text': ['속도별 배치']}   \n",
       "148         {'answer_start': [943], 'text': ['1975년']}   \n",
       "149          {'answer_start': [251], 'text': ['제비초리']}   \n",
       "150            {'answer_start': [317], 'text': ['석달']}   \n",
       "151  {'answer_start': [727], 'text': ['보은군 남쪽 상용리(현...   \n",
       "152  {'answer_start': [115], 'text': ['태화관(서울시 종로구 ...   \n",
       "153           {'answer_start': [186], 'text': ['식재료']}   \n",
       "154           {'answer_start': [119], 'text': ['하노이']}   \n",
       "155            {'answer_start': [468], 'text': ['공정']}   \n",
       "156          {'answer_start': [835], 'text': ['좌우대칭']}   \n",
       "157         {'answer_start': [885], 'text': ['1913년']}   \n",
       "158          {'answer_start': [515], 'text': ['바라나시']}   \n",
       "159            {'answer_start': [185], 'text': ['대령']}   \n",
       "160  {'answer_start': [0], 'text': ['걸프 카르텔(카르텔 델 골...   \n",
       "161     {'answer_start': [72], 'text': ['피터 케스카트 왓슨']}   \n",
       "162           {'answer_start': [435], 'text': ['충격파']}   \n",
       "163    {'answer_start': [531], 'text': ['대한민국 3보병사단']}   \n",
       "164  {'answer_start': [234], 'text': ['우리의 훌륭한 중국 동...   \n",
       "165         {'answer_start': [811], 'text': ['감정 전염']}   \n",
       "166       {'answer_start': [803], 'text': ['스위치 이더넷']}   \n",
       "167          {'answer_start': [365], 'text': ['소비감소']}   \n",
       "168         {'answer_start': [357], 'text': ['마츠키 촌']}   \n",
       "169  {'answer_start': [929], 'text': ['사춘기에서 흔히 볼 수...   \n",
       "170      {'answer_start': [1190], 'text': ['시트르산 회로']}   \n",
       "171          {'answer_start': [502], 'text': ['아케디아']}   \n",
       "172  {'answer_start': [171], 'text': ['에마뉘엘의 과시하는 듯...   \n",
       "173      {'answer_start': [296], 'text': ['소비자들의 반응']}   \n",
       "174  {'answer_start': [843], 'text': ['아일랜드 선교자 골룸바...   \n",
       "175           {'answer_start': [161], 'text': ['다케다']}   \n",
       "176            {'answer_start': [174], 'text': ['악당']}   \n",
       "177           {'answer_start': [362], 'text': ['유이엔']}   \n",
       "178       {'answer_start': [335], 'text': ['트레뻬제 부대']}   \n",
       "179        {'answer_start': [390], 'text': ['포스카르네트']}   \n",
       "180           {'answer_start': [127], 'text': ['면세증']}   \n",
       "181         {'answer_start': [285], 'text': ['숙의 정씨']}   \n",
       "182      {'answer_start': [58], 'text': ['남성연대 홈페이지']}   \n",
       "183        {'answer_start': [1018], 'text': ['1895년']}   \n",
       "184  {'answer_start': [379], 'text': ['《천체의 회전에 관하여...   \n",
       "185          {'answer_start': [738], 'text': ['히로시마']}   \n",
       "186  {'answer_start': [884], 'text': ['5·16 광장(여의도 ...   \n",
       "187            {'answer_start': [514], 'text': ['6m']}   \n",
       "188     {'answer_start': [243], 'text': ['이등공송덕비건의소']}   \n",
       "189         {'answer_start': [609], 'text': ['헬리오시스']}   \n",
       "190           {'answer_start': [209], 'text': ['할머니']}   \n",
       "191            {'answer_start': [444], 'text': ['탄광']}   \n",
       "192         {'answer_start': [864], 'text': ['1796년']}   \n",
       "193            {'answer_start': [79], 'text': ['피자헛']}   \n",
       "194            {'answer_start': [302], 'text': ['가산']}   \n",
       "195  {'answer_start': [781], 'text': ['마거릿 대처 전 영국수...   \n",
       "196        {'answer_start': [59], 'text': ['디지털 컴퓨터']}   \n",
       "197           {'answer_start': [995], 'text': ['35년']}   \n",
       "198  {'answer_start': [524], 'text': ['트르피미로비치 왕조(T...   \n",
       "199         {'answer_start': [327], 'text': ['1947년']}   \n",
       "200    {'answer_start': [442], 'text': ['아이치 전기 전용선']}   \n",
       "201  {'answer_start': [789], 'text': [''달빛 정원'(Moon...   \n",
       "202        {'answer_start': [693], 'text': ['란다우 튜브']}   \n",
       "203            {'answer_start': [406], 'text': ['우천']}   \n",
       "204      {'answer_start': [214], 'text': ['＜젊은 근위대＞']}   \n",
       "205          {'answer_start': [163], 'text': ['10만필']}   \n",
       "206            {'answer_start': [226], 'text': ['군대']}   \n",
       "207       {'answer_start': [471], 'text': ['차고나라 전투']}   \n",
       "208           {'answer_start': [33], 'text': ['봅슬레이']}   \n",
       "209       {'answer_start': [301], 'text': ['일등병 토머스']}   \n",
       "210        {'answer_start': [1290], 'text': ['1966년']}   \n",
       "211          {'answer_start': [579], 'text': ['클레몽트']}   \n",
       "212    {'answer_start': [549], 'text': ['17세기 조선 시대']}   \n",
       "213             {'answer_start': [369], 'text': ['모']}   \n",
       "214     {'answer_start': [1056], 'text': ['수입 금지 조치']}   \n",
       "215  {'answer_start': [70], 'text': ['\"광휘에의 각성\"(코키에...   \n",
       "216       {'answer_start': [574], 'text': ['카바레나 클럽']}   \n",
       "217            {'answer_start': [525], 'text': ['보수']}   \n",
       "218            {'answer_start': [418], 'text': ['리퍼']}   \n",
       "219          {'answer_start': [391], 'text': ['국무회의']}   \n",
       "220             {'answer_start': [52], 'text': ['비단']}   \n",
       "221             {'answer_start': [28], 'text': ['사흘']}   \n",
       "222  {'answer_start': [174], 'text': ['모든 관직을 거친 대과...   \n",
       "223            {'answer_start': [63], 'text': ['오사카']}   \n",
       "224         {'answer_start': [1085], 'text': ['제1부인']}   \n",
       "225       {'answer_start': [440], 'text': ['빈자의 십자군']}   \n",
       "226           {'answer_start': [166], 'text': ['멕시코']}   \n",
       "227     {'answer_start': [14], 'text': ['지질 과산화 생성물']}   \n",
       "228            {'answer_start': [605], 'text': ['독감']}   \n",
       "229        {'answer_start': [592], 'text': ['양당(楊黨)']}   \n",
       "230     {'answer_start': [207], 'text': ['슈바이츠 암 존탁']}   \n",
       "231  {'answer_start': [215], 'text': ['퀘이커 교도였던 앨리스...   \n",
       "232           {'answer_start': [242], 'text': ['다수결']}   \n",
       "233     {'answer_start': [373], 'text': ['코프먼과 저스티슨']}   \n",
       "234   {'answer_start': [491], 'text': ['물적 성과(物的成果)']}   \n",
       "235         {'answer_start': [1084], 'text': ['제 양왕']}   \n",
       "236  {'answer_start': [343], 'text': [''일곱 개의 신전 광장...   \n",
       "237        {'answer_start': [247], 'text': ['미나미 지로']}   \n",
       "238      {'answer_start': [563], 'text': ['200,000명']}   \n",
       "239          {'answer_start': [811], 'text': ['공산주의']}   \n",
       "\n",
       "                                               context  \n",
       "0    순천여자고등학교 졸업, 1973년 이화여자대학교를 졸업하고 1975년 제17회 사법...  \n",
       "1    요크 카운티 동쪽에 처음으로 여객 열차 운행이 시작한 시점은 1868년 토론토 & ...  \n",
       "2    촐라 정부\\n 촐라의 정부 체제는 전제군주제였으며,2001 촐라의 군주는 절대적인 ...  \n",
       "3    프랑스의 십자군 무훈시는 1099년 예루살렘 왕국의 통치자가 된 고드프루아 드 부용...  \n",
       "4    탈관료제화는 현대사회에서 관료제 성격이 약화되는 현상이다. 현대사회에서 관료제는 약...  \n",
       "5    마쓰에 소요 사건(마쓰에소조지켄)은 1945년 8월 24일 일본 제국 시마네현의 현...  \n",
       "6    수를 놓을 때에 사용하는 기법을 문양의 형태에 따라 나누어 보면 선을 잇는 수, 면...  \n",
       "7    감염내과 전문의들은 일반적으로 다른 진료과의 의사들에게 복잡한 감염병에 대한 고문 ...  \n",
       "8    예부터 노트르담 다리는 큰 다리(Grand-pont)라고 불리면서 센 강을 가로지르...  \n",
       "9    여러 유적이 로마 제국의 영역상 헤자즈 일대에 미쳤음을 증명하고 있다. 이집트와 오...  \n",
       "10   가정부인 플로렌스 파이크는 지쳐 피곤해한다. 그녀의 여주인인 레이디 빌로우즈는 해마...  \n",
       "11   2029년의 지구는 비약적으로 발달한 기술 문명을 바탕으로 전 세계가 전자 통신망으...  \n",
       "12   테일러 대사는 캐나다 외무 장관 맥도널드와 클라크 총리에 지원을 요청하고 그들은 미...  \n",
       "13   2011년 8월, 교과부는 2009개정 교육과정에 따른 역사교과 교육과정을 발표하면...  \n",
       "14   남은 사유지를 가진 지주들은 정부측의 한 층 강한 압력을 받았으나 반대동맹에 남겠다...  \n",
       "15   1965년 캐나다 연방 선거는 캐나다에서 27번째로 치러진 연방 선거로, 캐나다 하...  \n",
       "16   보르지긴 아리크부카( , 孛兒只斤 阿里不哥|패아지근 아리불가, 1219년 ~ 126...  \n",
       "17   1989년 동유럽 사회주의 체제의 붕괴 이후 운동진영에 급진적 사회변혁 대신 체제 ...  \n",
       "18   헤이안 시대 말기, 이이 가 초대 당주 이이 도모야스에 의해 축성되었다고 전해진다 ...  \n",
       "19   대전유천초등학교에서 야구를 시작할 당시에는 내야수였다. 한밭중학교 3학년 때 연습 ...  \n",
       "20   이야기에서 성 프란체스코 수도회의 수도사 라고만 언급되나, 조반니 빌라니의 연대기와...  \n",
       "21   보통 유형 천연두의 치사율은 약 30%지만, 농포 분포에 따라 달라질 수 있었다. ...  \n",
       "22   1778년 초, 설리번은 로드아일랜드로 전출되어 그곳의 부대와 민병대를 지휘하게 되...  \n",
       "23   스피타메네스는 아케메네스 왕조 시대의 소그디아나, 박트리아의 호족이었다. 기원전 3...  \n",
       "24   진전사의 옛터에 서 있는 3층 석탑이다. 진전사는 8세기 후반 통일신라시대에 도의국...  \n",
       "25   민주주의는 가장 합리적인 정치 형태로 찬양받아 왔지만, 이런 중우정치를 해결하지 않...  \n",
       "26   네 살이던 2011년 3월 19일 크누트는 우리 안에서 쓰러져 숨을 거두었다. 목격...  \n",
       "27   포르투갈어와 유사한 스페인 갈리시아 지방의 갈리시아어가 존재하나, 포르투갈어의 표준...  \n",
       "28   앤드루 잭슨이 1832년 대통령 선거에서 압도적으로 재선됨에 따라, 체로키 족에서 ...  \n",
       "29   경제 2년(기원전 155년) 3월 갑인일, 다른 형제들과 함께 제후왕으로 봉해져, ...  \n",
       "30   오래플린은 부스의 초기 동료 중 한 명이었다. 1864년 가을에 오래플린은 링컨 대...  \n",
       "31   평안북도 의주군의 무관 집안 출신으로 일본의 니혼 대학을 졸업했다. 대학을 졸업하던...  \n",
       "32   레닌주의에서 협동조합 개념을 이해할 때 주의해야 할 것은, 레닌이 주장하는 것은 자...  \n",
       "33   신란의 아내였던 에신니의 동향에 대해서는 이를 전하는 서적 · 소식등이 없고, 여러...  \n",
       "34   ;돈 칭자오(통칭 '송곳의 칭자오')\\n팔보수군의 12대 두령. 30년 前 현상금은...  \n",
       "35   해양 착생식물의 생태는 지상 착생식물의 생태와는 다르다. 해양 생태계의 착생식물은 ...  \n",
       "36   평안북도 철산군 부서면에서 소작농의 외아들로 태어났다. 어릴 때 어머니를 여의고 아...  \n",
       "37   후기 로마군\\n로마 군단 목록\\n \\n로마 제국 말기에, 군단의 수는 늘어났고 로마...  \n",
       "38   2017년 5월 현재 동반자 등록제를 실시 중인 중화민국의 자치정부는 11 곳으로 ...  \n",
       "39   2019년 8월 12일 오전 9시 15분 경 한강사업본부 직원은 한강 마곡철교 남단...  \n",
       "40   스뮈츠는 1870년 5월 24일 케이프 식민지 보펀플라츠에 있는 한 농가에서 태어났...  \n",
       "41   몬머스의 제프리의 《브리타니아 열왕사》에 나오는 브루투스 이야기는 《브리튼인의 역사...  \n",
       "42   대학 입시 센터 시험(다이가쿠뉴시센타시켄)은 독립 행정법인 대학 입시 센터에서 보통...  \n",
       "43   이 벽화는 부석사를 창건하고 우리나라에서 화엄종을 처음 시작한 의상대사를 모시고 있...  \n",
       "44   지금의 가키자키 씨의 시조는 와카사 다케다 씨(若狭武田氏) 또는 난부 씨(南部氏)의...  \n",
       "45   프레아 칸의 위치는 앙코르 톰의 북대문으로부터 북동쪽으로 1.5km 정도 길을 나가...  \n",
       "46   오야코돈\\n오야코동(親子丼)은 닭고기를 조미된 국물로 끓여낸 뒤, 달걀물을 풀어 익...  \n",
       "47   갈리치아-볼히니아 왕국의 다닐로 로마노비치가 13세기에 건설하여 아들 레브(Лев)...  \n",
       "48   현대 암호화 방법은 키 유형과 원본 데이터 유형에 따라 두 가지 기준으로 나눌 수 ...  \n",
       "49   적색육(赤色肉)은 조리나 요리를 한 후, 또는 그 이전의 날고기일 때 붉은 빛을 띠...  \n",
       "50   옥림은 어렸을 때부터 친하게 지낸 욱에게 좋아하는 마음이 있었지만 단짝인 정민과 사...  \n",
       "51   1918년 11월 9일 군주제의 붕괴와 빌헬름 2세의 네덜란드 망명은 슈트레제만에게...  \n",
       "52   본선부터 측선(임항선)이 분기하는 기부와, 그 1.5km있는 측선 종단의 통칭 '진...  \n",
       "53   동서 석실의 각 벽에는 회칠을 한 뒤에 벽화를 그렸는데 그 내용은 천녀상(天女像)과...  \n",
       "54   느티나무는 우리나라를 비롯하여 일본, 대만, 중국 등의 따뜻한 지방에 분포하고 있다...  \n",
       "55   이원화체제 교육제도의 성격과 질은 국가의 개입에 의해 정의된다. 그 결과 독일국민은...  \n",
       "56   1947년 12월 김성수가 한민당 당수가 되면서 그는 한민당 부당수로 선임되었다. ...  \n",
       "57   고창읍 중앙동에 위치한 당산이다. 당산은 민간신앙에서 신이 있다고 믿고 섬기는 것으...  \n",
       "58   육조혜능의 제자인 하택신회가 돈오점수를 주장했다. 이 주장이 규봉종밀로 이어지며, ...  \n",
       "59   왕페이의 사생활은 매체의 초점이 되었다. 그녀는 당시 홍콩에서 이미 천후급의 인물이...  \n",
       "60   다음은 제1차 세계 대전과 벨기에 왕국에 관한 내용이다.\\n\\n벨기에는 1870년 ...  \n",
       "61   오랫동안 학문에 몸 담아왔던 그는 교회 내에서 급속도로 출세가도를 달리기 시작했다....  \n",
       "62   제서지전(齊西之戰)이후 제나라는 급격히 쇠퇴해 전성기 때의 강역을 회복하지 못했다....  \n",
       "63   비록 적도에 위치하고 있기는 하지만, 훔볼트 해류의 영향으로 차가운 바닷물을 섬 주...  \n",
       "64   진행의 해석은 통과와 매우 유사하다. 그러나, 일반적으로, 진행은 (종종 외부의 사...  \n",
       "65   이 불상은 광진구 광장동 상부암에 봉안되어 있는 석불입상으로 원래 불상 전체에 두껍...  \n",
       "66   비오 11세는 이리 오랫동안 질병을 앓았으며, 1938년 11월 25일 몇 시간에 ...  \n",
       "67   연구가 많이 되지 않았기에 아직까지 조류의 성체는 매우 제한된 재생능력을 가진 것으...  \n",
       "68   6월 17일 아침 일찍, 문포드 대령은 버지니아 2 기병대와 3 기병대를 이끌고 라...  \n",
       "69   몽양 여운형은 경기도 양근군 서시면 묘곡(妙谷, 묘골)에서 여정현(呂正鉉)과 경주 ...  \n",
       "70   광배(光背)와 대좌(臺座)를 따로 가지고 있는 독립된 불상이 삼존불(三尊佛)을 이루...  \n",
       "71   광주에서 제대 후 2010시즌을 앞두고 서울로 복귀했다. 하지만 2009년 겨울 최...  \n",
       "72   교황 문장은 기독교에서 교황을 상징하는 고유한 문장을 말한다. 최초로 문장을 사용한...  \n",
       "73   현재 우리가 볼 수 있는 티칼의 모습은 펜실베이니아 대학교와 과테말라 정부의 협조 ...  \n",
       "74   러셀은 1890년 케임브리지 대학교의 트리니티 칼리지에 장학생으로 들어갔다. 그는 ...  \n",
       "75   1797년 선거로 다수가 된 왕당파는 구시대로 회귀하려 하였다. 에미그레(망명자)의...  \n",
       "76   CJ의 음악전문 계열회사인 엠넷미디어 는 2008년 4월 30일 YG 엔터테인먼트와...  \n",
       "77   1939년 봄, 할더는 육군 총참모장으로서 폴란드 침공작전을 입안하기 시작했다. 할...  \n",
       "78   혼동(混同)은 일상언어로는 대립되는 것을 뒤섞어서 생각하거나, 서로 뒤섞여 하나가 ...  \n",
       "79   2018년 1월 31일 이베이는 이베이의 결제 서어비스 제공자를 지금까지의 페이팔에...  \n",
       "80   1927년 고등학교 학생의 신분으로 실업 팀에 선발되어 친선 경기를 위해 일본을 방...  \n",
       "81   수를 놓을 때에 사용하는 기법을 문양의 형태에 따라 나누어 보면 선을 잇는 수, 면...  \n",
       "82   코스모케라톱스는 장식이 많은 두개골로 구분할 수 있는데, 어떤 공룡보다도 더 많은 ...  \n",
       "83   러시앤캐시는 2013년 하반기부터, 대부업의 순기능을 이야기하는 이미지 광고를 집행...  \n",
       "84   제2차 세계대전이 발발해 1940년에 프랑스가 독일군에게 점령당하자 패전국 프랑스에...  \n",
       "85   다수의 경제학자들이 중세 개방경지제를 비효율적 제도로 비판한다. \"모든 사람들이 경...  \n",
       "86   라틴아메리카의 자본주의를 이야기할 때, 종속이론을 빼놓고는 이야기할 수 없을 것이다...  \n",
       "87   제2차 세계 대전 후에 와그너는 노동, 사회 보장, 완전 고용 (취업 기회들이 풍부...  \n",
       "88   조조가 죽고, 서평의 국연이 반란을 일으켜 호강교위(護羌校尉)를 자칭하였으나, 소칙...  \n",
       "89   호세이 대학에서는 1학년 때부터 에이스로서 활약하며 통산 47승(역대 2위), 완봉...  \n",
       "90   충주 조동리유적은 1990년 9월 이 지역에 내린 집중 호우로 유적의 퇴적 층위가 ...  \n",
       "91   마계의 일부 '법계' 에 봉인되어 있던, 원래 인간이었던 마법사이다 . 『성련선』의...  \n",
       "92   신라는 왕건에게 호의를 보였다. 왕건이 신라에서 반란을 일으키지 않았다는 점과 신라...  \n",
       "93   2020년 4월 4일, 도널드 트럼프 미국 대통령이 나렌드라 모디 인도 총리에게 말...  \n",
       "94   유진길과 정하상은 조선으로 돌아와서 남명혁을 비롯한 천주교 공동체들의 지도자들에게 ...  \n",
       "95   죽은 자가 지옥에서 벗어나 극락왕생할 것을 빌기 위해 만든 감로탱화인데, 탱화란 천...  \n",
       "96   지평 좌표(地平座標)는 천체 관측에서 가장 기본이 되는 좌표 체계로, 지평선이 기준...  \n",
       "97   가고시마현이나 가고시마 현 연선 시정촌의 신칸센이 정차하지 않는 아쿠네시 이외에 재...  \n",
       "98   과학적 방법\\n \\n과학적 방법은 연역과 귀납에 의해 사실을 밝히는 방법론이다. 연...  \n",
       "99   클라이언트(고객)는 서비스를 사용하는 사용자 혹은 사용자의 단말기를 가리키는 말이다...  \n",
       "100  캐서린 스윈포드는 원래 캐서린 드 로애로 태어났다. 그녀의 아버지는 \"파옹\"으로 알...  \n",
       "101  세계 1차 대전이 일어나자, 메테스키는 미국 해병대에 지원해 전기 전공자로 상하이의...  \n",
       "102  알베르트 아인슈타인에 대해서는 그가 만년에 일본의 철학자인 시노하라 세이에이와 편지...  \n",
       "103  아버지 주환이 고위 관료였기 때문에, 낭(郞)에 서임되었다. 기도위가 되어, 주환의...  \n",
       "104  콘스탄티누스 1세와 황후인 파우스타 사이의 둘째 아들로 317년 일리리쿰의 시르미움...  \n",
       "105  1839년 귀국 후 댈러스는 제임스 뷰캐넌이 거부한 후 법무장관 직이 제공되었으나 ...  \n",
       "106  1991년 10월에 로얄 살롱과 슈퍼 살롱의 마이너 체인지 차종으로 출시되었다. 당...  \n",
       "107  1923년 11월 8일 밤 바이에른 주지사 구스타브 리터 폰 카르는 뷰르가브로이케라...  \n",
       "108  팔라바국(பல்லவநாடு|팔라바나두), 약칭 팔라바(பல்லவ)는 275년부터 8...  \n",
       "109  셔틀콕은 그 재질에 따라 깃털 셔틀콕과 인조 셔틀콕으로 나뉜다. 깃털로 만들어진 셔...  \n",
       "110  은퇴 이후 1985년부터 서울시청 축구단에서 코치로 활동했으며, 1985년 방글라데...  \n",
       "111  한편 그레고리오 4세는 로마의 건축 발전에 크게 기여하였다. 833년 그레고리오 4...  \n",
       "112  처음 2년동안에는 그녀의 체급에서 중궁에서 1등이였고, 1997년 동아시안 게임에서...  \n",
       "113  창조적 파괴\\n이 책에는 또한 슘페터의 유명한 개념인 '창조적 파괴'가 소개되어 있...  \n",
       "114  사탄(Satan)은 사우스 파크 만화영화 시리즈에서 이따금씩 나오는 등장인물이다. ...  \n",
       "115  《뒤러의 코뿔소》(Dürer's Rhinoceros)는 알브레히트 뒤러가 르네상스 ...  \n",
       "116  향로란 절에서 마음의 때를 씻는다는 의미의 향을 피우는데 사용하는 도구이다.\\n\\n...  \n",
       "117  옛날 에도에서는 17세 소녀인 우메노(梅乃)가 살고 있었다. 부유한 전당포 가문의 ...  \n",
       "118  1941년 6월 22일에는 독일이 독소불가침 조약을 깨고 380만 명의 추축국 군대...  \n",
       "119  냉대 동계 소우 기후(冷带冬季少雨氣候)는 쾨펜의 기후 구분에서 냉대 기후에 속하며,...  \n",
       "120  서울 시내에서 고급 병원을 운영하고 있는 이인국 박사는 자신의 병원에서 가난한 환자...  \n",
       "121  한 나라의 경제활동의 일정기간 내의 모든 성과는 생산이라는 관점에서 본다면 여러 분...  \n",
       "122  초기 연구자들은 귀인 편향을 인지적으로 주도된 정보처리 오류의 산물로서 설명했다. ...  \n",
       "123  코로나는 공기와 같은 중성유체 속의 높은 전위의 전극으로부터 발생하는, 주로 지속적...  \n",
       "124  오세아니아 또는 오스트로네시아어족 사람들은 약 3만년 전에 세부 섬에 정착한 이들을...  \n",
       "125  제2차 세계 대전이 일어나는 동안에 아이오와 주에서 생산된 옥수수와 돼지고기를 포함...  \n",
       "126  기원전 104년 이래로, 각 군단들은 아퀼라 (독수리)를 군단의 상징으로 사용했다....  \n",
       "127  《악마는 프라다를 입는다》(The Devil Wears Prada)는 2003년에 ...  \n",
       "128  단성면 소남리에 있는 신석기시대~가야시대의 생활·매장유적으로 남강변에 형성된 포인트...  \n",
       "129  요나라와의 전연의 맹세에 지불한 것으로 알려진 재물은 비단 20만필, 은 10만량이...  \n",
       "130  로타르 마이어는 독일 파렐(당시 올덴부르크 주의 영토)에서 의사인 프리드리히 아우구...  \n",
       "131  김수환 추기경은 생전 장면을 가톨릭 성인(聖人)으로 추대하는 운동을 주도했으나 뜻을...  \n",
       "132  6세 때부터 월출산을 보며 서당에 나가 한문을 배웠다 마을 서당에서 공부하다가 형편...  \n",
       "133  석탄기(石炭紀)는 고생대 가운데 다섯 번째 기이며, 데본기와 페름기 사이 시대다. ...  \n",
       "134  건평 돈대는 朝鮮 肅宗 5년 강화유수 尹以濟가 축조한 것으로, 굴암돈대 북쪽 1,4...  \n",
       "135  연방군 수뇌는 「지온에 시간을 주면, 다시 한번 솔라 레이를 사용할 기회를 주게 된...  \n",
       "136  케른텐 공작 오토 1세의 차남이자 신성 로마 제국의 오토 1세 황제의 증손자로서 교...  \n",
       "137  현학(玄學)은 기원후 3세기에서 6세기에 성행한 중국철학의 한 학파이다. 유교와 도...  \n",
       "138  ;요시카와 하루오(吉川 春生)\\n:성우 - 이치키 마츠히로, 신도 케이(어린 시절의...  \n",
       "139  남편의 유언에 따라 탄압받던 바리사이파와 화해하여 민중에게 영향력을 미치던 바리사이...  \n",
       "140  아카데미상은 1945년부터 미국 영화가 아닌 외국어 영화를 대상으로도 시상하고 있다...  \n",
       "141  61화에선 오랜만에 등장. 월 로제의 인류를 버린다는 선택을 한 왕정의 모습에 \"그...  \n",
       "142  일본 육군은 민다나오 섬과 레이테 섬을 스즈키 소사쿠 중장이 사령관으로 있었던 제3...  \n",
       "143  알프스 물류(株式会社アルプス物流、Alps Logistics Co., Ltd.)는 일...  \n",
       "144  네이딘은 어려서부터 시니컬하고 삐딱한 성격의 소유자였다. 친구는 비교적 차분한 성격...  \n",
       "145  1919년부터 1933년까지 독일은 제 1차 세계대전 이후 세워진 바이마르 공화국이...  \n",
       "146  7년 전쟁(1756년 – 1763년)을 겪은 대영 제국은 무거운 부채에 허덕이고 있...  \n",
       "147  복복선의 각 복선 선로에 열차선을 배치하는 방법에는 여러가지가 있다.\\n; 속도별 ...  \n",
       "148  우스다 고등학교 시절에는 2학년 때부터 에이스로서 활약하여 1961년 추계 호쿠신에...  \n",
       "149  부산박물관 소장 어피인장함은 사찰에 소장되어 있는 인궤(印櫃)의 일반적인 형태인 정...  \n",
       "150  예루살렘에 대한 다른 공방전|예루살렘 공방전 \\n\\n\\n서기 70년의 예루살렘 공방...  \n",
       "151  조선인민군이 영동군으로 진격하는 사이 조선인민군 제2사단은 대전에 너무 늦게 도착해...  \n",
       "152  3·1독립선언서\\n 1919년 3월 1일 오후 2시 에 모이기로 했던 조선의 민족대...  \n",
       "153  알라바스타 왕국에서 태어났다. 알라바스타의 왕녀 네펠타리 비비는 바로크 워크스 크로...  \n",
       "154  베트남 북부에서 프랑스 개입은 하노이에 파견된 앙리 리비에르 사령관에 의해 촉진되었...  \n",
       "155  옛날 옛적에, 토끼와 거북이가 살고 있었다. 토끼는 매우 빨랐고, 거북이는 매우 느...  \n",
       "156  오스트레일리아에서 발견된 것 중 가장 온전하고 풍부한 아우스트랄로할키에리아 수페르스...  \n",
       "157  사람들은 1880년대와 1890년대에 걸쳐 성당을 적절히 보수하기 위해 노력을 기울...  \n",
       "158  기원전 558년에 마가다 지역의 하리얀카 씨족에서 태어났으며 기원전 544년에 당시...  \n",
       "159  텍사스 혁명\\n1830년에서 1832년, 멕시코 의회는 코아우일라 테하스 주에서 영...  \n",
       "160  걸프 카르텔(카르텔 델 골포: Cartel del golfo)는 타마울리파스의 마타...  \n",
       "161  인지심리학의 발달과 함께 확증 편향은 인간의 인지 특징 가운데 하나로 지목되었다. ...  \n",
       "162  태양권계면(Heliopause)은 천문학에서 태양의 태양풍을 성간매질이 멈추게 하는...  \n",
       "163  1949년 5월경, 북조선은 미군이 가까운 시일 안에 한국에서 철수할 수도 있다고 ...  \n",
       "164  캠벨은 1871년 청나라가 다스리는 대만에 도착해 대만 남부(현대의 타이난)에 자리...  \n",
       "165  (1) 열정\\n 수업 과정과 학생들에게 열정을 보이는 교사는 긍정적인 학습 경험을 ...  \n",
       "166  초기인 1985년의 토큰링 네트워크는 전송속도가 4Mbps였지만, 1989년에 IB...  \n",
       "167  취업 빙하기가 진행되는 과정에서는 미취직자, 무직자가 급증하는데 이는 생산성 감소 ...  \n",
       "168  그 이후, 와타라세 천에서 취수를 한 밭이나, 홍수 뒤 아시오에서 흘러나온 토사가 ...  \n",
       "169  조현병은 환각, 망상, 사고장애 등의 특징적 증상이 나타나기 전 수개월에서 수년에 ...  \n",
       "170  지방산 합성\\n동물에서 지방산은 간, 지방 조직, 수유 중에 젖샘에서 주로 탄수화물...  \n",
       "171  에바그리오스는 《수행론》에서 영적 수행을 실천하는 수도사를 괴롭히는 유혹과 어려움에...  \n",
       "172  젊은 부부는 결혼 초반부터 뇌이쉬르센 보르게즈 로(路, Rue Borghèse) 1...  \n",
       "173  네거티브 광고(Negative Marketing)는 금기시되는 소재를 활용하거나 사...  \n",
       "174  보니파시오 4세는 발레리아 태생의 마르시인이자 의사인 요한네스의 아들이다. 교황 보...  \n",
       "175  덴분 13년(1544년), 오노 마사나오의 참언에 의해 아버지를 이마가와 요시모토에...  \n",
       "176  기묘한 정적이 감도는 한 마을에 마리아치 가수 엘 마리아치(El Mariachi: ...  \n",
       "177  현존하는 가장 오래된 사본 중에도 《탄이초》의 저자명은 없으며, 현재까지 밝혀진 바...  \n",
       "178  7월 6일 아침, 영국 육군은 조지 호수의 북쪽 해안에 상륙을 시작했다. 에버크롬비...  \n",
       "179  다른 중추신경계통의 바이러스 감염증과 마찬가지로 항바이러스제를 정맥주사하는 것으로 ...  \n",
       "180  :\\n; 교역\\n:* 첫 번째 시리즈처럼, 어느 도시에서 사들인 상품을 다른 도시로...  \n",
       "181  한번은 동궁에 불이 붙었는데 빈궁이 옆에서 잠자다 깨어 발을 구르면서 얼른 뛰쳐나가...  \n",
       "182  2012년 5월 22일 시민운동 단체 남성연대는 굿보이의 음원유통금지 가처분 신청을...  \n",
       "183  현재 봉은사 대웅전 뒤편에 소재한 영산전에 봉안되어 있는 목조석가불좌상과 목조가섭존...  \n",
       "184  코페르니쿠스의 지동설이 등장하기 전까지, 태양계 천체의 움직임은 주로 프톨레마이오스...  \n",
       "185  일본어는 일상 회화라면 충분히 이해할 수 있지만 읽고 쓰기는 거의 못했고 섬세한 표...  \n",
       "186  여의도는 원래 불모지로, 군사 훈련장으로 쓰이기도 했다. 일제는 표면상으로는 민간항...  \n",
       "187  2011년 3월 11일, 도호쿠 지방 태평양 해역 지진이 일어났다. 당초에는 쓰나미...  \n",
       "188  동아찬영회(東亞讚英會)는 이토 히로부미가 안중근에게 살해된 후 그의 공덕을 기리기 ...  \n",
       "189  태양권계면(Heliopause)은 천문학에서 태양의 태양풍을 성간매질이 멈추게 하는...  \n",
       "190  안드레우치오 디 피에트로는 하룻밤 사이에 온갖 우여곡절을 겪은 사람이다. 안드레우치...  \n",
       "191  경기도 이천에서 출생하였다. 한양대 국문과 및 동 대학원을 졸업하였고, 단국대학교 ...  \n",
       "192  북서 인디언 전쟁\\n조지 워싱턴 대통령이 미국에게 비관적인 상황이 계속되고 있었던 ...  \n",
       "193  대한민국에서 타코벨은 피자헛을 운영하는 업체에서 1991년에 도입 했으나, 당시 기...  \n",
       "194  이날 18일 저녁 북한군은 전차 5대를 포함한 보전협동 공격을 기도하였다. 북한군은...  \n",
       "195  1888년, 교사로 재직하던 조지 새포트 파커(George Safford Parke...  \n",
       "196  디지털 컴퓨터의 발명 이전부터 전자 공학 등 공학에서는 시스템이라는 용어를 일반적으...  \n",
       "197  교황 펠릭스 3세( Felix PP. III, Papa Felice III)는 제4...  \n",
       "198  879년 크닌 인근에서 비잔티움 제국의 지원을 받고 있던 즈데슬라브(Zdeslav)...  \n",
       "199  퇴임에서 볼드윈의 세월은 조용하였다. 네빌 체임벌린이 사망하면서 전쟁 이전의 유화 ...  \n",
       "200  전용선 발착의 컨테이너 화물, 전용선 발착의 차급 화물을 취급하고 있다. 화물 열차...  \n",
       "201  타지마할의 정원은 한 변의 길이가 약 300m에 이르는 페르시아 양식과 힌두 양식이...  \n",
       "202  일반적으로 금속 내 전자에 자기장이 가해지면 그 전자는 로런츠 힘을 받아 자기장에 ...  \n",
       "203  1974년 10월 12일, 주니치의 리그 우승이 확정되면서 요미우리의 리그 10연패...  \n",
       "204  빅토리야 토카레바는 1937년 레닌그라드(지금의 상트페테르부르크)에서 태어났다. 1...  \n",
       "205  요나라와의 전연의 맹세에 지불한 것으로 알려진 재물은 비단 20만필, 은 10만량이...  \n",
       "206  유럽 연합(EU)에서는 다음 과 같은 세 가지 주요 영역에 초점을 맞춘 역량 이사회...  \n",
       "207  밀라노 공작 필리포 마리아 비스콘티의 영토 야망에 맞서 발생한 4번 중 첫 번째 전...  \n",
       "208  2002년 솔트레이크시티 올림픽 대회를 앞두고 푸에르토리코 봅슬레이 팀이 꾸려졌지만...  \n",
       "209  일등병 로버트 M 스토비는 분대에 함께 있었지만 이 일에 가담하지는 않았다. 작전을...  \n",
       "210  제2차 세계 대전이 일어난 동안 워너는 다시 전쟁의 노력을 후원하였다. 그는 미국 ...  \n",
       "211  하녀인 니콜이 조르댕의 옷차림을 보고 웃음보가 터져나온다. 화가난 조르댕은 손님들이...  \n",
       "212  서구화에 대한 일반적인 반응은 근본주의, 보호주의 또는 포용력을 다양한 수준으로 포...  \n",
       "213  극(戟)은 고대 중국에 있던, 과와 모의 기능을 갖춘 무기이다. 전국시대에 많이 사...  \n",
       "214  통상금지법(Embargo Act of 1807)은 1807년에 미국 의회에서 통과된...  \n",
       "215  샤이닝 폼(Shining form, 샤이닝구 폼)은 버닝 폼 상태에서 태양의 빛을 ...  \n",
       "216  1940년에 건립된 차이콥스키 콘서트 홀을 주요 공연장으로 사용하고 있다. 보통 콘...  \n",
       "217  사법적극주의(judicial activism)은 법해석과 판결에 있어서 법문언에만 ...  \n",
       "218  오버워치#줄거리\\n\\n오버워치는 60년 이후 지구의 소설화된 미래를 배경으로 삼고 ...  \n",
       "219  2013년 8월 국가정보원, 검찰 등에 의하여 적발된 '이석기 내란음모선동 사건' ...  \n",
       "220  화순 춘산영당에 소장된 면암 최익현의 초상은 1911년 4월에 석지 채용신이 그린 ...  \n",
       "221  제6회 전조선축구대회는 1925년 4월 28일부터 사흘간 일제강점기 조선 경성부에 ...  \n",
       "222  특히 변계량은 조선시대 대제학을 20년 지낸 당대 최고의 학문 권위자다. 권력이나 ...  \n",
       "223  역전의 시오미바시 교차점에서 신나니와도리와 센니치마에도리가 교차한다. 역을 나와서 ...  \n",
       "224  918년 배현경, 신숭겸, 복지겸과 함께 몰래 모의하여 밤에 태조 왕건의 집으로 찾...  \n",
       "225  클레멘스 5세는 중국의 복음화를 위해 이탈리아의 프란치스코회 선교사 조반니 다 몬테...  \n",
       "226  전세계적으로 독일의 탈락을 기뻐하는 태도를 보였으며 당사자인 독일과 독일 대표팀의 ...  \n",
       "227  아라키돈산의 섭취 증가는 지질 과산화 생성물이 혼합되지 않는 한 정상적인 대사 조건...  \n",
       "228  상인의 직원으로 몇년을 보낸 후, 그는 어린 나이에 군인 생활을 시작하였으며 조반니...  \n",
       "229  영제가 갑훈에게 백성들이 반란을 일으키는 이유를 묻자, 갑훈이 답하였다.\\n총애를 ...  \n",
       "230  이들 스위스 용병들은 동성애자 사제들에게 성추행에 시달리기도 한다. 바티칸의 경비를...  \n",
       "231  러셀은 1890년 케임브리지 대학교의 트리니티 칼리지에 장학생으로 들어갔다. 그는 ...  \n",
       "232  트리부스 민회(Comitia Tributa)는 로마 공화국 사회에서 행정과 관련된 ...  \n",
       "233  과거에 미헤소케어족은 지금보다 훨씬 넓은, 과테말라 태평양 연안(소코누스코 지역)에...  \n",
       "234  인사고과는 조직내의 각종 직무에 종사하고 있는 종업원의 근무성적이나 능력 등을 그 ...  \n",
       "235  연나라 군대의 사령관이 악의에서 기겁으로 교체되자, 전단은 스스로 신령의 계시를 받...  \n",
       "236  현재 우리가 볼 수 있는 티칼의 모습은 펜실베이니아 대학교와 과테말라 정부의 협조 ...  \n",
       "237  1940년 5월 1일 오전 창씨개명에 비협조적이라는 이유로 조선총독부 경무국에서 소...  \n",
       "238  빌카밤바 지역은 파차쿠티 황제 때 부터 잉카 제국에 속해있던 지역이었다. 스페인 군...  \n",
       "239  사회주의 혁명은 오로지 선진노동자계급에 기초한 계급투쟁으로서 이루어질 수 있다고 주...  "
      ],
      "text/html": "<div>\n<style scoped>\n    .dataframe tbody tr th:only-of-type {\n        vertical-align: middle;\n    }\n\n    .dataframe tbody tr th {\n        vertical-align: top;\n    }\n\n    .dataframe thead th {\n        text-align: right;\n    }\n</style>\n<table border=\"1\" class=\"dataframe\">\n  <thead>\n    <tr style=\"text-align: right;\">\n      <th></th>\n      <th>id</th>\n      <th>question</th>\n      <th>answers</th>\n      <th>context</th>\n    </tr>\n  </thead>\n  <tbody>\n    <tr>\n      <th>0</th>\n      <td>mrc-0-003264</td>\n      <td>처음으로 부실 경영인에 대한 보상 선고를 받은 회사는?</td>\n      <td>{'answer_start': [284], 'text': ['한보철강']}</td>\n      <td>순천여자고등학교 졸업, 1973년 이화여자대학교를 졸업하고 1975년 제17회 사법...</td>\n    </tr>\n    <tr>\n      <th>1</th>\n      <td>mrc-0-004762</td>\n      <td>스카버러 남쪽과 코보콘그 마을의 철도 노선이 처음 연장된 연도는?</td>\n      <td>{'answer_start': [146], 'text': ['1871년']}</td>\n      <td>요크 카운티 동쪽에 처음으로 여객 열차 운행이 시작한 시점은 1868년 토론토 &amp; ...</td>\n    </tr>\n    <tr>\n      <th>2</th>\n      <td>mrc-1-001810</td>\n      <td>촌락에서 운영 위원 후보자 이름을 쓰기위해 사용된 것은?</td>\n      <td>{'answer_start': [517], 'text': ['나뭇잎']}</td>\n      <td>촐라 정부\\n 촐라의 정부 체제는 전제군주제였으며,2001 촐라의 군주는 절대적인 ...</td>\n    </tr>\n    <tr>\n      <th>3</th>\n      <td>mrc-1-000219</td>\n      <td>로타이르가 백조를 구하기 위해 사용한 것은?</td>\n      <td>{'answer_start': [1109], 'text': ['금대야']}</td>\n      <td>프랑스의 십자군 무훈시는 1099년 예루살렘 왕국의 통치자가 된 고드프루아 드 부용...</td>\n    </tr>\n    <tr>\n      <th>4</th>\n      <td>mrc-1-000285</td>\n      <td>의견을 자유롭게 나누는 것은 조직 내 어떤 관계에서 가능한가?</td>\n      <td>{'answer_start': [386], 'text': ['수평적 관계']}</td>\n      <td>탈관료제화는 현대사회에서 관료제 성격이 약화되는 현상이다. 현대사회에서 관료제는 약...</td>\n    </tr>\n    <tr>\n      <th>5</th>\n      <td>mrc-0-005106</td>\n      <td>1945년 쇼와천황의 항복 선언이 발표된 라디오 방송은?</td>\n      <td>{'answer_start': [408], 'text': ['옥음방송']}</td>\n      <td>마쓰에 소요 사건(마쓰에소조지켄)은 1945년 8월 24일 일본 제국 시마네현의 현...</td>\n    </tr>\n    <tr>\n      <th>6</th>\n      <td>mrc-0-002076</td>\n      <td>징금수는 서양 자수의 어떤 기법과 같은 기술을 사용하는가?</td>\n      <td>{'answer_start': [192], 'text': ['코칭 스티치']}</td>\n      <td>수를 놓을 때에 사용하는 기법을 문양의 형태에 따라 나누어 보면 선을 잇는 수, 면...</td>\n    </tr>\n    <tr>\n      <th>7</th>\n      <td>mrc-1-000414</td>\n      <td>다른 과 의사들은 감염내과 전문의들로부터 어떤 것에 대해 조언을 받는가?</td>\n      <td>{'answer_start': [31], 'text': ['복잡한 감염병']}</td>\n      <td>감염내과 전문의들은 일반적으로 다른 진료과의 의사들에게 복잡한 감염병에 대한 고문 ...</td>\n    </tr>\n    <tr>\n      <th>8</th>\n      <td>mrc-0-002875</td>\n      <td>루이 14세의 왕비 마리아 테래사는 어느 나라 공주인가?</td>\n      <td>{'answer_start': [625], 'text': ['스페인']}</td>\n      <td>예부터 노트르담 다리는 큰 다리(Grand-pont)라고 불리면서 센 강을 가로지르...</td>\n    </tr>\n    <tr>\n      <th>9</th>\n      <td>mrc-0-003828</td>\n      <td>헤자즈 왕국이 실존했던 것은 언제까지인가?</td>\n      <td>{'answer_start': [71], 'text': ['20세기 초']}</td>\n      <td>여러 유적이 로마 제국의 영역상 헤자즈 일대에 미쳤음을 증명하고 있다. 이집트와 오...</td>\n    </tr>\n    <tr>\n      <th>10</th>\n      <td>mrc-0-002778</td>\n      <td>버드 교장이 5월의 여왕의 대안으로 제시한 것은?</td>\n      <td>{'answer_start': [274], 'text': ['\"5월의 왕\"']}</td>\n      <td>가정부인 플로렌스 파이크는 지쳐 피곤해한다. 그녀의 여주인인 레이디 빌로우즈는 해마...</td>\n    </tr>\n    <tr>\n      <th>11</th>\n      <td>mrc-0-003931</td>\n      <td>인형사'를 만들어낸 것으로 추측되는 사업의 이름은?</td>\n      <td>{'answer_start': [901], 'text': [''일급 비밀 프로젝트 ...</td>\n      <td>2029년의 지구는 비약적으로 발달한 기술 문명을 바탕으로 전 세계가 전자 통신망으...</td>\n    </tr>\n    <tr>\n      <th>12</th>\n      <td>mrc-0-002485</td>\n      <td>멘데스가 요원들을 구하기 위해 간 도시는 어디인가?</td>\n      <td>{'answer_start': [430], 'text': ['테헤란']}</td>\n      <td>테일러 대사는 캐나다 외무 장관 맥도널드와 클라크 총리에 지원을 요청하고 그들은 미...</td>\n    </tr>\n    <tr>\n      <th>13</th>\n      <td>mrc-0-004483</td>\n      <td>교과부의 행동에 화가나 여러명이 사직한 기구의 이름은?</td>\n      <td>{'answer_start': [317], 'text': ['역사교육과정개발추진위원...</td>\n      <td>2011년 8월, 교과부는 2009개정 교육과정에 따른 역사교과 교육과정을 발표하면...</td>\n    </tr>\n    <tr>\n      <th>14</th>\n      <td>mrc-0-003032</td>\n      <td>반대동맹이 공산당과 갈라서겠다고 얘기한 날은 언제인가?</td>\n      <td>{'answer_start': [1429], 'text': ['1967년 11월 1...</td>\n      <td>남은 사유지를 가진 지주들은 정부측의 한 층 강한 압력을 받았으나 반대동맹에 남겠다...</td>\n    </tr>\n    <tr>\n      <th>15</th>\n      <td>mrc-1-000724</td>\n      <td>피어슨이 다시 의회를 해산했던 년도는?</td>\n      <td>{'answer_start': [0], 'text': ['1965년']}</td>\n      <td>1965년 캐나다 연방 선거는 캐나다에서 27번째로 치러진 연방 선거로, 캐나다 하...</td>\n    </tr>\n    <tr>\n      <th>16</th>\n      <td>mrc-0-002138</td>\n      <td>몽케가 죽은 뒤 쿠릴타이에서 대칸의 지위를 얻은 사람의 이름은?</td>\n      <td>{'answer_start': [162], 'text': ['아리크 부케']}</td>\n      <td>보르지긴 아리크부카( , 孛兒只斤 阿里不哥|패아지근 아리불가, 1219년 ~ 126...</td>\n    </tr>\n    <tr>\n      <th>17</th>\n      <td>mrc-0-003727</td>\n      <td>이흥구의 사법시험 이야기를 기사로 작성한 곳은?</td>\n      <td>{'answer_start': [709], 'text': ['〈중앙일보〉']}</td>\n      <td>1989년 동유럽 사회주의 체제의 붕괴 이후 운동진영에 급진적 사회변혁 대신 체제 ...</td>\n    </tr>\n    <tr>\n      <th>18</th>\n      <td>mrc-0-003115</td>\n      <td>남북조 시대에서 이이 씨가 전쟁이 발생했을 때, 생활했던 장소는?</td>\n      <td>{'answer_start': [304], 'text': ['미타케성']}</td>\n      <td>헤이안 시대 말기, 이이 가 초대 당주 이이 도모야스에 의해 축성되었다고 전해진다 ...</td>\n    </tr>\n    <tr>\n      <th>19</th>\n      <td>mrc-0-003088</td>\n      <td>박지훈은 1라운드에서 몇 순위를 차지했는가?</td>\n      <td>{'answer_start': [536], 'text': ['전체 4순위']}</td>\n      <td>대전유천초등학교에서 야구를 시작할 당시에는 내야수였다. 한밭중학교 3학년 때 연습 ...</td>\n    </tr>\n    <tr>\n      <th>20</th>\n      <td>mrc-0-005296</td>\n      <td>데메카론에는 무엇을 풍자하는 이야기가 들어있나요?</td>\n      <td>{'answer_start': [689], 'text': ['뇌물']}</td>\n      <td>이야기에서 성 프란체스코 수도회의 수도사 라고만 언급되나, 조반니 빌라니의 연대기와...</td>\n    </tr>\n    <tr>\n      <th>21</th>\n      <td>mrc-1-001495</td>\n      <td>병에 걸려 죽을 확률이 약 25~50%에 달하는 유형의 질병은?</td>\n      <td>{'answer_start': [78], 'text': ['보통 유형 준융합성 천연...</td>\n      <td>보통 유형 천연두의 치사율은 약 30%지만, 농포 분포에 따라 달라질 수 있었다. ...</td>\n    </tr>\n    <tr>\n      <th>22</th>\n      <td>mrc-0-005289</td>\n      <td>설리반이 불만을 표시한 대상은 누구인가?</td>\n      <td>{'answer_start': [366], 'text': ['데스탱 장군']}</td>\n      <td>1778년 초, 설리번은 로드아일랜드로 전출되어 그곳의 부대와 민병대를 지휘하게 되...</td>\n    </tr>\n    <tr>\n      <th>23</th>\n      <td>mrc-0-002240</td>\n      <td>베소스는 어디서 추방당했는가?</td>\n      <td>{'answer_start': [197], 'text': ['박트리아']}</td>\n      <td>스피타메네스는 아케메네스 왕조 시대의 소그디아나, 박트리아의 호족이었다. 기원전 3...</td>\n    </tr>\n    <tr>\n      <th>24</th>\n      <td>mrc-0-000248</td>\n      <td>진전사의 명칭이 드러나는 데 영향을 준 물건은?</td>\n      <td>{'answer_start': [70], 'text': [''진전(陳田)'이라 새겨...</td>\n      <td>진전사의 옛터에 서 있는 3층 석탑이다. 진전사는 8세기 후반 통일신라시대에 도의국...</td>\n    </tr>\n    <tr>\n      <th>25</th>\n      <td>mrc-0-001846</td>\n      <td>자신의 이상적인 국가관이 스파르타와 닮아 있다고 생각하는 플라톤의 저서는?</td>\n      <td>{'answer_start': [354], 'text': ['《국가》']}</td>\n      <td>민주주의는 가장 합리적인 정치 형태로 찬양받아 왔지만, 이런 중우정치를 해결하지 않...</td>\n    </tr>\n    <tr>\n      <th>26</th>\n      <td>mrc-1-001653</td>\n      <td>박제된 북극곰이 사망한 날짜는?</td>\n      <td>{'answer_start': [6], 'text': ['2011년 3월 19일']}</td>\n      <td>네 살이던 2011년 3월 19일 크누트는 우리 안에서 쓰러져 숨을 거두었다. 목격...</td>\n    </tr>\n    <tr>\n      <th>27</th>\n      <td>mrc-0-000785</td>\n      <td>문법 측면에서 더 보수적인 포르투갈어 표준은?</td>\n      <td>{'answer_start': [61], 'text': ['유럽 포르투갈어']}</td>\n      <td>포르투갈어와 유사한 스페인 갈리시아 지방의 갈리시아어가 존재하나, 포르투갈어의 표준...</td>\n    </tr>\n    <tr>\n      <th>28</th>\n      <td>mrc-0-001519</td>\n      <td>로스 수장이 살해한 사람은 어느 당 회원인가?</td>\n      <td>{'answer_start': [585], 'text': ['메이저 릿지']}</td>\n      <td>앤드루 잭슨이 1832년 대통령 선거에서 압도적으로 재선됨에 따라, 체로키 족에서 ...</td>\n    </tr>\n    <tr>\n      <th>29</th>\n      <td>mrc-0-002457</td>\n      <td>조경숙왕의 아들인 요자의 친어머니는 누구인가?</td>\n      <td>{'answer_start': [726], 'text': ['요희']}</td>\n      <td>경제 2년(기원전 155년) 3월 갑인일, 다른 형제들과 함께 제후왕으로 봉해져, ...</td>\n    </tr>\n    <tr>\n      <th>30</th>\n      <td>mrc-1-001479</td>\n      <td>오래플린과 부스의 마지막 계획에 따르면 그들은 어디서 링컨을 납치하려고 했는가?</td>\n      <td>{'answer_start': [604], 'text': ['포드 극장']}</td>\n      <td>오래플린은 부스의 초기 동료 중 한 명이었다. 1864년 가을에 오래플린은 링컨 대...</td>\n    </tr>\n    <tr>\n      <th>31</th>\n      <td>mrc-0-001707</td>\n      <td>김득황이 친일파로 취급되었던 것은 무슨 경력 때문인가?</td>\n      <td>{'answer_start': [317], 'text': ['만주국 관리']}</td>\n      <td>평안북도 의주군의 무관 집안 출신으로 일본의 니혼 대학을 졸업했다. 대학을 졸업하던...</td>\n    </tr>\n    <tr>\n      <th>32</th>\n      <td>mrc-0-002280</td>\n      <td>레닌이 출간한 책 중 농민의 자발적 참여에 대한 내용이 포함되어있는 것은?</td>\n      <td>{'answer_start': [312], 'text': ['『협동조합에 관하여』']}</td>\n      <td>레닌주의에서 협동조합 개념을 이해할 때 주의해야 할 것은, 레닌이 주장하는 것은 자...</td>\n    </tr>\n    <tr>\n      <th>33</th>\n      <td>mrc-1-001023</td>\n      <td>신란의 동반자가 죽었다고 전해지는 지역은?</td>\n      <td>{'answer_start': [61], 'text': ['도고쿠']}</td>\n      <td>신란의 아내였던 에신니의 동향에 대해서는 이를 전하는 서적 · 소식등이 없고, 여러...</td>\n    </tr>\n    <tr>\n      <th>34</th>\n      <td>mrc-0-001022</td>\n      <td>칭자오의 머리가 엄청난 위력을 발휘할 수 없게 된 것은 누구 때문인가?</td>\n      <td>{'answer_start': [192], 'text': ['몽키 D. 가프']}</td>\n      <td>;돈 칭자오(통칭 '송곳의 칭자오')\\n팔보수군의 12대 두령. 30년 前 현상금은...</td>\n    </tr>\n    <tr>\n      <th>35</th>\n      <td>mrc-0-001150</td>\n      <td>해초나 조류 표면에서 자라는 유기체 중 가장 비율이 높은 것은?</td>\n      <td>{'answer_start': [180], 'text': ['조류']}</td>\n      <td>해양 착생식물의 생태는 지상 착생식물의 생태와는 다르다. 해양 생태계의 착생식물은 ...</td>\n    </tr>\n    <tr>\n      <th>36</th>\n      <td>mrc-0-001807</td>\n      <td>류한욱이 두 번째 뇌출혈로 쓰러진 공간은?</td>\n      <td>{'answer_start': [540], 'text': ['광주교도소']}</td>\n      <td>평안북도 철산군 부서면에서 소작농의 외아들로 태어났다. 어릴 때 어머니를 여의고 아...</td>\n    </tr>\n    <tr>\n      <th>37</th>\n      <td>mrc-0-001161</td>\n      <td>로마의 공성무기에 대한 기록을 남긴 사람은?</td>\n      <td>{'answer_start': [978], 'text': ['작가 베게티우스']}</td>\n      <td>후기 로마군\\n로마 군단 목록\\n \\n로마 제국 말기에, 군단의 수는 늘어났고 로마...</td>\n    </tr>\n    <tr>\n      <th>38</th>\n      <td>mrc-0-004654</td>\n      <td>동반자 등록제를 최초로 실시한 중국의 도시는?</td>\n      <td>{'answer_start': [212], 'text': ['가오슝 시']}</td>\n      <td>2017년 5월 현재 동반자 등록제를 실시 중인 중화민국의 자치정부는 11 곳으로 ...</td>\n    </tr>\n    <tr>\n      <th>39</th>\n      <td>mrc-0-002468</td>\n      <td>장대호가 사용한 흉기는?</td>\n      <td>{'answer_start': [580], 'text': ['쇠망치']}</td>\n      <td>2019년 8월 12일 오전 9시 15분 경 한강사업본부 직원은 한강 마곡철교 남단...</td>\n    </tr>\n    <tr>\n      <th>40</th>\n      <td>mrc-0-001870</td>\n      <td>스뮈츠에게 학비를 지원해 준 사람은?</td>\n      <td>{'answer_start': [1036], 'text': ['마리즈 교수']}</td>\n      <td>스뮈츠는 1870년 5월 24일 케이프 식민지 보펀플라츠에 있는 한 농가에서 태어났...</td>\n    </tr>\n    <tr>\n      <th>41</th>\n      <td>mrc-1-000753</td>\n      <td>브루투스가 세운도시의 현재 이름은?</td>\n      <td>{'answer_start': [1424], 'text': ['런던']}</td>\n      <td>몬머스의 제프리의 《브리타니아 열왕사》에 나오는 브루투스 이야기는 《브리튼인의 역사...</td>\n    </tr>\n    <tr>\n      <th>42</th>\n      <td>mrc-0-001073</td>\n      <td>일본의 대학 입시는 며칠간 진행되는가?</td>\n      <td>{'answer_start': [71], 'text': ['이틀']}</td>\n      <td>대학 입시 센터 시험(다이가쿠뉴시센타시켄)은 독립 행정법인 대학 입시 센터에서 보통...</td>\n    </tr>\n    <tr>\n      <th>43</th>\n      <td>mrc-1-001116</td>\n      <td>국내 화엄종의 선구자는 누구인가?</td>\n      <td>{'answer_start': [35], 'text': ['의상대사']}</td>\n      <td>이 벽화는 부석사를 창건하고 우리나라에서 화엄종을 처음 시작한 의상대사를 모시고 있...</td>\n    </tr>\n    <tr>\n      <th>44</th>\n      <td>mrc-1-000995</td>\n      <td>다케다 노부히로가 통치한 지역은 어디인가?</td>\n      <td>{'answer_start': [135], 'text': ['홋카이도']}</td>\n      <td>지금의 가키자키 씨의 시조는 와카사 다케다 씨(若狭武田氏) 또는 난부 씨(南部氏)의...</td>\n    </tr>\n    <tr>\n      <th>45</th>\n      <td>mrc-0-002175</td>\n      <td>둥근 해자를 건너는 다리 난간에는 어떤 신화의 내용이 새겨져 있나?</td>\n      <td>{'answer_start': [170], 'text': ['‘우유의 바다’']}</td>\n      <td>프레아 칸의 위치는 앙코르 톰의 북대문으로부터 북동쪽으로 1.5km 정도 길을 나가...</td>\n    </tr>\n    <tr>\n      <th>46</th>\n      <td>mrc-0-001894</td>\n      <td>우나동의 주요 식재료는?</td>\n      <td>{'answer_start': [305], 'text': ['장어']}</td>\n      <td>오야코돈\\n오야코동(親子丼)은 닭고기를 조미된 국물로 끓여낸 뒤, 달걀물을 풀어 익...</td>\n    </tr>\n    <tr>\n      <th>47</th>\n      <td>mrc-0-000337</td>\n      <td>제2차 세계 대전 이후 동부 갈리치아 지방은 누구에게 지배를 받았는가?</td>\n      <td>{'answer_start': [377], 'text': ['소련']}</td>\n      <td>갈리치아-볼히니아 왕국의 다닐로 로마노비치가 13세기에 건설하여 아들 레브(Лев)...</td>\n    </tr>\n    <tr>\n      <th>48</th>\n      <td>mrc-0-002013</td>\n      <td>치환과 결합되어 파이스텔 암호 사용을 가능케 하는 것은?</td>\n      <td>{'answer_start': [305], 'text': ['전치']}</td>\n      <td>현대 암호화 방법은 키 유형과 원본 데이터 유형에 따라 두 가지 기준으로 나눌 수 ...</td>\n    </tr>\n    <tr>\n      <th>49</th>\n      <td>mrc-1-001766</td>\n      <td>적색육을 지칭하는 또 다른 이름은?</td>\n      <td>{'answer_start': [104], 'text': ['흑색육(黑色肉)']}</td>\n      <td>적색육(赤色肉)은 조리나 요리를 한 후, 또는 그 이전의 날고기일 때 붉은 빛을 띠...</td>\n    </tr>\n    <tr>\n      <th>50</th>\n      <td>mrc-0-002333</td>\n      <td>정민과 이별한 이후 옥림의 매력에 마음을 빼앗겨버린 인물은?</td>\n      <td>{'answer_start': [81], 'text': ['욱']}</td>\n      <td>옥림은 어렸을 때부터 친하게 지낸 욱에게 좋아하는 마음이 있었지만 단짝인 정민과 사...</td>\n    </tr>\n    <tr>\n      <th>51</th>\n      <td>mrc-1-001814</td>\n      <td>슈트레제만이 이끌었던 당은 무엇인가?</td>\n      <td>{'answer_start': [624], 'text': ['독일인민당']}</td>\n      <td>1918년 11월 9일 군주제의 붕괴와 빌헬름 2세의 네덜란드 망명은 슈트레제만에게...</td>\n    </tr>\n    <tr>\n      <th>52</th>\n      <td>mrc-0-001554</td>\n      <td>닛폰 제지 시라오이 공장과 가까운 역은?</td>\n      <td>{'answer_start': [429], 'text': ['하기노 역']}</td>\n      <td>본선부터 측선(임항선)이 분기하는 기부와, 그 1.5km있는 측선 종단의 통칭 '진...</td>\n    </tr>\n    <tr>\n      <th>53</th>\n      <td>mrc-0-002247</td>\n      <td>벽에 천녀를 그리기 전에 하는 밑작업은?</td>\n      <td>{'answer_start': [13], 'text': ['회칠']}</td>\n      <td>동서 석실의 각 벽에는 회칠을 한 뒤에 벽화를 그렸는데 그 내용은 천녀상(天女像)과...</td>\n    </tr>\n    <tr>\n      <th>54</th>\n      <td>mrc-0-000547</td>\n      <td>합천에서 나루터 역할을 대신하고 있는 것은?</td>\n      <td>{'answer_start': [534], 'text': ['황강다리']}</td>\n      <td>느티나무는 우리나라를 비롯하여 일본, 대만, 중국 등의 따뜻한 지방에 분포하고 있다...</td>\n    </tr>\n    <tr>\n      <th>55</th>\n      <td>mrc-1-001177</td>\n      <td>독일의 취업자들이 주로 기술을 습득한 방법은?</td>\n      <td>{'answer_start': [278], 'text': ['직업 교육']}</td>\n      <td>이원화체제 교육제도의 성격과 질은 국가의 개입에 의해 정의된다. 그 결과 독일국민은...</td>\n    </tr>\n    <tr>\n      <th>56</th>\n      <td>mrc-0-000939</td>\n      <td>김준연은 김구가 누구와 몰래 교류하고 있다고 주장했나요?</td>\n      <td>{'answer_start': [255], 'text': ['공산당']}</td>\n      <td>1947년 12월 김성수가 한민당 당수가 되면서 그는 한민당 부당수로 선임되었다. ...</td>\n    </tr>\n    <tr>\n      <th>57</th>\n      <td>mrc-0-000223</td>\n      <td>당산제를 시행하던 날은 언제였는가?</td>\n      <td>{'answer_start': [564], 'text': ['매년 음력 정월']}</td>\n      <td>고창읍 중앙동에 위치한 당산이다. 당산은 민간신앙에서 신이 있다고 믿고 섬기는 것으...</td>\n    </tr>\n    <tr>\n      <th>58</th>\n      <td>mrc-0-005386</td>\n      <td>육조혜능의 이름을 모방한 불교의 종파는?</td>\n      <td>{'answer_start': [258], 'text': ['조계종']}</td>\n      <td>육조혜능의 제자인 하택신회가 돈오점수를 주장했다. 이 주장이 규봉종밀로 이어지며, ...</td>\n    </tr>\n    <tr>\n      <th>59</th>\n      <td>mrc-0-000118</td>\n      <td>더우징퉁의 부모가 결혼한 곳은 어디인가?</td>\n      <td>{'answer_start': [89], 'text': ['베이징']}</td>\n      <td>왕페이의 사생활은 매체의 초점이 되었다. 그녀는 당시 홍콩에서 이미 천후급의 인물이...</td>\n    </tr>\n    <tr>\n      <th>60</th>\n      <td>mrc-0-003529</td>\n      <td>벨기에가 리에주 전투에서 맞서 싸운 상대방은?</td>\n      <td>{'answer_start': [219], 'text': ['독일군']}</td>\n      <td>다음은 제1차 세계 대전과 벨기에 왕국에 관한 내용이다.\\n\\n벨기에는 1870년 ...</td>\n    </tr>\n    <tr>\n      <th>61</th>\n      <td>mrc-1-000459</td>\n      <td>아킬레 라티가 추기경으로 추대된 해는?</td>\n      <td>{'answer_start': [47], 'text': ['1932년']}</td>\n      <td>오랫동안 학문에 몸 담아왔던 그는 교회 내에서 급속도로 출세가도를 달리기 시작했다....</td>\n    </tr>\n    <tr>\n      <th>62</th>\n      <td>mrc-0-003801</td>\n      <td>제나라가 쇠약해진 시기는?</td>\n      <td>{'answer_start': [0], 'text': ['제서지전(齊西之戰)이후']}</td>\n      <td>제서지전(齊西之戰)이후 제나라는 급격히 쇠퇴해 전성기 때의 강역을 회복하지 못했다....</td>\n    </tr>\n    <tr>\n      <th>63</th>\n      <td>mrc-0-004342</td>\n      <td>갈라파고스 제도의 9월 날씨에 무엇이 계속 오는가?</td>\n      <td>{'answer_start': [231], 'text': ['가루아']}</td>\n      <td>비록 적도에 위치하고 있기는 하지만, 훔볼트 해류의 영향으로 차가운 바닷물을 섬 주...</td>\n    </tr>\n    <tr>\n      <th>64</th>\n      <td>mrc-0-001311</td>\n      <td>진행 천궁도의 가치는 무엇의 형태에 영향을 받나요?</td>\n      <td>{'answer_start': [155], 'text': ['출생 천궁도']}</td>\n      <td>진행의 해석은 통과와 매우 유사하다. 그러나, 일반적으로, 진행은 (종종 외부의 사...</td>\n    </tr>\n    <tr>\n      <th>65</th>\n      <td>mrc-0-002931</td>\n      <td>서울 주변에서 자주 볼 수 없는 불상은?</td>\n      <td>{'answer_start': [915], 'text': ['나말여초']}</td>\n      <td>이 불상은 광진구 광장동 상부암에 봉안되어 있는 석불입상으로 원래 불상 전체에 두껍...</td>\n    </tr>\n    <tr>\n      <th>66</th>\n      <td>mrc-0-002767</td>\n      <td>교황 비오 11세가 사망한 연도는?</td>\n      <td>{'answer_start': [1114], 'text': ['1939년']}</td>\n      <td>비오 11세는 이리 오랫동안 질병을 앓았으며, 1938년 11월 25일 몇 시간에 ...</td>\n    </tr>\n    <tr>\n      <th>67</th>\n      <td>mrc-1-000961</td>\n      <td>닭의 관절 재생을 유도할 수 있는 재생 기술은?</td>\n      <td>{'answer_start': [555], 'text': ['창 절제술']}</td>\n      <td>연구가 많이 되지 않았기에 아직까지 조류의 성체는 매우 제한된 재생능력을 가진 것으...</td>\n    </tr>\n    <tr>\n      <th>68</th>\n      <td>mrc-1-000796</td>\n      <td>엘디 서쪽 리틀강에 위차하는 마을은?</td>\n      <td>{'answer_start': [302], 'text': ['도버 밀']}</td>\n      <td>6월 17일 아침 일찍, 문포드 대령은 버지니아 2 기병대와 3 기병대를 이끌고 라...</td>\n    </tr>\n    <tr>\n      <th>69</th>\n      <td>mrc-1-000449</td>\n      <td>몽양 여운형의 아버지 이름은 무엇인가요?</td>\n      <td>{'answer_start': [33], 'text': ['여정현(呂正鉉)']}</td>\n      <td>몽양 여운형은 경기도 양근군 서시면 묘곡(妙谷, 묘골)에서 여정현(呂正鉉)과 경주 ...</td>\n    </tr>\n    <tr>\n      <th>70</th>\n      <td>mrc-0-004133</td>\n      <td>부처의 몸에서 뿜어져 나오는 빛을 형상화한 것은 무엇인가?</td>\n      <td>{'answer_start': [277], 'text': ['광배']}</td>\n      <td>광배(光背)와 대좌(臺座)를 따로 가지고 있는 독립된 불상이 삼존불(三尊佛)을 이루...</td>\n    </tr>\n    <tr>\n      <th>71</th>\n      <td>mrc-0-003576</td>\n      <td>2012년 당시 곽태휘의 소속팀은?</td>\n      <td>{'answer_start': [446], 'text': ['울산']}</td>\n      <td>광주에서 제대 후 2010시즌을 앞두고 서울로 복귀했다. 하지만 2009년 겨울 최...</td>\n    </tr>\n    <tr>\n      <th>72</th>\n      <td>mrc-0-002692</td>\n      <td>교황의 문장에서 교차한 금빛 열쇠와 은빛 열쇠가 뜻하는 바는?</td>\n      <td>{'answer_start': [504], 'text': ['땅(은색)과 하늘(금색...</td>\n      <td>교황 문장은 기독교에서 교황을 상징하는 고유한 문장을 말한다. 최초로 문장을 사용한...</td>\n    </tr>\n    <tr>\n      <th>73</th>\n      <td>mrc-0-004899</td>\n      <td>돌을 캐고 난 빈 채석장은 어떠한 용도로 이용하였나?</td>\n      <td>{'answer_start': [435], 'text': ['저수지']}</td>\n      <td>현재 우리가 볼 수 있는 티칼의 모습은 펜실베이니아 대학교와 과테말라 정부의 협조 ...</td>\n    </tr>\n    <tr>\n      <th>74</th>\n      <td>mrc-0-003677</td>\n      <td>러셀의 여자 친구의 종교는?</td>\n      <td>{'answer_start': [215], 'text': ['퀘이커 교']}</td>\n      <td>러셀은 1890년 케임브리지 대학교의 트리니티 칼리지에 장학생으로 들어갔다. 그는 ...</td>\n    </tr>\n    <tr>\n      <th>75</th>\n      <td>mrc-1-000127</td>\n      <td>쿠데타를 위해 초대된 나폴레옹의 수하는?</td>\n      <td>{'answer_start': [206], 'text': ['피에르 오주로']}</td>\n      <td>1797년 선거로 다수가 된 왕당파는 구시대로 회귀하려 하였다. 에미그레(망명자)의...</td>\n    </tr>\n    <tr>\n      <th>76</th>\n      <td>mrc-0-005412</td>\n      <td>엠넷미디어와 YG엔터테인먼트는 각자 상대방의 무엇을 얻어 협력관계를 맺었는가?</td>\n      <td>{'answer_start': [121], 'text': ['지분']}</td>\n      <td>CJ의 음악전문 계열회사인 엠넷미디어 는 2008년 4월 30일 YG 엔터테인먼트와...</td>\n    </tr>\n    <tr>\n      <th>77</th>\n      <td>mrc-0-000561</td>\n      <td>할더가 히틀러의 공격안을 반대한 결과는?</td>\n      <td>{'answer_start': [108], 'text': ['독일']}</td>\n      <td>1939년 봄, 할더는 육군 총참모장으로서 폴란드 침공작전을 입안하기 시작했다. 할...</td>\n    </tr>\n    <tr>\n      <th>78</th>\n      <td>mrc-0-004268</td>\n      <td>대한민국 민법에서 채권의 권리가 누구에게 있으면 채권이 사라지지 않는다고 명시하는가?</td>\n      <td>{'answer_start': [412], 'text': ['제 3자']}</td>\n      <td>혼동(混同)은 일상언어로는 대립되는 것을 뒤섞어서 생각하거나, 서로 뒤섞여 하나가 ...</td>\n    </tr>\n    <tr>\n      <th>79</th>\n      <td>mrc-1-000835</td>\n      <td>이베이의 계산 방법으로 아디옌이 많이 보급될수록 필요성이 없어지는 결제 방법은?</td>\n      <td>{'answer_start': [75], 'text': ['페이팔']}</td>\n      <td>2018년 1월 31일 이베이는 이베이의 결제 서어비스 제공자를 지금까지의 페이팔에...</td>\n    </tr>\n    <tr>\n      <th>80</th>\n      <td>mrc-0-001704</td>\n      <td>일본 프로 야구에서 처음으로 가쿠사다마를 사용한 선수는?</td>\n      <td>{'answer_start': [1013], 'text': ['가리타 히사노리']}</td>\n      <td>1927년 고등학교 학생의 신분으로 실업 팀에 선발되어 친선 경기를 위해 일본을 방...</td>\n    </tr>\n    <tr>\n      <th>81</th>\n      <td>mrc-1-001132</td>\n      <td>수를 놓을 때에 사용하는 기법 중 아주 작은 점으로 표현하는 방식은?</td>\n      <td>{'answer_start': [101], 'text': ['점수']}</td>\n      <td>수를 놓을 때에 사용하는 기법을 문양의 형태에 따라 나누어 보면 선을 잇는 수, 면...</td>\n    </tr>\n    <tr>\n      <th>82</th>\n      <td>mrc-0-002512</td>\n      <td>각룡류 중에서 가장 짧은 프릴을 가지고 있는 공룡은?</td>\n      <td>{'answer_start': [250], 'text': ['코스모케라톱스']}</td>\n      <td>코스모케라톱스는 장식이 많은 두개골로 구분할 수 있는데, 어떤 공룡보다도 더 많은 ...</td>\n    </tr>\n    <tr>\n      <th>83</th>\n      <td>mrc-0-003017</td>\n      <td>러시앤캐시는 광고를 통해 어떤 회사라는 이미지에서 탈피하고 싶어하는가?</td>\n      <td>{'answer_start': [536], 'text': [''사채회사'']}</td>\n      <td>러시앤캐시는 2013년 하반기부터, 대부업의 순기능을 이야기하는 이미지 광고를 집행...</td>\n    </tr>\n    <tr>\n      <th>84</th>\n      <td>mrc-0-000215</td>\n      <td>1954년 샤넬이 프랑스로 돌아오기 전 머무르던 국가는?</td>\n      <td>{'answer_start': [386], 'text': ['스위스']}</td>\n      <td>제2차 세계대전이 발발해 1940년에 프랑스가 독일군에게 점령당하자 패전국 프랑스에...</td>\n    </tr>\n    <tr>\n      <th>85</th>\n      <td>mrc-0-002873</td>\n      <td>경제학의 어떤 개념을 통해 개방경지제의 공동 방목지가 능률이 떨어지는 이유를 이해할...</td>\n      <td>{'answer_start': [272], 'text': ['\"공유지의 비극\"']}</td>\n      <td>다수의 경제학자들이 중세 개방경지제를 비효율적 제도로 비판한다. \"모든 사람들이 경...</td>\n    </tr>\n    <tr>\n      <th>86</th>\n      <td>mrc-0-003118</td>\n      <td>쿠에바가 생각하는 자본주의 체제는?</td>\n      <td>{'answer_start': [1222], 'text': ['그 자체가 계급 모순...</td>\n      <td>라틴아메리카의 자본주의를 이야기할 때, 종속이론을 빼놓고는 이야기할 수 없을 것이다...</td>\n    </tr>\n    <tr>\n      <th>87</th>\n      <td>mrc-1-000384</td>\n      <td>와그너가 국내 건강보험과 민생을 위해 입법하는 것에 열정적으로 지지했던 인물은?</td>\n      <td>{'answer_start': [228], 'text': ['해리 트루먼 대통령']}</td>\n      <td>제2차 세계 대전 후에 와그너는 노동, 사회 보장, 완전 고용 (취업 기회들이 풍부...</td>\n    </tr>\n    <tr>\n      <th>88</th>\n      <td>mrc-0-005270</td>\n      <td>무위의 오랑캐들의 횡포로 길이 끊긴 사실을 소칙에게 알린 사람의 관직은?</td>\n      <td>{'answer_start': [256], 'text': ['무위태수']}</td>\n      <td>조조가 죽고, 서평의 국연이 반란을 일으켜 호강교위(護羌校尉)를 자칭하였으나, 소칙...</td>\n    </tr>\n    <tr>\n      <th>89</th>\n      <td>mrc-0-002981</td>\n      <td>요미우리가 먼저 에가와를 지명할 수 없게 만든 구단은?</td>\n      <td>{'answer_start': [522], 'text': ['크라운라이터']}</td>\n      <td>호세이 대학에서는 1학년 때부터 에이스로서 활약하며 통산 47승(역대 2위), 완봉...</td>\n    </tr>\n    <tr>\n      <th>90</th>\n      <td>mrc-1-000158</td>\n      <td>충주 조동리유적의 존재 사실을 언제 알게 되었는가?</td>\n      <td>{'answer_start': [10], 'text': ['1990년 9월']}</td>\n      <td>충주 조동리유적은 1990년 9월 이 지역에 내린 집중 호우로 유적의 퇴적 층위가 ...</td>\n    </tr>\n    <tr>\n      <th>91</th>\n      <td>mrc-0-002189</td>\n      <td>뱌쿠롄과 레이무 일행은 어떤 철학 때문에 싸우게 되었나?</td>\n      <td>{'answer_start': [459], 'text': ['\"인간과 요괴의 완전한...</td>\n      <td>마계의 일부 '법계' 에 봉인되어 있던, 원래 인간이었던 마법사이다 . 『성련선』의...</td>\n    </tr>\n    <tr>\n      <th>92</th>\n      <td>mrc-0-000905</td>\n      <td>견훤에게 살해당한 인물과 함께 태조를 대접한 왕은?</td>\n      <td>{'answer_start': [209], 'text': ['경순왕']}</td>\n      <td>신라는 왕건에게 호의를 보였다. 왕건이 신라에서 반란을 일으키지 않았다는 점과 신라...</td>\n    </tr>\n    <tr>\n      <th>93</th>\n      <td>mrc-0-001198</td>\n      <td>인도 총리에게 말라리아와 루푸스 치료제를 보내달라고 요구한 인물은?</td>\n      <td>{'answer_start': [13], 'text': ['도널드 트럼프 미국 대통...</td>\n      <td>2020년 4월 4일, 도널드 트럼프 미국 대통령이 나렌드라 모디 인도 총리에게 말...</td>\n    </tr>\n    <tr>\n      <th>94</th>\n      <td>mrc-0-003947</td>\n      <td>1831년 조선 대목구의 첫 주교 직위를 맡은 사람은?</td>\n      <td>{'answer_start': [264], 'text': ['바르톨로메오 브뤼기에르']}</td>\n      <td>유진길과 정하상은 조선으로 돌아와서 남명혁을 비롯한 천주교 공동체들의 지도자들에게 ...</td>\n    </tr>\n    <tr>\n      <th>95</th>\n      <td>mrc-1-001328</td>\n      <td>탱화는 어느 종교와 관련이 있는가?</td>\n      <td>{'answer_start': [83], 'text': ['불교']}</td>\n      <td>죽은 자가 지옥에서 벗어나 극락왕생할 것을 빌기 위해 만든 감로탱화인데, 탱화란 천...</td>\n    </tr>\n    <tr>\n      <th>96</th>\n      <td>mrc-0-000166</td>\n      <td>천체 관측과 동시에 고도와 방위각을 알 수 있는 망원경은?</td>\n      <td>{'answer_start': [591], 'text': ['경위대식 망원경']}</td>\n      <td>지평 좌표(地平座標)는 천체 관측에서 가장 기본이 되는 좌표 체계로, 지평선이 기준...</td>\n    </tr>\n    <tr>\n      <th>97</th>\n      <td>mrc-0-004090</td>\n      <td>철도보다 자가용 이용이 많아지면서, 히사쓰 오렌지 철도 노선의 대항마로 부상한 것은?</td>\n      <td>{'answer_start': [523], 'text': ['남큐슈 자동차 전용 도...</td>\n      <td>가고시마현이나 가고시마 현 연선 시정촌의 신칸센이 정차하지 않는 아쿠네시 이외에 재...</td>\n    </tr>\n    <tr>\n      <th>98</th>\n      <td>mrc-0-003522</td>\n      <td>태양이 대부분 철로 이루어지지 않음을 발견한 인물은?</td>\n      <td>{'answer_start': [520], 'text': ['세실리아 페인']}</td>\n      <td>과학적 방법\\n \\n과학적 방법은 연역과 귀납에 의해 사실을 밝히는 방법론이다. 연...</td>\n    </tr>\n    <tr>\n      <th>99</th>\n      <td>mrc-1-001398</td>\n      <td>클라이언트이자 서버인 경우가 많아지는 상황에서 변화가 생기고 있는 환경은?</td>\n      <td>{'answer_start': [135], 'text': ['웹 2.0']}</td>\n      <td>클라이언트(고객)는 서비스를 사용하는 사용자 혹은 사용자의 단말기를 가리키는 말이다...</td>\n    </tr>\n    <tr>\n      <th>100</th>\n      <td>mrc-0-000355</td>\n      <td>캐서린 스윈포드의 언니의 직업은?</td>\n      <td>{'answer_start': [191], 'text': ['수녀']}</td>\n      <td>캐서린 스윈포드는 원래 캐서린 드 로애로 태어났다. 그녀의 아버지는 \"파옹\"으로 알...</td>\n    </tr>\n    <tr>\n      <th>101</th>\n      <td>mrc-0-002906</td>\n      <td>메테스키가 최초로 폭탄을 설치하였던 지역은?</td>\n      <td>{'answer_start': [476], 'text': ['맨해튼']}</td>\n      <td>세계 1차 대전이 일어나자, 메테스키는 미국 해병대에 지원해 전기 전공자로 상하이의...</td>\n    </tr>\n    <tr>\n      <th>102</th>\n      <td>mrc-0-001590</td>\n      <td>시노하라에 의하면 아인슈타인은 무엇으로 원자폭탄 제작에 도움을 주었는가?</td>\n      <td>{'answer_start': [90], 'text': ['상대성이론']}</td>\n      <td>알베르트 아인슈타인에 대해서는 그가 만년에 일본의 철학자인 시노하라 세이에이와 편지...</td>\n    </tr>\n    <tr>\n      <th>103</th>\n      <td>mrc-1-001522</td>\n      <td>주이로부터 문흠의 가짜 항복 소식을 들은 인물은?</td>\n      <td>{'answer_start': [459], 'text': ['손권']}</td>\n      <td>아버지 주환이 고위 관료였기 때문에, 낭(郞)에 서임되었다. 기도위가 되어, 주환의...</td>\n    </tr>\n    <tr>\n      <th>104</th>\n      <td>mrc-0-004307</td>\n      <td>콘스탄스를 죽인 것은 누구인가?</td>\n      <td>{'answer_start': [790], 'text': ['350년']}</td>\n      <td>콘스탄티누스 1세와 황후인 파우스타 사이의 둘째 아들로 317년 일리리쿰의 시르미움...</td>\n    </tr>\n    <tr>\n      <th>105</th>\n      <td>mrc-0-002471</td>\n      <td>댈러스 이전에 법무장관 직을 거부한 인물은 어디 출신인가요?</td>\n      <td>{'answer_start': [75], 'text': ['펜실베이니아주 출신']}</td>\n      <td>1839년 귀국 후 댈러스는 제임스 뷰캐넌이 거부한 후 법무장관 직이 제공되었으나 ...</td>\n    </tr>\n    <tr>\n      <th>106</th>\n      <td>mrc-1-001313</td>\n      <td>로얄 살롱에 부착된 후면 번호판의 기존 위치는 어디인가?</td>\n      <td>{'answer_start': [120], 'text': ['트렁크']}</td>\n      <td>1991년 10월에 로얄 살롱과 슈퍼 살롱의 마이너 체인지 차종으로 출시되었다. 당...</td>\n    </tr>\n    <tr>\n      <th>107</th>\n      <td>mrc-0-004083</td>\n      <td>카르가 반대입장으로 돌아서자 반란세력이 진행한 것은?</td>\n      <td>{'answer_start': [1029], 'text': ['데코행진']}</td>\n      <td>1923년 11월 8일 밤 바이에른 주지사 구스타브 리터 폰 카르는 뷰르가브로이케라...</td>\n    </tr>\n    <tr>\n      <th>108</th>\n      <td>mrc-0-005186</td>\n      <td>팔라바국이 9세기 초까지 텔랑가나와 타밀나두 북쪽 지역을 다스린 기간은?</td>\n      <td>{'answer_start': [155], 'text': ['약 600년']}</td>\n      <td>팔라바국(பல்லவநாடு|팔라바나두), 약칭 팔라바(பல்லவ)는 275년부터 8...</td>\n    </tr>\n    <tr>\n      <th>109</th>\n      <td>mrc-0-004197</td>\n      <td>어느정도 규모 이상의 대회에서 깃털 셔틀콕만을 사용하는 이유는?</td>\n      <td>{'answer_start': [637], 'text': ['깃털 셔틀콕의 타구감을...</td>\n      <td>셔틀콕은 그 재질에 따라 깃털 셔틀콕과 인조 셔틀콕으로 나뉜다. 깃털로 만들어진 셔...</td>\n    </tr>\n    <tr>\n      <th>110</th>\n      <td>mrc-0-003208</td>\n      <td>한일생명 축구단의 감독에게 감사패를 준 축제가 열린 해는?</td>\n      <td>{'answer_start': [505], 'text': ['1998년']}</td>\n      <td>은퇴 이후 1985년부터 서울시청 축구단에서 코치로 활동했으며, 1985년 방글라데...</td>\n    </tr>\n    <tr>\n      <th>111</th>\n      <td>mrc-1-000297</td>\n      <td>교황에 의해 새롭게 토지 개발된 최초의 관리지역은?</td>\n      <td>{'answer_start': [493], 'text': ['드라']}</td>\n      <td>한편 그레고리오 4세는 로마의 건축 발전에 크게 기여하였다. 833년 그레고리오 4...</td>\n    </tr>\n    <tr>\n      <th>112</th>\n      <td>mrc-1-000358</td>\n      <td>2003년 세계 태권도 선수권 대회가 개최되었던 장소는?</td>\n      <td>{'answer_start': [530], 'text': ['가르미슈파르텐키르헨']}</td>\n      <td>처음 2년동안에는 그녀의 체급에서 중궁에서 1등이였고, 1997년 동아시안 게임에서...</td>\n    </tr>\n    <tr>\n      <th>113</th>\n      <td>mrc-1-001785</td>\n      <td>슘페터는 경제적 이윤도 전혀 발생시키지 않고 아무 발전이 없는 사회를 무엇이라 정의했나?</td>\n      <td>{'answer_start': [92], 'text': ['정태적인 자본주의']}</td>\n      <td>창조적 파괴\\n이 책에는 또한 슘페터의 유명한 개념인 '창조적 파괴'가 소개되어 있...</td>\n    </tr>\n    <tr>\n      <th>114</th>\n      <td>mrc-0-005042</td>\n      <td>트레이 파커가 목소리를 맡은 등장인물의 자식은 누구인가?</td>\n      <td>{'answer_start': [454], 'text': ['데미안']}</td>\n      <td>사탄(Satan)은 사우스 파크 만화영화 시리즈에서 이따금씩 나오는 등장인물이다. ...</td>\n    </tr>\n    <tr>\n      <th>115</th>\n      <td>mrc-1-000839</td>\n      <td>뒤러는 어디에 코뿔소를 그렸는가?</td>\n      <td>{'answer_start': [61], 'text': ['목판']}</td>\n      <td>《뒤러의 코뿔소》(Dürer's Rhinoceros)는 알브레히트 뒤러가 르네상스 ...</td>\n    </tr>\n    <tr>\n      <th>116</th>\n      <td>mrc-0-004677</td>\n      <td>받침 굽에 새겨져 있는 글자의 수는?</td>\n      <td>{'answer_start': [397], 'text': ['34자']}</td>\n      <td>향로란 절에서 마음의 때를 씻는다는 의미의 향을 피우는데 사용하는 도구이다.\\n\\n...</td>\n    </tr>\n    <tr>\n      <th>117</th>\n      <td>mrc-0-003564</td>\n      <td>상사병으로 사망한 소녀의 장례식이 열린 곳은 어디인가?</td>\n      <td>{'answer_start': [251], 'text': ['혼묘지']}</td>\n      <td>옛날 에도에서는 17세 소녀인 우메노(梅乃)가 살고 있었다. 부유한 전당포 가문의 ...</td>\n    </tr>\n    <tr>\n      <th>118</th>\n      <td>mrc-0-004202</td>\n      <td>러시아에 있는 다량의 천연자원을 약탈하려했던 계획은?</td>\n      <td>{'answer_start': [67], 'text': ['바르바로사 작전']}</td>\n      <td>1941년 6월 22일에는 독일이 독소불가침 조약을 깨고 380만 명의 추축국 군대...</td>\n    </tr>\n    <tr>\n      <th>119</th>\n      <td>mrc-0-001486</td>\n      <td>냉대 동계 소우 기후의 w는 무엇의 약자인가?</td>\n      <td>{'answer_start': [82], 'text': ['동계건조(wintertr...</td>\n      <td>냉대 동계 소우 기후(冷带冬季少雨氣候)는 쾨펜의 기후 구분에서 냉대 기후에 속하며,...</td>\n    </tr>\n    <tr>\n      <th>120</th>\n      <td>mrc-1-000291</td>\n      <td>이인국 박사가 석방되는 결과를 가져온 병은?</td>\n      <td>{'answer_start': [444], 'text': ['혹']}</td>\n      <td>서울 시내에서 고급 병원을 운영하고 있는 이인국 박사는 자신의 병원에서 가난한 환자...</td>\n    </tr>\n    <tr>\n      <th>121</th>\n      <td>mrc-0-003753</td>\n      <td>생산물 중 다른 물건을 만들기 위해 사용되는 것은?</td>\n      <td>{'answer_start': [331], 'text': ['중간 생산물']}</td>\n      <td>한 나라의 경제활동의 일정기간 내의 모든 성과는 생산이라는 관점에서 본다면 여러 분...</td>\n    </tr>\n    <tr>\n      <th>122</th>\n      <td>mrc-0-003033</td>\n      <td>동기부여적 설명이 효과가 있는지 알아내기 위해 현재 연구되고 있는 것은 무엇인가?</td>\n      <td>{'answer_start': [177], 'text': ['귀인 평향과 행동의 상...</td>\n      <td>초기 연구자들은 귀인 편향을 인지적으로 주도된 정보처리 오류의 산물로서 설명했다. ...</td>\n    </tr>\n    <tr>\n      <th>123</th>\n      <td>mrc-0-005478</td>\n      <td>코로나를 발생시키는 것은?</td>\n      <td>{'answer_start': [20], 'text': ['높은 전위의 전극']}</td>\n      <td>코로나는 공기와 같은 중성유체 속의 높은 전위의 전극으로부터 발생하는, 주로 지속적...</td>\n    </tr>\n    <tr>\n      <th>124</th>\n      <td>mrc-0-005155</td>\n      <td>애니미즘만을 믿던 세부아노족들에게 전파된 외부 종교는?</td>\n      <td>{'answer_start': [333], 'text': ['기독교']}</td>\n      <td>오세아니아 또는 오스트로네시아어족 사람들은 약 3만년 전에 세부 섬에 정착한 이들을...</td>\n    </tr>\n    <tr>\n      <th>125</th>\n      <td>mrc-1-000516</td>\n      <td>아이오와주에 수많은 산업체들이 들어오기 시작한 것은 언제인가?</td>\n      <td>{'answer_start': [106], 'text': ['1945년']}</td>\n      <td>제2차 세계 대전이 일어나는 동안에 아이오와 주에서 생산된 옥수수와 돼지고기를 포함...</td>\n    </tr>\n    <tr>\n      <th>126</th>\n      <td>mrc-0-002679</td>\n      <td>제10군단의 아퀼리페르가 아퀼라를 든 채 배 밖으로 뛰어들었을 당시, 카이사르군대가...</td>\n      <td>{'answer_start': [353], 'text': ['브리튼인들']}</td>\n      <td>기원전 104년 이래로, 각 군단들은 아퀼라 (독수리)를 군단의 상징으로 사용했다....</td>\n    </tr>\n    <tr>\n      <th>127</th>\n      <td>mrc-0-004527</td>\n      <td>《악마는 프라다를 입는다》은 어느 국가의 영화인가요?</td>\n      <td>{'answer_start': [84], 'text': ['미국']}</td>\n      <td>《악마는 프라다를 입는다》(The Devil Wears Prada)는 2003년에 ...</td>\n    </tr>\n    <tr>\n      <th>128</th>\n      <td>mrc-0-001980</td>\n      <td>161개의 집터 근처에서 발견된 석실묘의 개수는?</td>\n      <td>{'answer_start': [351], 'text': ['1기']}</td>\n      <td>단성면 소남리에 있는 신석기시대~가야시대의 생활·매장유적으로 남강변에 형성된 포인트...</td>\n    </tr>\n    <tr>\n      <th>129</th>\n      <td>mrc-0-004495</td>\n      <td>송나라가 돈을 지불하여 피하고자 했던 것은?</td>\n      <td>{'answer_start': [251], 'text': ['전쟁']}</td>\n      <td>요나라와의 전연의 맹세에 지불한 것으로 알려진 재물은 비단 20만필, 은 10만량이...</td>\n    </tr>\n    <tr>\n      <th>130</th>\n      <td>mrc-1-000037</td>\n      <td>마이어의 사인은?</td>\n      <td>{'answer_start': [870], 'text': ['뇌졸중']}</td>\n      <td>로타르 마이어는 독일 파렐(당시 올덴부르크 주의 영토)에서 의사인 프리드리히 아우구...</td>\n    </tr>\n    <tr>\n      <th>131</th>\n      <td>mrc-0-004092</td>\n      <td>장면을 가톨릭 성자로 추앙하려 했던 사람은?</td>\n      <td>{'answer_start': [0], 'text': ['김수환 추기경']}</td>\n      <td>김수환 추기경은 생전 장면을 가톨릭 성인(聖人)으로 추대하는 운동을 주도했으나 뜻을...</td>\n    </tr>\n    <tr>\n      <th>132</th>\n      <td>mrc-0-004015</td>\n      <td>김준연은 김옥성과 몇 년간 함께 살았나요?</td>\n      <td>{'answer_start': [248], 'text': ['60년간']}</td>\n      <td>6세 때부터 월출산을 보며 서당에 나가 한문을 배웠다 마을 서당에서 공부하다가 형편...</td>\n    </tr>\n    <tr>\n      <th>133</th>\n      <td>mrc-0-000707</td>\n      <td>석탄기 다음 시대는?</td>\n      <td>{'answer_start': [34], 'text': ['페름기']}</td>\n      <td>석탄기(石炭紀)는 고생대 가운데 다섯 번째 기이며, 데본기와 페름기 사이 시대다. ...</td>\n    </tr>\n    <tr>\n      <th>134</th>\n      <td>mrc-1-000658</td>\n      <td>돈대에서 무너져내린 포좌부분이 있는 위치는?</td>\n      <td>{'answer_start': [143], 'text': ['서남쪽']}</td>\n      <td>건평 돈대는 朝鮮 肅宗 5년 강화유수 尹以濟가 축조한 것으로, 굴암돈대 북쪽 1,4...</td>\n    </tr>\n    <tr>\n      <th>135</th>\n      <td>mrc-1-001446</td>\n      <td>기렌 총수가 살해당한 직후에 파괴된 군함은?</td>\n      <td>{'answer_start': [498], 'text': ['대형 항공 모함 도로스']}</td>\n      <td>연방군 수뇌는 「지온에 시간을 주면, 다시 한번 솔라 레이를 사용할 기회를 주게 된...</td>\n    </tr>\n    <tr>\n      <th>136</th>\n      <td>mrc-0-000412</td>\n      <td>크레센티우스 2세가 받은 형벌은?</td>\n      <td>{'answer_start': [1094], 'text': ['성벽에 목이 매달리는...</td>\n      <td>케른텐 공작 오토 1세의 차남이자 신성 로마 제국의 오토 1세 황제의 증손자로서 교...</td>\n    </tr>\n    <tr>\n      <th>137</th>\n      <td>mrc-0-001288</td>\n      <td>왕필과 함께 대표적인 현학자로 불리며 《장자》에 주석을 단 사람은?</td>\n      <td>{'answer_start': [151], 'text': ['곽상']}</td>\n      <td>현학(玄學)은 기원후 3세기에서 6세기에 성행한 중국철학의 한 학파이다. 유교와 도...</td>\n    </tr>\n    <tr>\n      <th>138</th>\n      <td>mrc-1-000197</td>\n      <td>요시카와 하루오의 어린시절 역을 맡은 성우는?</td>\n      <td>{'answer_start': [34], 'text': ['신도 케이']}</td>\n      <td>;요시카와 하루오(吉川 春生)\\n:성우 - 이치키 마츠히로, 신도 케이(어린 시절의...</td>\n    </tr>\n    <tr>\n      <th>139</th>\n      <td>mrc-0-002253</td>\n      <td>반바리사이파의 반발을 불러일으킨 원인은 누구의 사망이었나요?</td>\n      <td>{'answer_start': [369], 'text': ['디오게네스']}</td>\n      <td>남편의 유언에 따라 탄압받던 바리사이파와 화해하여 민중에게 영향력을 미치던 바리사이...</td>\n    </tr>\n    <tr>\n      <th>140</th>\n      <td>mrc-1-000367</td>\n      <td>외국어영화상 위원회에서 최종 후보 다섯 편을 추리는 방법은?</td>\n      <td>{'answer_start': [718], 'text': ['비밀 투표']}</td>\n      <td>아카데미상은 1945년부터 미국 영화가 아닌 외국어 영화를 대상으로도 시상하고 있다...</td>\n    </tr>\n    <tr>\n      <th>141</th>\n      <td>mrc-0-003906</td>\n      <td>쿠데타가 있었던 회차는?</td>\n      <td>{'answer_start': [0], 'text': ['61화']}</td>\n      <td>61화에선 오랜만에 등장. 월 로제의 인류를 버린다는 선택을 한 왕정의 모습에 \"그...</td>\n    </tr>\n    <tr>\n      <th>142</th>\n      <td>mrc-0-001254</td>\n      <td>스즈키 증장이 전사할 당시에 타고 있던 것은?</td>\n      <td>{'answer_start': [836], 'text': ['카누']}</td>\n      <td>일본 육군은 민다나오 섬과 레이테 섬을 스즈키 소사쿠 중장이 사령관으로 있었던 제3...</td>\n    </tr>\n    <tr>\n      <th>143</th>\n      <td>mrc-0-003289</td>\n      <td>전자부품에 특화된 종합물류서비스를 제공하는 기업의 모회사는?</td>\n      <td>{'answer_start': [55], 'text': ['알프스 전기 주식회사']}</td>\n      <td>알프스 물류(株式会社アルプス物流、Alps Logistics Co., Ltd.)는 일...</td>\n    </tr>\n    <tr>\n      <th>144</th>\n      <td>mrc-0-004435</td>\n      <td>네이딘의 하나뿐인 친구는?</td>\n      <td>{'answer_start': [48], 'text': ['크리스타']}</td>\n      <td>네이딘은 어려서부터 시니컬하고 삐딱한 성격의 소유자였다. 친구는 비교적 차분한 성격...</td>\n    </tr>\n    <tr>\n      <th>145</th>\n      <td>mrc-0-003844</td>\n      <td>바이마르 정부가 화폐를 수없이 찍어낸 이유는?</td>\n      <td>{'answer_start': [279], 'text': ['배상금을 주기 위하여']}</td>\n      <td>1919년부터 1933년까지 독일은 제 1차 세계대전 이후 세워진 바이마르 공화국이...</td>\n    </tr>\n    <tr>\n      <th>146</th>\n      <td>mrc-0-005355</td>\n      <td>본국 의회가 제정한 선언법은 식민지와 관련하여 무엇을 의미하는가?</td>\n      <td>{'answer_start': [852], 'text': ['본국 의회가 식민지에 ...</td>\n      <td>7년 전쟁(1756년 – 1763년)을 겪은 대영 제국은 무거운 부채에 허덕이고 있...</td>\n    </tr>\n    <tr>\n      <th>147</th>\n      <td>mrc-0-000521</td>\n      <td>효율적인 운영을 도와주는 열차선 배치 방법은?</td>\n      <td>{'answer_start': [42], 'text': ['속도별 배치']}</td>\n      <td>복복선의 각 복선 선로에 열차선을 배치하는 방법에는 여러가지가 있다.\\n; 속도별 ...</td>\n    </tr>\n    <tr>\n      <th>148</th>\n      <td>mrc-1-000066</td>\n      <td>쓰치야 히로시가 마지막으로 활동한 해는?</td>\n      <td>{'answer_start': [943], 'text': ['1975년']}</td>\n      <td>우스다 고등학교 시절에는 2학년 때부터 에이스로서 활약하여 1961년 추계 호쿠신에...</td>\n    </tr>\n    <tr>\n      <th>149</th>\n      <td>mrc-0-001952</td>\n      <td>어피인장함의 뒷면에 붙은 경첩은 무엇의 형태인가?</td>\n      <td>{'answer_start': [251], 'text': ['제비초리']}</td>\n      <td>부산박물관 소장 어피인장함은 사찰에 소장되어 있는 인궤(印櫃)의 일반적인 형태인 정...</td>\n    </tr>\n    <tr>\n      <th>150</th>\n      <td>mrc-0-002462</td>\n      <td>예루살렘의 공방전이 지속된 기간은?</td>\n      <td>{'answer_start': [317], 'text': ['석달']}</td>\n      <td>예루살렘에 대한 다른 공방전|예루살렘 공방전 \\n\\n\\n서기 70년의 예루살렘 공방...</td>\n    </tr>\n    <tr>\n      <th>151</th>\n      <td>mrc-1-000899</td>\n      <td>길버트 J. 체크 중령이 7월 23일 저녁에 공격을 막기 위해 준비한 곳은 어디 주...</td>\n      <td>{'answer_start': [727], 'text': ['보은군 남쪽 상용리(현...</td>\n      <td>조선인민군이 영동군으로 진격하는 사이 조선인민군 제2사단은 대전에 너무 늦게 도착해...</td>\n    </tr>\n    <tr>\n      <th>152</th>\n      <td>mrc-0-002886</td>\n      <td>조선의 민족대표들이 조선이 독립국임을 선언한 곳은?</td>\n      <td>{'answer_start': [115], 'text': ['태화관(서울시 종로구 ...</td>\n      <td>3·1독립선언서\\n 1919년 3월 1일 오후 2시 에 모이기로 했던 조선의 민족대...</td>\n    </tr>\n    <tr>\n      <th>153</th>\n      <td>mrc-0-004454</td>\n      <td>Mr.9은 라분을 무엇으로 사용하려고 했는가?</td>\n      <td>{'answer_start': [186], 'text': ['식재료']}</td>\n      <td>알라바스타 왕국에서 태어났다. 알라바스타의 왕녀 네펠타리 비비는 바로크 워크스 크로...</td>\n    </tr>\n    <tr>\n      <th>154</th>\n      <td>mrc-0-001646</td>\n      <td>1881년 리비에르의 목적지는?</td>\n      <td>{'answer_start': [119], 'text': ['하노이']}</td>\n      <td>베트남 북부에서 프랑스 개입은 하노이에 파견된 앙리 리비에르 사령관에 의해 촉진되었...</td>\n    </tr>\n    <tr>\n      <th>155</th>\n      <td>mrc-1-001534</td>\n      <td>거북이가 더 나쁘다고 하는 사람들이 문제삼는 것은?</td>\n      <td>{'answer_start': [468], 'text': ['공정']}</td>\n      <td>옛날 옛적에, 토끼와 거북이가 살고 있었다. 토끼는 매우 빨랐고, 거북이는 매우 느...</td>\n    </tr>\n    <tr>\n      <th>156</th>\n      <td>mrc-1-000918</td>\n      <td>비슷한 양의 골편이 두종류가 발견되는것으로 알 수 있는 A.수페르스테스의 몸의 형태는?</td>\n      <td>{'answer_start': [835], 'text': ['좌우대칭']}</td>\n      <td>오스트레일리아에서 발견된 것 중 가장 온전하고 풍부한 아우스트랄로할키에리아 수페르스...</td>\n    </tr>\n    <tr>\n      <th>157</th>\n      <td>mrc-0-005046</td>\n      <td>성당의 서쪽과 남쪽 부분에 난방이 가능해진 시기는?</td>\n      <td>{'answer_start': [885], 'text': ['1913년']}</td>\n      <td>사람들은 1880년대와 1890년대에 걸쳐 성당을 적절히 보수하기 위해 노력을 기울...</td>\n    </tr>\n    <tr>\n      <th>158</th>\n      <td>mrc-1-001611</td>\n      <td>빔비사라가 왕위에 오른 뒤 마가다가 지배권을 얻은 도시는 어디인가?</td>\n      <td>{'answer_start': [515], 'text': ['바라나시']}</td>\n      <td>기원전 558년에 마가다 지역의 하리얀카 씨족에서 태어났으며 기원전 544년에 당시...</td>\n    </tr>\n    <tr>\n      <th>159</th>\n      <td>mrc-0-005222</td>\n      <td>1835년 선출된 텍사스 지원군 지휘관이 제임스 보이에게 임명한 직책은?</td>\n      <td>{'answer_start': [185], 'text': ['대령']}</td>\n      <td>텍사스 혁명\\n1830년에서 1832년, 멕시코 의회는 코아우일라 테하스 주에서 영...</td>\n    </tr>\n    <tr>\n      <th>160</th>\n      <td>mrc-0-004879</td>\n      <td>2011년이후 세력이 약해진 조직은?</td>\n      <td>{'answer_start': [0], 'text': ['걸프 카르텔(카르텔 델 골...</td>\n      <td>걸프 카르텔(카르텔 델 골포: Cartel del golfo)는 타마울리파스의 마타...</td>\n    </tr>\n    <tr>\n      <th>161</th>\n      <td>mrc-1-001481</td>\n      <td>확증편향이라는 단어를 처음으로 인용한 것은 누구인가?</td>\n      <td>{'answer_start': [72], 'text': ['피터 케스카트 왓슨']}</td>\n      <td>인지심리학의 발달과 함께 확증 편향은 인간의 인지 특징 가운데 하나로 지목되었다. ...</td>\n    </tr>\n    <tr>\n      <th>162</th>\n      <td>mrc-0-003637</td>\n      <td>입자들의 속도가 줄 때, 방출되는 에너지가 만들어내는 것은?</td>\n      <td>{'answer_start': [435], 'text': ['충격파']}</td>\n      <td>태양권계면(Heliopause)은 천문학에서 태양의 태양풍을 성간매질이 멈추게 하는...</td>\n    </tr>\n    <tr>\n      <th>163</th>\n      <td>mrc-0-003882</td>\n      <td>10월 1일 북진으로 압록강 근처까지 전쟁 지역을 이르게 한 부대는?</td>\n      <td>{'answer_start': [531], 'text': ['대한민국 3보병사단']}</td>\n      <td>1949년 5월경, 북조선은 미군이 가까운 시일 안에 한국에서 철수할 수도 있다고 ...</td>\n    </tr>\n    <tr>\n      <th>164</th>\n      <td>mrc-1-001285</td>\n      <td>캠벨에게 원주민 성직자 양성의 중요성을 일깨워준 사람은?</td>\n      <td>{'answer_start': [234], 'text': ['우리의 훌륭한 중국 동...</td>\n      <td>캠벨은 1871년 청나라가 다스리는 대만에 도착해 대만 남부(현대의 타이난)에 자리...</td>\n    </tr>\n    <tr>\n      <th>165</th>\n      <td>mrc-0-005109</td>\n      <td>학생들이 선생님과 같은 열정과 에너지를 가지게 되는 것은 무엇을 통해서인가?</td>\n      <td>{'answer_start': [811], 'text': ['감정 전염']}</td>\n      <td>(1) 열정\\n 수업 과정과 학생들에게 열정을 보이는 교사는 긍정적인 학습 경험을 ...</td>\n    </tr>\n    <tr>\n      <th>166</th>\n      <td>mrc-1-001455</td>\n      <td>토큰링이 빠른 속도로 퇴보하는데 영향을 준 기술은?</td>\n      <td>{'answer_start': [803], 'text': ['스위치 이더넷']}</td>\n      <td>초기인 1985년의 토큰링 네트워크는 전송속도가 4Mbps였지만, 1989년에 IB...</td>\n    </tr>\n    <tr>\n      <th>167</th>\n      <td>mrc-0-001274</td>\n      <td>중고령자의 채취업 활성화로 경제 주체마저 옮겨가는 바람에 생기는 부작용 중 하나는?</td>\n      <td>{'answer_start': [365], 'text': ['소비감소']}</td>\n      <td>취업 빙하기가 진행되는 과정에서는 미취직자, 무직자가 급증하는데 이는 생산성 감소 ...</td>\n    </tr>\n    <tr>\n      <th>168</th>\n      <td>mrc-1-000855</td>\n      <td>1901년에 연기로 인해 타격을 받아 황폐한 마을이 되어버린 곳은?</td>\n      <td>{'answer_start': [357], 'text': ['마츠키 촌']}</td>\n      <td>그 이후, 와타라세 천에서 취수를 한 밭이나, 홍수 뒤 아시오에서 흘러나온 토사가 ...</td>\n    </tr>\n    <tr>\n      <th>169</th>\n      <td>mrc-0-003587</td>\n      <td>조현병은 무엇으로 오해하기 쉬운가?</td>\n      <td>{'answer_start': [929], 'text': ['사춘기에서 흔히 볼 수...</td>\n      <td>조현병은 환각, 망상, 사고장애 등의 특징적 증상이 나타나기 전 수개월에서 수년에 ...</td>\n    </tr>\n    <tr>\n      <th>170</th>\n      <td>mrc-0-005031</td>\n      <td>탄수화물의 최종적 분해가 이루어지는 곳은?</td>\n      <td>{'answer_start': [1190], 'text': ['시트르산 회로']}</td>\n      <td>지방산 합성\\n동물에서 지방산은 간, 지방 조직, 수유 중에 젖샘에서 주로 탄수화물...</td>\n    </tr>\n    <tr>\n      <th>171</th>\n      <td>mrc-0-005154</td>\n      <td>수행에 대해 근본적으로 의문을 제기함으로써 영적 수행자의 수행 의지를 갉아먹는 것은...</td>\n      <td>{'answer_start': [502], 'text': ['아케디아']}</td>\n      <td>에바그리오스는 《수행론》에서 영적 수행을 실천하는 수도사를 괴롭히는 유혹과 어려움에...</td>\n    </tr>\n    <tr>\n      <th>172</th>\n      <td>mrc-0-000477</td>\n      <td>알베르가 에마뉘엘을 \"성 에마뉘엘\"로 부른 것은 무엇 때문인가?</td>\n      <td>{'answer_start': [171], 'text': ['에마뉘엘의 과시하는 듯...</td>\n      <td>젊은 부부는 결혼 초반부터 뇌이쉬르센 보르게즈 로(路, Rue Borghèse) 1...</td>\n    </tr>\n    <tr>\n      <th>173</th>\n      <td>mrc-0-002513</td>\n      <td>네거티브 광고를 할 때 기업은 법적인 문제 외에 또 무엇을 생각해야 하는가?</td>\n      <td>{'answer_start': [296], 'text': ['소비자들의 반응']}</td>\n      <td>네거티브 광고(Negative Marketing)는 금기시되는 소재를 활용하거나 사...</td>\n    </tr>\n    <tr>\n      <th>174</th>\n      <td>mrc-0-003022</td>\n      <td>아길루프의 요구에 의해 보니파시오 4세에게 서신을 쓴 사람은?</td>\n      <td>{'answer_start': [843], 'text': ['아일랜드 선교자 골룸바...</td>\n      <td>보니파시오 4세는 발레리아 태생의 마르시인이자 의사인 요한네스의 아들이다. 교황 보...</td>\n    </tr>\n    <tr>\n      <th>175</th>\n      <td>mrc-1-000946</td>\n      <td>나오치카는 주살의 위험을 피해 누구의 영지로 도망갔나요?</td>\n      <td>{'answer_start': [161], 'text': ['다케다']}</td>\n      <td>덴분 13년(1544년), 오노 마사나오의 참언에 의해 아버지를 이마가와 요시모토에...</td>\n    </tr>\n    <tr>\n      <th>176</th>\n      <td>mrc-0-001240</td>\n      <td>기타 케이스에 기타 외의 물건이 있는 인물은 어떤 역할 인가요?</td>\n      <td>{'answer_start': [174], 'text': ['악당']}</td>\n      <td>기묘한 정적이 감도는 한 마을에 마리아치 가수 엘 마리아치(El Mariachi: ...</td>\n    </tr>\n    <tr>\n      <th>177</th>\n      <td>mrc-0-001110</td>\n      <td>《탄이초》의 작자에 가장 적합한 인물로 알려진 것은?</td>\n      <td>{'answer_start': [362], 'text': ['유이엔']}</td>\n      <td>현존하는 가장 오래된 사본 중에도 《탄이초》의 저자명은 없으며, 현재까지 밝혀진 바...</td>\n    </tr>\n    <tr>\n      <th>178</th>\n      <td>mrc-0-003149</td>\n      <td>베르니츠 강과 라슈트 강이 만나는 곳 부근에서 코네티컷 연대와 만나 전투를 벌였던 ...</td>\n      <td>{'answer_start': [335], 'text': ['트레뻬제 부대']}</td>\n      <td>7월 6일 아침, 영국 육군은 조지 호수의 북쪽 해안에 상륙을 시작했다. 에버크롬비...</td>\n    </tr>\n    <tr>\n      <th>179</th>\n      <td>mrc-0-004132</td>\n      <td>면역력이 약해져서 아시클로버의 약효가 발휘되지 않을 때 쓰는 것은 무엇인가?</td>\n      <td>{'answer_start': [390], 'text': ['포스카르네트']}</td>\n      <td>다른 중추신경계통의 바이러스 감염증과 마찬가지로 항바이러스제를 정맥주사하는 것으로 ...</td>\n    </tr>\n    <tr>\n      <th>180</th>\n      <td>mrc-0-005300</td>\n      <td>동맹항에서의 교역에서 세금을 내지 않으려면 지참해야 하는 것은 무엇인가?</td>\n      <td>{'answer_start': [127], 'text': ['면세증']}</td>\n      <td>:\\n; 교역\\n:* 첫 번째 시리즈처럼, 어느 도시에서 사들인 상품을 다른 도시로...</td>\n    </tr>\n    <tr>\n      <th>181</th>\n      <td>mrc-0-004203</td>\n      <td>동궁전 화재에서 인종을 구한 사람은 누구인가?</td>\n      <td>{'answer_start': [285], 'text': ['숙의 정씨']}</td>\n      <td>한번은 동궁에 불이 붙었는데 빈궁이 옆에서 잠자다 깨어 발을 구르면서 얼른 뛰쳐나가...</td>\n    </tr>\n    <tr>\n      <th>182</th>\n      <td>mrc-0-003566</td>\n      <td>굿보이'에 대한 비판글이 올라온 곳은?</td>\n      <td>{'answer_start': [58], 'text': ['남성연대 홈페이지']}</td>\n      <td>2012년 5월 22일 시민운동 단체 남성연대는 굿보이의 음원유통금지 가처분 신청을...</td>\n    </tr>\n    <tr>\n      <th>183</th>\n      <td>mrc-0-002926</td>\n      <td>봉은사 영산전 석가불상의 색을 다시 칠한 시기는?</td>\n      <td>{'answer_start': [1018], 'text': ['1895년']}</td>\n      <td>현재 봉은사 대웅전 뒤편에 소재한 영산전에 봉안되어 있는 목조석가불좌상과 목조가섭존...</td>\n    </tr>\n    <tr>\n      <th>184</th>\n      <td>mrc-0-000536</td>\n      <td>코페르니쿠스의 지동설에 대한 내용으로 그의 사후에 발간된 책은?</td>\n      <td>{'answer_start': [379], 'text': ['《천체의 회전에 관하여...</td>\n      <td>코페르니쿠스의 지동설이 등장하기 전까지, 태양계 천체의 움직임은 주로 프톨레마이오스...</td>\n    </tr>\n    <tr>\n      <th>185</th>\n      <td>mrc-0-003848</td>\n      <td>요나미네가 야쿠자 팬으로부터 협박을 받았던 도시는 어디였는가?</td>\n      <td>{'answer_start': [738], 'text': ['히로시마']}</td>\n      <td>일본어는 일상 회화라면 충분히 이해할 수 있지만 읽고 쓰기는 거의 못했고 섬세한 표...</td>\n    </tr>\n    <tr>\n      <th>186</th>\n      <td>mrc-0-003760</td>\n      <td>박정희 전 대통령이 활주로가 있던 자리에 새로 지은 것은?</td>\n      <td>{'answer_start': [884], 'text': ['5·16 광장(여의도 ...</td>\n      <td>여의도는 원래 불모지로, 군사 훈련장으로 쓰이기도 했다. 일제는 표면상으로는 민간항...</td>\n    </tr>\n    <tr>\n      <th>187</th>\n      <td>mrc-0-001989</td>\n      <td>행정청사 옥상으로 피신했던 직원들이 알고 있었던 쓰나미의 높이는?</td>\n      <td>{'answer_start': [514], 'text': ['6m']}</td>\n      <td>2011년 3월 11일, 도호쿠 지방 태평양 해역 지진이 일어났다. 당초에는 쓰나미...</td>\n    </tr>\n    <tr>\n      <th>188</th>\n      <td>mrc-0-004863</td>\n      <td>윤진학이 동아찬영회에 들어가기 전에 속해있었던 곳은?</td>\n      <td>{'answer_start': [243], 'text': ['이등공송덕비건의소']}</td>\n      <td>동아찬영회(東亞讚英會)는 이토 히로부미가 안중근에게 살해된 후 그의 공덕을 기리기 ...</td>\n    </tr>\n    <tr>\n      <th>189</th>\n      <td>mrc-1-000714</td>\n      <td>태양풍을 멈추게 하는 것과 말단 충격의 틈을 무엇이라 부르는가?</td>\n      <td>{'answer_start': [609], 'text': ['헬리오시스']}</td>\n      <td>태양권계면(Heliopause)은 천문학에서 태양의 태양풍을 성간매질이 멈추게 하는...</td>\n    </tr>\n    <tr>\n      <th>190</th>\n      <td>mrc-0-003211</td>\n      <td>여자가 안드레우치오의 디 피에트로에 대한 정보를 얻었던 인물은?</td>\n      <td>{'answer_start': [209], 'text': ['할머니']}</td>\n      <td>안드레우치오 디 피에트로는 하룻밤 사이에 온갖 우여곡절을 겪은 사람이다. 안드레우치...</td>\n    </tr>\n    <tr>\n      <th>191</th>\n      <td>mrc-1-001173</td>\n      <td>&lt;석탄형성에 관한 관찰 기록&gt;은 무엇에 관한 내용인가?</td>\n      <td>{'answer_start': [444], 'text': ['탄광']}</td>\n      <td>경기도 이천에서 출생하였다. 한양대 국문과 및 동 대학원을 졸업하였고, 단국대학교 ...</td>\n    </tr>\n    <tr>\n      <th>192</th>\n      <td>mrc-0-005360</td>\n      <td>아이작 웨인의 아버지가 세상을 떠난 것은 몇 년도인가?</td>\n      <td>{'answer_start': [864], 'text': ['1796년']}</td>\n      <td>북서 인디언 전쟁\\n조지 워싱턴 대통령이 미국에게 비관적인 상황이 계속되고 있었던 ...</td>\n    </tr>\n    <tr>\n      <th>193</th>\n      <td>mrc-1-000096</td>\n      <td>타코벨과 달리 대한민국에서 많은 성과를 달성했던 업체는?</td>\n      <td>{'answer_start': [79], 'text': ['피자헛']}</td>\n      <td>대한민국에서 타코벨은 피자헛을 운영하는 업체에서 1991년에 도입 했으나, 당시 기...</td>\n    </tr>\n    <tr>\n      <th>194</th>\n      <td>mrc-0-003467</td>\n      <td>8월 18일 대구역 근처에 박격포를 쏜 적군은 어디에서 침투했나?</td>\n      <td>{'answer_start': [302], 'text': ['가산']}</td>\n      <td>이날 18일 저녁 북한군은 전차 5대를 포함한 보전협동 공격을 기도하였다. 북한군은...</td>\n    </tr>\n    <tr>\n      <th>195</th>\n      <td>mrc-1-000593</td>\n      <td>1988년에 영국에 있는 파커의 공장을 찾아온 정치인은?</td>\n      <td>{'answer_start': [781], 'text': ['마거릿 대처 전 영국수...</td>\n      <td>1888년, 교사로 재직하던 조지 새포트 파커(George Safford Parke...</td>\n    </tr>\n    <tr>\n      <th>196</th>\n      <td>mrc-0-001001</td>\n      <td>소프트웨어 공학이 이전과는 다른 분야로 나아가게 된 계기는?</td>\n      <td>{'answer_start': [59], 'text': ['디지털 컴퓨터']}</td>\n      <td>디지털 컴퓨터의 발명 이전부터 전자 공학 등 공학에서는 시스템이라는 용어를 일반적으...</td>\n    </tr>\n    <tr>\n      <th>197</th>\n      <td>mrc-1-001567</td>\n      <td>아카키우스 분열은 얼마나 유지됐는가?</td>\n      <td>{'answer_start': [995], 'text': ['35년']}</td>\n      <td>교황 펠릭스 3세( Felix PP. III, Papa Felice III)는 제4...</td>\n    </tr>\n    <tr>\n      <th>198</th>\n      <td>mrc-1-000132</td>\n      <td>브라니미르의 뒤를 이어 크로아티아 공작의 직위를 승계받은 인물은?</td>\n      <td>{'answer_start': [524], 'text': ['트르피미로비치 왕조(T...</td>\n      <td>879년 크닌 인근에서 비잔티움 제국의 지원을 받고 있던 즈데슬라브(Zdeslav)...</td>\n    </tr>\n    <tr>\n      <th>199</th>\n      <td>mrc-0-000787</td>\n      <td>볼드윈이 \"당신들은 나를 야유합니까?\"라는 말을 한 연도는?</td>\n      <td>{'answer_start': [327], 'text': ['1947년']}</td>\n      <td>퇴임에서 볼드윈의 세월은 조용하였다. 네빌 체임벌린이 사망하면서 전쟁 이전의 유화 ...</td>\n    </tr>\n    <tr>\n      <th>200</th>\n      <td>mrc-0-001494</td>\n      <td>대형 변압기 수송에 사용되는 전용선은?</td>\n      <td>{'answer_start': [442], 'text': ['아이치 전기 전용선']}</td>\n      <td>전용선 발착의 컨테이너 화물, 전용선 발착의 차급 화물을 취급하고 있다. 화물 열차...</td>\n    </tr>\n    <tr>\n      <th>201</th>\n      <td>mrc-0-003146</td>\n      <td>타지마할의 실제 구조를 밝히는데 도움을 준 것은?</td>\n      <td>{'answer_start': [789], 'text': [''달빛 정원'(Moon...</td>\n      <td>타지마할의 정원은 한 변의 길이가 약 300m에 이르는 페르시아 양식과 힌두 양식이...</td>\n    </tr>\n    <tr>\n      <th>202</th>\n      <td>mrc-0-004411</td>\n      <td>자기장의 강도가 높아짐에 따라 페르미 면 외부로 옮겨지는 것의 명칭은?</td>\n      <td>{'answer_start': [693], 'text': ['란다우 튜브']}</td>\n      <td>일반적으로 금속 내 전자에 자기장이 가해지면 그 전자는 로런츠 힘을 받아 자기장에 ...</td>\n    </tr>\n    <tr>\n      <th>203</th>\n      <td>mrc-1-001622</td>\n      <td>나가시마의 은퇴경기는 무엇 때문에 미뤄졌나?</td>\n      <td>{'answer_start': [406], 'text': ['우천']}</td>\n      <td>1974년 10월 12일, 주니치의 리그 우승이 확정되면서 요미우리의 리그 10연패...</td>\n    </tr>\n    <tr>\n      <th>204</th>\n      <td>mrc-0-002887</td>\n      <td>그녀의 첫 작품이 데뷔한 곳은?</td>\n      <td>{'answer_start': [214], 'text': ['＜젊은 근위대＞']}</td>\n      <td>빅토리야 토카레바는 1937년 레닌그라드(지금의 상트페테르부르크)에서 태어났다. 1...</td>\n    </tr>\n    <tr>\n      <th>205</th>\n      <td>mrc-0-003437</td>\n      <td>송이 금에게 바친 공물은 은 30만량과 비단 몇 필인가?</td>\n      <td>{'answer_start': [163], 'text': ['10만필']}</td>\n      <td>요나라와의 전연의 맹세에 지불한 것으로 알려진 재물은 비단 20만필, 은 10만량이...</td>\n    </tr>\n    <tr>\n      <th>206</th>\n      <td>mrc-1-001121</td>\n      <td>미래의 군사 능력은 무엇의 능력에 의해 결정되는가?</td>\n      <td>{'answer_start': [226], 'text': ['군대']}</td>\n      <td>유럽 연합(EU)에서는 다음 과 같은 세 가지 주요 영역에 초점을 맞춘 역량 이사회...</td>\n    </tr>\n    <tr>\n      <th>207</th>\n      <td>mrc-0-005286</td>\n      <td>카를로 말라테스타가 포로로 잡혀간 전쟁은?</td>\n      <td>{'answer_start': [471], 'text': ['차고나라 전투']}</td>\n      <td>밀라노 공작 필리포 마리아 비스콘티의 영토 야망에 맞서 발생한 4번 중 첫 번째 전...</td>\n    </tr>\n    <tr>\n      <th>208</th>\n      <td>mrc-1-000295</td>\n      <td>푸에르토리코의 미카엘 곤살레스 선수가 참가하고자 했던 동계올림픽의 종목은?</td>\n      <td>{'answer_start': [33], 'text': ['봅슬레이']}</td>\n      <td>2002년 솔트레이크시티 올림픽 대회를 앞두고 푸에르토리코 봅슬레이 팀이 꾸려졌지만...</td>\n    </tr>\n    <tr>\n      <th>209</th>\n      <td>mrc-0-000159</td>\n      <td>마오를 직접적으로 죽인 사람은?</td>\n      <td>{'answer_start': [301], 'text': ['일등병 토머스']}</td>\n      <td>일등병 로버트 M 스토비는 분대에 함께 있었지만 이 일에 가담하지는 않았다. 작전을...</td>\n    </tr>\n    <tr>\n      <th>210</th>\n      <td>mrc-0-004725</td>\n      <td>워너가 자신의 회사를 매도했던 해는?</td>\n      <td>{'answer_start': [1290], 'text': ['1966년']}</td>\n      <td>제2차 세계 대전이 일어난 동안 워너는 다시 전쟁의 노력을 후원하였다. 그는 미국 ...</td>\n    </tr>\n    <tr>\n      <th>211</th>\n      <td>mrc-0-004837</td>\n      <td>조르댕의 딸은 누구를 좋아하는가?</td>\n      <td>{'answer_start': [579], 'text': ['클레몽트']}</td>\n      <td>하녀인 니콜이 조르댕의 옷차림을 보고 웃음보가 터져나온다. 화가난 조르댕은 손님들이...</td>\n    </tr>\n    <tr>\n      <th>212</th>\n      <td>mrc-1-000507</td>\n      <td>동도서기라는 구호를 사용한 나라에서 처음 서구화와 접한 시기는?</td>\n      <td>{'answer_start': [549], 'text': ['17세기 조선 시대']}</td>\n      <td>서구화에 대한 일반적인 반응은 근본주의, 보호주의 또는 포용력을 다양한 수준으로 포...</td>\n    </tr>\n    <tr>\n      <th>213</th>\n      <td>mrc-0-001719</td>\n      <td>극처럼 점단위 공격이 가능한 무기는?</td>\n      <td>{'answer_start': [369], 'text': ['모']}</td>\n      <td>극(戟)은 고대 중국에 있던, 과와 모의 기능을 갖춘 무기이다. 전국시대에 많이 사...</td>\n    </tr>\n    <tr>\n      <th>214</th>\n      <td>mrc-0-001253</td>\n      <td>미국 남부 지방에서 급격하게 영국산 제품이 많이 팔린 계기가 된 조치는?</td>\n      <td>{'answer_start': [1056], 'text': ['수입 금지 조치']}</td>\n      <td>통상금지법(Embargo Act of 1807)은 1807년에 미국 의회에서 통과된...</td>\n    </tr>\n    <tr>\n      <th>215</th>\n      <td>mrc-1-001270</td>\n      <td>샤이닝 폼을 무엇이라고 칭하기도 하나요?</td>\n      <td>{'answer_start': [70], 'text': ['\"광휘에의 각성\"(코키에...</td>\n      <td>샤이닝 폼(Shining form, 샤이닝구 폼)은 버닝 폼 상태에서 태양의 빛을 ...</td>\n    </tr>\n    <tr>\n      <th>216</th>\n      <td>mrc-0-005324</td>\n      <td>악단이 재정적으로 힘들 때 단원들은 어디서 돈을 벌었는가?</td>\n      <td>{'answer_start': [574], 'text': ['카바레나 클럽']}</td>\n      <td>1940년에 건립된 차이콥스키 콘서트 홀을 주요 공연장으로 사용하고 있다. 보통 콘...</td>\n    </tr>\n    <tr>\n      <th>217</th>\n      <td>mrc-0-005105</td>\n      <td>정부의 성향이 진보에 가까울 때 사법적극주의를 띠는 법원은 어떤 성향을 갖나?</td>\n      <td>{'answer_start': [525], 'text': ['보수']}</td>\n      <td>사법적극주의(judicial activism)은 법해석과 판결에 있어서 법문언에만 ...</td>\n    </tr>\n    <tr>\n      <th>218</th>\n      <td>mrc-1-000983</td>\n      <td>블랙워치의 지도자가 게임에서 불리는 이름은 무엇인가?</td>\n      <td>{'answer_start': [418], 'text': ['리퍼']}</td>\n      <td>오버워치#줄거리\\n\\n오버워치는 60년 이후 지구의 소설화된 미래를 배경으로 삼고 ...</td>\n    </tr>\n    <tr>\n      <th>219</th>\n      <td>mrc-0-002718</td>\n      <td>통합진보당 해산 청구에 관한 안건을 의결한 기구는?</td>\n      <td>{'answer_start': [391], 'text': ['국무회의']}</td>\n      <td>2013년 8월 국가정보원, 검찰 등에 의하여 적발된 '이석기 내란음모선동 사건' ...</td>\n    </tr>\n    <tr>\n      <th>220</th>\n      <td>mrc-0-001552</td>\n      <td>화순 춘산영당에 소장된 최익현의 초상화는 무엇에다 그린 것인가?</td>\n      <td>{'answer_start': [52], 'text': ['비단']}</td>\n      <td>화순 춘산영당에 소장된 면암 최익현의 초상은 1911년 4월에 석지 채용신이 그린 ...</td>\n    </tr>\n    <tr>\n      <th>221</th>\n      <td>mrc-0-003752</td>\n      <td>제6회 전조선축구대회가 진행된 기간은?</td>\n      <td>{'answer_start': [28], 'text': ['사흘']}</td>\n      <td>제6회 전조선축구대회는 1925년 4월 28일부터 사흘간 일제강점기 조선 경성부에 ...</td>\n    </tr>\n    <tr>\n      <th>222</th>\n      <td>mrc-0-004530</td>\n      <td>대제학을 지낼 수 있는 유일한 사람은?</td>\n      <td>{'answer_start': [174], 'text': ['모든 관직을 거친 대과...</td>\n      <td>특히 변계량은 조선시대 대제학을 20년 지낸 당대 최고의 학문 권위자다. 권력이나 ...</td>\n    </tr>\n    <tr>\n      <th>223</th>\n      <td>mrc-0-003057</td>\n      <td>센니치마에 선의 관리권은 어디에 있나?</td>\n      <td>{'answer_start': [63], 'text': ['오사카']}</td>\n      <td>역전의 시오미바시 교차점에서 신나니와도리와 센니치마에도리가 교차한다. 역을 나와서 ...</td>\n    </tr>\n    <tr>\n      <th>224</th>\n      <td>mrc-0-003850</td>\n      <td>배현경과 신숭겸 등이 일을 꾀하여 찾아간 인물의 부인은 누구인가?</td>\n      <td>{'answer_start': [1085], 'text': ['제1부인']}</td>\n      <td>918년 배현경, 신숭겸, 복지겸과 함께 몰래 모의하여 밤에 태조 왕건의 집으로 찾...</td>\n    </tr>\n    <tr>\n      <th>225</th>\n      <td>mrc-0-003262</td>\n      <td>십자군 설교를 통해 집한한 자들은?</td>\n      <td>{'answer_start': [440], 'text': ['빈자의 십자군']}</td>\n      <td>클레멘스 5세는 중국의 복음화를 위해 이탈리아의 프란치스코회 선교사 조반니 다 몬테...</td>\n    </tr>\n    <tr>\n      <th>226</th>\n      <td>mrc-0-001650</td>\n      <td>한국을 '형제의 나라'라고 칭한 나라는 어디인가요?</td>\n      <td>{'answer_start': [166], 'text': ['멕시코']}</td>\n      <td>전세계적으로 독일의 탈락을 기뻐하는 태도를 보였으며 당사자인 독일과 독일 대표팀의 ...</td>\n    </tr>\n    <tr>\n      <th>227</th>\n      <td>mrc-0-004662</td>\n      <td>정상적인 조건에서 아라키돈 산이 염증을 일으키는데 필요한 물질은?</td>\n      <td>{'answer_start': [14], 'text': ['지질 과산화 생성물']}</td>\n      <td>아라키돈산의 섭취 증가는 지질 과산화 생성물이 혼합되지 않는 한 정상적인 대사 조건...</td>\n    </tr>\n    <tr>\n      <th>228</th>\n      <td>mrc-0-003759</td>\n      <td>페루치가 피사에서 한달을 지체한 이유는 무엇인가?</td>\n      <td>{'answer_start': [605], 'text': ['독감']}</td>\n      <td>상인의 직원으로 몇년을 보낸 후, 그는 어린 나이에 군인 생활을 시작하였으며 조반니...</td>\n    </tr>\n    <tr>\n      <th>229</th>\n      <td>mrc-1-001279</td>\n      <td>갑훈에 의해 1천만여 전의 뇌물을 받았다는 사실이 밝혀진 인물은?</td>\n      <td>{'answer_start': [592], 'text': ['양당(楊黨)']}</td>\n      <td>영제가 갑훈에게 백성들이 반란을 일으키는 이유를 묻자, 갑훈이 답하였다.\\n총애를 ...</td>\n    </tr>\n    <tr>\n      <th>230</th>\n      <td>mrc-0-001960</td>\n      <td>성직자들의 실체에 대해 말한 용병의 기사는 누가 작성하였나요?</td>\n      <td>{'answer_start': [207], 'text': ['슈바이츠 암 존탁']}</td>\n      <td>이들 스위스 용병들은 동성애자 사제들에게 성추행에 시달리기도 한다. 바티칸의 경비를...</td>\n    </tr>\n    <tr>\n      <th>231</th>\n      <td>mrc-0-001162</td>\n      <td>러셀은 누구의 가족과 함께 1889년 파리 박람회에 갔는가?</td>\n      <td>{'answer_start': [215], 'text': ['퀘이커 교도였던 앨리스...</td>\n      <td>러셀은 1890년 케임브리지 대학교의 트리니티 칼리지에 장학생으로 들어갔다. 그는 ...</td>\n    </tr>\n    <tr>\n      <th>232</th>\n      <td>mrc-0-004565</td>\n      <td>1표로 간주하기 위한 의견 수렴 방식은?</td>\n      <td>{'answer_start': [242], 'text': ['다수결']}</td>\n      <td>트리부스 민회(Comitia Tributa)는 로마 공화국 사회에서 행정과 관련된 ...</td>\n    </tr>\n    <tr>\n      <th>233</th>\n      <td>mrc-0-000754</td>\n      <td>데이비드 스튜어트는 누구의 해독방법을 다른 지협 문자 자료에 적용해보았나요?</td>\n      <td>{'answer_start': [373], 'text': ['코프먼과 저스티슨']}</td>\n      <td>과거에 미헤소케어족은 지금보다 훨씬 넓은, 과테말라 태평양 연안(소코누스코 지역)에...</td>\n    </tr>\n    <tr>\n      <th>234</th>\n      <td>mrc-1-000024</td>\n      <td>인적 성과와 더불어 기업의 성과를 평가하는 요소는?</td>\n      <td>{'answer_start': [491], 'text': ['물적 성과(物的成果)']}</td>\n      <td>인사고과는 조직내의 각종 직무에 종사하고 있는 종업원의 근무성적이나 능력 등을 그 ...</td>\n    </tr>\n    <tr>\n      <th>235</th>\n      <td>mrc-0-000484</td>\n      <td>전단이 연나라와의 전쟁에서 승리했을 당시 제나라의 왕은 누구인가?</td>\n      <td>{'answer_start': [1084], 'text': ['제 양왕']}</td>\n      <td>연나라 군대의 사령관이 악의에서 기겁으로 교체되자, 전단은 스스로 신령의 계시를 받...</td>\n    </tr>\n    <tr>\n      <th>236</th>\n      <td>mrc-0-002095</td>\n      <td>공놀이 경기장 중 일부는 어디에 위치하고 있나?</td>\n      <td>{'answer_start': [343], 'text': [''일곱 개의 신전 광장...</td>\n      <td>현재 우리가 볼 수 있는 티칼의 모습은 펜실베이니아 대학교와 과테말라 정부의 협조 ...</td>\n    </tr>\n    <tr>\n      <th>237</th>\n      <td>mrc-0-003083</td>\n      <td>창씨개명령의 시행일을 미루는 것을 수락한 인물은?</td>\n      <td>{'answer_start': [247], 'text': ['미나미 지로']}</td>\n      <td>1940년 5월 1일 오전 창씨개명에 비협조적이라는 이유로 조선총독부 경무국에서 소...</td>\n    </tr>\n    <tr>\n      <th>238</th>\n      <td>mrc-0-002978</td>\n      <td>망코 잉카가 쿠스코를 되찾기 위해 마련한 군사는 총 몇 명인가?</td>\n      <td>{'answer_start': [563], 'text': ['200,000명']}</td>\n      <td>빌카밤바 지역은 파차쿠티 황제 때 부터 잉카 제국에 속해있던 지역이었다. 스페인 군...</td>\n    </tr>\n    <tr>\n      <th>239</th>\n      <td>mrc-1-000622</td>\n      <td>마르크스주의자들의 사상은?</td>\n      <td>{'answer_start': [811], 'text': ['공산주의']}</td>\n      <td>사회주의 혁명은 오로지 선진노동자계급에 기초한 계급투쟁으로서 이루어질 수 있다고 주...</td>\n    </tr>\n  </tbody>\n</table>\n</div>"
     },
     "metadata": {},
     "execution_count": 9
    }
   ],
   "source": [
    "pd.set_option('display.max_rows', 240)\n",
    "test2[['id','question','answers','context']][:240]"
   ]
  },
  {
   "cell_type": "code",
   "execution_count": 5,
   "metadata": {},
   "outputs": [],
   "source": [
    "test[['id','question','answers','context']].to_csv('./klutrain.csv')\n",
    "test2[['id','question','answers','context']].to_csv('./kluval.csv')\n"
   ]
  },
  {
   "cell_type": "code",
   "execution_count": 7,
   "metadata": {
    "tags": []
   },
   "outputs": [],
   "source": [
    "with open('./MRC_Baseline_Code/data/vocab.txt', encoding=\"utf8\") as f:\n",
    "    lines = f.readlines()\n",
    "with open('./MRC_Baseline_Code/data/large_v2_32k_vocab.txt', encoding=\"utf8\") as f:\n",
    "    lines2 = f.readlines()\n",
    "with open('./MRC_Baseline_Code/data/large_v1_32k_vocab.txt', encoding=\"utf8\") as f:\n",
    "    lines3 = f.readlines()"
   ]
  },
  {
   "cell_type": "code",
   "execution_count": 8,
   "metadata": {
    "tags": []
   },
   "outputs": [
    {
     "output_type": "stream",
     "name": "stdout",
     "text": [
      "35000\n99000\n56539\n"
     ]
    }
   ],
   "source": [
    "print(len(lines))\n",
    "print(len(lines+lines2+lines3))\n",
    "new_vocab = set(lines+lines2+lines3)\n",
    "print(len(new_vocab))"
   ]
  },
  {
   "cell_type": "code",
   "execution_count": 9,
   "metadata": {},
   "outputs": [],
   "source": [
    "new_vocab = [i for i in new_vocab if \"unused\" not in i]"
   ]
  },
  {
   "cell_type": "code",
   "execution_count": 10,
   "metadata": {},
   "outputs": [],
   "source": [
    "with open('./MRC_Baseline_Code/data/total_vocab.txt', encoding=\"utf8\", mode='w') as f:\n",
    "    f.writelines(new_vocab)"
   ]
  },
  {
   "cell_type": "code",
   "execution_count": 11,
   "metadata": {},
   "outputs": [
    {
     "output_type": "execute_result",
     "data": {
      "text/plain": [
       "55539"
      ]
     },
     "metadata": {},
     "execution_count": 11
    }
   ],
   "source": [
    "len(new_vocab)"
   ]
  },
  {
   "cell_type": "code",
   "execution_count": null,
   "metadata": {},
   "outputs": [],
   "source": []
  }
 ]
}